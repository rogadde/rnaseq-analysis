{
 "cells": [
  {
   "cell_type": "markdown",
   "id": "73ec89e7",
   "metadata": {},
   "source": [
    "Code adapted from https://tavareshugo.github.io/data-carpentry-rnaseq/03_rnaseq_pca.html"
   ]
  },
  {
   "cell_type": "code",
   "execution_count": 1,
   "id": "002a9ed8",
   "metadata": {},
   "outputs": [
    {
     "name": "stderr",
     "output_type": "stream",
     "text": [
      "── \u001b[1mAttaching packages\u001b[22m ────────────────────────────────────────────────────────────────── tidyverse 1.3.1 ──\n",
      "\n",
      "\u001b[32m✔\u001b[39m \u001b[34mggplot2\u001b[39m 3.3.5     \u001b[32m✔\u001b[39m \u001b[34mpurrr  \u001b[39m 0.3.4\n",
      "\u001b[32m✔\u001b[39m \u001b[34mtibble \u001b[39m 3.1.5     \u001b[32m✔\u001b[39m \u001b[34mdplyr  \u001b[39m 1.0.7\n",
      "\u001b[32m✔\u001b[39m \u001b[34mtidyr  \u001b[39m 1.1.4     \u001b[32m✔\u001b[39m \u001b[34mstringr\u001b[39m 1.4.0\n",
      "\u001b[32m✔\u001b[39m \u001b[34mreadr  \u001b[39m 2.0.2     \u001b[32m✔\u001b[39m \u001b[34mforcats\u001b[39m 0.5.1\n",
      "\n",
      "── \u001b[1mConflicts\u001b[22m ───────────────────────────────────────────────────────────────────── tidyverse_conflicts() ──\n",
      "\u001b[31m✖\u001b[39m \u001b[34mdplyr\u001b[39m::\u001b[32mfilter()\u001b[39m masks \u001b[34mstats\u001b[39m::filter()\n",
      "\u001b[31m✖\u001b[39m \u001b[34mdplyr\u001b[39m::\u001b[32mlag()\u001b[39m    masks \u001b[34mstats\u001b[39m::lag()\n",
      "\n"
     ]
    }
   ],
   "source": [
    "library(tidyverse)\n",
    "library(ggfortify)"
   ]
  },
  {
   "cell_type": "code",
   "execution_count": 2,
   "id": "d8bd5fcc",
   "metadata": {},
   "outputs": [
    {
     "data": {
      "text/html": [
       "<table class=\"dataframe\">\n",
       "<caption>A data.frame: 6 × 61</caption>\n",
       "<thead>\n",
       "\t<tr><th></th><th scope=col>gene_id</th><th scope=col>SRR10079579</th><th scope=col>SRR10079580</th><th scope=col>SRR10079581</th><th scope=col>SRR10079582</th><th scope=col>SRR10079583</th><th scope=col>SRR10079584</th><th scope=col>SRR10079585</th><th scope=col>SRR10079586</th><th scope=col>SRR10079587</th><th scope=col>⋯</th><th scope=col>SRR10079629</th><th scope=col>SRR10079630</th><th scope=col>SRR10079631</th><th scope=col>SRR10079632</th><th scope=col>SRR10079633</th><th scope=col>SRR10079634</th><th scope=col>SRR10079635</th><th scope=col>SRR10079636</th><th scope=col>SRR10079637</th><th scope=col>SRR10079638</th></tr>\n",
       "\t<tr><th></th><th scope=col>&lt;chr&gt;</th><th scope=col>&lt;dbl&gt;</th><th scope=col>&lt;dbl&gt;</th><th scope=col>&lt;dbl&gt;</th><th scope=col>&lt;dbl&gt;</th><th scope=col>&lt;dbl&gt;</th><th scope=col>&lt;dbl&gt;</th><th scope=col>&lt;dbl&gt;</th><th scope=col>&lt;dbl&gt;</th><th scope=col>&lt;dbl&gt;</th><th scope=col>⋯</th><th scope=col>&lt;dbl&gt;</th><th scope=col>&lt;dbl&gt;</th><th scope=col>&lt;dbl&gt;</th><th scope=col>&lt;dbl&gt;</th><th scope=col>&lt;dbl&gt;</th><th scope=col>&lt;dbl&gt;</th><th scope=col>&lt;dbl&gt;</th><th scope=col>&lt;dbl&gt;</th><th scope=col>&lt;dbl&gt;</th><th scope=col>&lt;dbl&gt;</th></tr>\n",
       "</thead>\n",
       "<tbody>\n",
       "\t<tr><th scope=row>1</th><td>0610005C13Rik</td><td> 0.00</td><td> 0.00</td><td>  0.11</td><td> 0.12</td><td> 0.13</td><td> 0.00</td><td>  0.07</td><td>  0.00</td><td>  0.09</td><td>⋯</td><td>  0.24</td><td>  0.71</td><td>  0.61</td><td>  0.31</td><td>  0.26</td><td>  0.00</td><td>  0.00</td><td>  0.76</td><td>  0.60</td><td>  0.40</td></tr>\n",
       "\t<tr><th scope=row>2</th><td>0610006L08Rik</td><td> 0.00</td><td> 0.00</td><td>  0.00</td><td> 0.00</td><td> 0.00</td><td> 0.00</td><td>  0.00</td><td>  0.00</td><td>  0.00</td><td>⋯</td><td>  0.00</td><td>  0.09</td><td>  0.00</td><td>  0.09</td><td>  0.00</td><td>  0.00</td><td>  0.00</td><td>  0.00</td><td>  0.00</td><td>  0.00</td></tr>\n",
       "\t<tr><th scope=row>3</th><td>0610007P14Rik</td><td>25.72</td><td>28.72</td><td> 33.26</td><td>27.29</td><td>36.56</td><td>29.67</td><td> 37.23</td><td> 38.32</td><td> 41.11</td><td>⋯</td><td> 97.26</td><td>114.37</td><td>113.46</td><td>116.98</td><td> 81.56</td><td> 89.09</td><td>105.20</td><td>119.94</td><td>102.91</td><td> 88.46</td></tr>\n",
       "\t<tr><th scope=row>4</th><td>0610009B22Rik</td><td>94.54</td><td>94.27</td><td>119.30</td><td>69.56</td><td>96.12</td><td>79.32</td><td>111.62</td><td>115.56</td><td>101.60</td><td>⋯</td><td>108.15</td><td>124.74</td><td>130.35</td><td>131.18</td><td>129.32</td><td>132.42</td><td>134.02</td><td>138.96</td><td>123.11</td><td>108.27</td></tr>\n",
       "\t<tr><th scope=row>5</th><td>0610009E02Rik</td><td> 0.24</td><td> 0.25</td><td>  0.23</td><td> 0.36</td><td> 0.51</td><td> 0.52</td><td>  0.10</td><td>  0.49</td><td>  0.44</td><td>⋯</td><td>  2.62</td><td>  1.21</td><td>  2.84</td><td>  1.82</td><td>  1.42</td><td>  0.82</td><td>  0.75</td><td>  2.10</td><td>  2.10</td><td>  0.69</td></tr>\n",
       "\t<tr><th scope=row>6</th><td>0610009L18Rik</td><td> 7.68</td><td>16.09</td><td>  7.85</td><td>10.92</td><td>13.54</td><td> 6.86</td><td> 13.11</td><td>  9.81</td><td> 10.33</td><td>⋯</td><td> 33.30</td><td> 22.13</td><td> 36.73</td><td> 16.58</td><td> 23.77</td><td> 26.82</td><td> 32.26</td><td> 32.93</td><td> 34.86</td><td> 22.92</td></tr>\n",
       "</tbody>\n",
       "</table>\n"
      ],
      "text/latex": [
       "A data.frame: 6 × 61\n",
       "\\begin{tabular}{r|lllllllllllllllllllll}\n",
       "  & gene\\_id & SRR10079579 & SRR10079580 & SRR10079581 & SRR10079582 & SRR10079583 & SRR10079584 & SRR10079585 & SRR10079586 & SRR10079587 & ⋯ & SRR10079629 & SRR10079630 & SRR10079631 & SRR10079632 & SRR10079633 & SRR10079634 & SRR10079635 & SRR10079636 & SRR10079637 & SRR10079638\\\\\n",
       "  & <chr> & <dbl> & <dbl> & <dbl> & <dbl> & <dbl> & <dbl> & <dbl> & <dbl> & <dbl> & ⋯ & <dbl> & <dbl> & <dbl> & <dbl> & <dbl> & <dbl> & <dbl> & <dbl> & <dbl> & <dbl>\\\\\n",
       "\\hline\n",
       "\t1 & 0610005C13Rik &  0.00 &  0.00 &   0.11 &  0.12 &  0.13 &  0.00 &   0.07 &   0.00 &   0.09 & ⋯ &   0.24 &   0.71 &   0.61 &   0.31 &   0.26 &   0.00 &   0.00 &   0.76 &   0.60 &   0.40\\\\\n",
       "\t2 & 0610006L08Rik &  0.00 &  0.00 &   0.00 &  0.00 &  0.00 &  0.00 &   0.00 &   0.00 &   0.00 & ⋯ &   0.00 &   0.09 &   0.00 &   0.09 &   0.00 &   0.00 &   0.00 &   0.00 &   0.00 &   0.00\\\\\n",
       "\t3 & 0610007P14Rik & 25.72 & 28.72 &  33.26 & 27.29 & 36.56 & 29.67 &  37.23 &  38.32 &  41.11 & ⋯ &  97.26 & 114.37 & 113.46 & 116.98 &  81.56 &  89.09 & 105.20 & 119.94 & 102.91 &  88.46\\\\\n",
       "\t4 & 0610009B22Rik & 94.54 & 94.27 & 119.30 & 69.56 & 96.12 & 79.32 & 111.62 & 115.56 & 101.60 & ⋯ & 108.15 & 124.74 & 130.35 & 131.18 & 129.32 & 132.42 & 134.02 & 138.96 & 123.11 & 108.27\\\\\n",
       "\t5 & 0610009E02Rik &  0.24 &  0.25 &   0.23 &  0.36 &  0.51 &  0.52 &   0.10 &   0.49 &   0.44 & ⋯ &   2.62 &   1.21 &   2.84 &   1.82 &   1.42 &   0.82 &   0.75 &   2.10 &   2.10 &   0.69\\\\\n",
       "\t6 & 0610009L18Rik &  7.68 & 16.09 &   7.85 & 10.92 & 13.54 &  6.86 &  13.11 &   9.81 &  10.33 & ⋯ &  33.30 &  22.13 &  36.73 &  16.58 &  23.77 &  26.82 &  32.26 &  32.93 &  34.86 &  22.92\\\\\n",
       "\\end{tabular}\n"
      ],
      "text/markdown": [
       "\n",
       "A data.frame: 6 × 61\n",
       "\n",
       "| <!--/--> | gene_id &lt;chr&gt; | SRR10079579 &lt;dbl&gt; | SRR10079580 &lt;dbl&gt; | SRR10079581 &lt;dbl&gt; | SRR10079582 &lt;dbl&gt; | SRR10079583 &lt;dbl&gt; | SRR10079584 &lt;dbl&gt; | SRR10079585 &lt;dbl&gt; | SRR10079586 &lt;dbl&gt; | SRR10079587 &lt;dbl&gt; | ⋯ ⋯ | SRR10079629 &lt;dbl&gt; | SRR10079630 &lt;dbl&gt; | SRR10079631 &lt;dbl&gt; | SRR10079632 &lt;dbl&gt; | SRR10079633 &lt;dbl&gt; | SRR10079634 &lt;dbl&gt; | SRR10079635 &lt;dbl&gt; | SRR10079636 &lt;dbl&gt; | SRR10079637 &lt;dbl&gt; | SRR10079638 &lt;dbl&gt; |\n",
       "|---|---|---|---|---|---|---|---|---|---|---|---|---|---|---|---|---|---|---|---|---|---|\n",
       "| 1 | 0610005C13Rik |  0.00 |  0.00 |   0.11 |  0.12 |  0.13 |  0.00 |   0.07 |   0.00 |   0.09 | ⋯ |   0.24 |   0.71 |   0.61 |   0.31 |   0.26 |   0.00 |   0.00 |   0.76 |   0.60 |   0.40 |\n",
       "| 2 | 0610006L08Rik |  0.00 |  0.00 |   0.00 |  0.00 |  0.00 |  0.00 |   0.00 |   0.00 |   0.00 | ⋯ |   0.00 |   0.09 |   0.00 |   0.09 |   0.00 |   0.00 |   0.00 |   0.00 |   0.00 |   0.00 |\n",
       "| 3 | 0610007P14Rik | 25.72 | 28.72 |  33.26 | 27.29 | 36.56 | 29.67 |  37.23 |  38.32 |  41.11 | ⋯ |  97.26 | 114.37 | 113.46 | 116.98 |  81.56 |  89.09 | 105.20 | 119.94 | 102.91 |  88.46 |\n",
       "| 4 | 0610009B22Rik | 94.54 | 94.27 | 119.30 | 69.56 | 96.12 | 79.32 | 111.62 | 115.56 | 101.60 | ⋯ | 108.15 | 124.74 | 130.35 | 131.18 | 129.32 | 132.42 | 134.02 | 138.96 | 123.11 | 108.27 |\n",
       "| 5 | 0610009E02Rik |  0.24 |  0.25 |   0.23 |  0.36 |  0.51 |  0.52 |   0.10 |   0.49 |   0.44 | ⋯ |   2.62 |   1.21 |   2.84 |   1.82 |   1.42 |   0.82 |   0.75 |   2.10 |   2.10 |   0.69 |\n",
       "| 6 | 0610009L18Rik |  7.68 | 16.09 |   7.85 | 10.92 | 13.54 |  6.86 |  13.11 |   9.81 |  10.33 | ⋯ |  33.30 |  22.13 |  36.73 |  16.58 |  23.77 |  26.82 |  32.26 |  32.93 |  34.86 |  22.92 |\n",
       "\n"
      ],
      "text/plain": [
       "  gene_id       SRR10079579 SRR10079580 SRR10079581 SRR10079582 SRR10079583\n",
       "1 0610005C13Rik  0.00        0.00         0.11       0.12        0.13      \n",
       "2 0610006L08Rik  0.00        0.00         0.00       0.00        0.00      \n",
       "3 0610007P14Rik 25.72       28.72        33.26      27.29       36.56      \n",
       "4 0610009B22Rik 94.54       94.27       119.30      69.56       96.12      \n",
       "5 0610009E02Rik  0.24        0.25         0.23       0.36        0.51      \n",
       "6 0610009L18Rik  7.68       16.09         7.85      10.92       13.54      \n",
       "  SRR10079584 SRR10079585 SRR10079586 SRR10079587 ⋯ SRR10079629 SRR10079630\n",
       "1  0.00         0.07        0.00        0.09      ⋯   0.24        0.71     \n",
       "2  0.00         0.00        0.00        0.00      ⋯   0.00        0.09     \n",
       "3 29.67        37.23       38.32       41.11      ⋯  97.26      114.37     \n",
       "4 79.32       111.62      115.56      101.60      ⋯ 108.15      124.74     \n",
       "5  0.52         0.10        0.49        0.44      ⋯   2.62        1.21     \n",
       "6  6.86        13.11        9.81       10.33      ⋯  33.30       22.13     \n",
       "  SRR10079631 SRR10079632 SRR10079633 SRR10079634 SRR10079635 SRR10079636\n",
       "1   0.61        0.31        0.26        0.00        0.00        0.76     \n",
       "2   0.00        0.09        0.00        0.00        0.00        0.00     \n",
       "3 113.46      116.98       81.56       89.09      105.20      119.94     \n",
       "4 130.35      131.18      129.32      132.42      134.02      138.96     \n",
       "5   2.84        1.82        1.42        0.82        0.75        2.10     \n",
       "6  36.73       16.58       23.77       26.82       32.26       32.93     \n",
       "  SRR10079637 SRR10079638\n",
       "1   0.60        0.40     \n",
       "2   0.00        0.00     \n",
       "3 102.91       88.46     \n",
       "4 123.11      108.27     \n",
       "5   2.10        0.69     \n",
       "6  34.86       22.92     "
      ]
     },
     "metadata": {},
     "output_type": "display_data"
    },
    {
     "data": {
      "text/html": [
       "<table class=\"dataframe\">\n",
       "<caption>A data.frame: 6 × 6</caption>\n",
       "<thead>\n",
       "\t<tr><th></th><th scope=col>run</th><th scope=col>sample</th><th scope=col>strain</th><th scope=col>month</th><th scope=col>cell</th><th scope=col>replicate</th></tr>\n",
       "\t<tr><th></th><th scope=col>&lt;chr&gt;</th><th scope=col>&lt;chr&gt;</th><th scope=col>&lt;chr&gt;</th><th scope=col>&lt;int&gt;</th><th scope=col>&lt;chr&gt;</th><th scope=col>&lt;int&gt;</th></tr>\n",
       "</thead>\n",
       "<tbody>\n",
       "\t<tr><th scope=row>1</th><td>SRR10079579</td><td>WT2m1M</td><td>WT</td><td>2</td><td>microglia</td><td>1</td></tr>\n",
       "\t<tr><th scope=row>2</th><td>SRR10079580</td><td>WT2m2M</td><td>WT</td><td>2</td><td>microglia</td><td>2</td></tr>\n",
       "\t<tr><th scope=row>3</th><td>SRR10079581</td><td>WT2m3M</td><td>WT</td><td>2</td><td>microglia</td><td>3</td></tr>\n",
       "\t<tr><th scope=row>4</th><td>SRR10079582</td><td>WT4m1M</td><td>WT</td><td>4</td><td>microglia</td><td>1</td></tr>\n",
       "\t<tr><th scope=row>5</th><td>SRR10079583</td><td>WT4m2M</td><td>WT</td><td>4</td><td>microglia</td><td>2</td></tr>\n",
       "\t<tr><th scope=row>6</th><td>SRR10079584</td><td>WT4m3M</td><td>WT</td><td>4</td><td>microglia</td><td>3</td></tr>\n",
       "</tbody>\n",
       "</table>\n"
      ],
      "text/latex": [
       "A data.frame: 6 × 6\n",
       "\\begin{tabular}{r|llllll}\n",
       "  & run & sample & strain & month & cell & replicate\\\\\n",
       "  & <chr> & <chr> & <chr> & <int> & <chr> & <int>\\\\\n",
       "\\hline\n",
       "\t1 & SRR10079579 & WT2m1M & WT & 2 & microglia & 1\\\\\n",
       "\t2 & SRR10079580 & WT2m2M & WT & 2 & microglia & 2\\\\\n",
       "\t3 & SRR10079581 & WT2m3M & WT & 2 & microglia & 3\\\\\n",
       "\t4 & SRR10079582 & WT4m1M & WT & 4 & microglia & 1\\\\\n",
       "\t5 & SRR10079583 & WT4m2M & WT & 4 & microglia & 2\\\\\n",
       "\t6 & SRR10079584 & WT4m3M & WT & 4 & microglia & 3\\\\\n",
       "\\end{tabular}\n"
      ],
      "text/markdown": [
       "\n",
       "A data.frame: 6 × 6\n",
       "\n",
       "| <!--/--> | run &lt;chr&gt; | sample &lt;chr&gt; | strain &lt;chr&gt; | month &lt;int&gt; | cell &lt;chr&gt; | replicate &lt;int&gt; |\n",
       "|---|---|---|---|---|---|---|\n",
       "| 1 | SRR10079579 | WT2m1M | WT | 2 | microglia | 1 |\n",
       "| 2 | SRR10079580 | WT2m2M | WT | 2 | microglia | 2 |\n",
       "| 3 | SRR10079581 | WT2m3M | WT | 2 | microglia | 3 |\n",
       "| 4 | SRR10079582 | WT4m1M | WT | 4 | microglia | 1 |\n",
       "| 5 | SRR10079583 | WT4m2M | WT | 4 | microglia | 2 |\n",
       "| 6 | SRR10079584 | WT4m3M | WT | 4 | microglia | 3 |\n",
       "\n"
      ],
      "text/plain": [
       "  run         sample strain month cell      replicate\n",
       "1 SRR10079579 WT2m1M WT     2     microglia 1        \n",
       "2 SRR10079580 WT2m2M WT     2     microglia 2        \n",
       "3 SRR10079581 WT2m3M WT     2     microglia 3        \n",
       "4 SRR10079582 WT4m1M WT     4     microglia 1        \n",
       "5 SRR10079583 WT4m2M WT     4     microglia 2        \n",
       "6 SRR10079584 WT4m3M WT     4     microglia 3        "
      ]
     },
     "metadata": {},
     "output_type": "display_data"
    }
   ],
   "source": [
    "quant_matrix <- read.csv(\"../data/rsem/quant_matrix.csv\", header = T)\n",
    "sample_info <- read.csv(\"../data/sample_info.csv\", header = T)\n",
    "\n",
    "head(quant_matrix)\n",
    "head(sample_info)"
   ]
  },
  {
   "cell_type": "code",
   "execution_count": 3,
   "id": "edbbbea0",
   "metadata": {},
   "outputs": [
    {
     "data": {
      "text/html": [
       "<table class=\"dataframe\">\n",
       "<caption>A matrix: 6 × 35976 of type dbl</caption>\n",
       "<thead>\n",
       "\t<tr><th></th><th scope=col>0610005C13Rik</th><th scope=col>0610006L08Rik</th><th scope=col>0610007P14Rik</th><th scope=col>0610009B22Rik</th><th scope=col>0610009E02Rik</th><th scope=col>0610009L18Rik</th><th scope=col>0610009O20Rik</th><th scope=col>0610010B08Rik</th><th scope=col>0610010F05Rik</th><th scope=col>0610010K14Rik</th><th scope=col>⋯</th><th scope=col>n-R5s134</th><th scope=col>n-R5s136</th><th scope=col>n-R5s138</th><th scope=col>n-R5s139</th><th scope=col>n-R5s141</th><th scope=col>n-R5s142</th><th scope=col>n-R5s143</th><th scope=col>n-R5s144</th><th scope=col>n-R5s146</th><th scope=col>n-R5s149</th></tr>\n",
       "</thead>\n",
       "<tbody>\n",
       "\t<tr><th scope=row>SRR10079579</th><td>0.00</td><td>0</td><td>25.72</td><td> 94.54</td><td>0.24</td><td> 7.68</td><td>3.61</td><td>0.36</td><td>3.65</td><td>141.38</td><td>⋯</td><td>0</td><td>0</td><td>0</td><td>0</td><td>0</td><td>0</td><td>0</td><td>0</td><td>0</td><td>0</td></tr>\n",
       "\t<tr><th scope=row>SRR10079580</th><td>0.00</td><td>0</td><td>28.72</td><td> 94.27</td><td>0.25</td><td>16.09</td><td>3.00</td><td>1.10</td><td>5.64</td><td>151.89</td><td>⋯</td><td>0</td><td>0</td><td>0</td><td>0</td><td>0</td><td>0</td><td>0</td><td>0</td><td>0</td><td>0</td></tr>\n",
       "\t<tr><th scope=row>SRR10079581</th><td>0.11</td><td>0</td><td>33.26</td><td>119.30</td><td>0.23</td><td> 7.85</td><td>4.26</td><td>0.49</td><td>3.72</td><td>162.32</td><td>⋯</td><td>0</td><td>0</td><td>0</td><td>0</td><td>0</td><td>0</td><td>0</td><td>0</td><td>0</td><td>0</td></tr>\n",
       "\t<tr><th scope=row>SRR10079582</th><td>0.12</td><td>0</td><td>27.29</td><td> 69.56</td><td>0.36</td><td>10.92</td><td>3.27</td><td>0.54</td><td>3.08</td><td>122.38</td><td>⋯</td><td>0</td><td>0</td><td>0</td><td>0</td><td>0</td><td>0</td><td>0</td><td>0</td><td>0</td><td>0</td></tr>\n",
       "\t<tr><th scope=row>SRR10079583</th><td>0.13</td><td>0</td><td>36.56</td><td> 96.12</td><td>0.51</td><td>13.54</td><td>5.26</td><td>0.68</td><td>6.24</td><td>157.94</td><td>⋯</td><td>0</td><td>0</td><td>0</td><td>0</td><td>0</td><td>0</td><td>0</td><td>0</td><td>0</td><td>0</td></tr>\n",
       "\t<tr><th scope=row>SRR10079584</th><td>0.00</td><td>0</td><td>29.67</td><td> 79.32</td><td>0.52</td><td> 6.86</td><td>5.30</td><td>1.09</td><td>5.37</td><td>140.65</td><td>⋯</td><td>0</td><td>0</td><td>0</td><td>0</td><td>0</td><td>0</td><td>0</td><td>0</td><td>0</td><td>0</td></tr>\n",
       "</tbody>\n",
       "</table>\n"
      ],
      "text/latex": [
       "A matrix: 6 × 35976 of type dbl\n",
       "\\begin{tabular}{r|lllllllllllllllllllll}\n",
       "  & 0610005C13Rik & 0610006L08Rik & 0610007P14Rik & 0610009B22Rik & 0610009E02Rik & 0610009L18Rik & 0610009O20Rik & 0610010B08Rik & 0610010F05Rik & 0610010K14Rik & ⋯ & n-R5s134 & n-R5s136 & n-R5s138 & n-R5s139 & n-R5s141 & n-R5s142 & n-R5s143 & n-R5s144 & n-R5s146 & n-R5s149\\\\\n",
       "\\hline\n",
       "\tSRR10079579 & 0.00 & 0 & 25.72 &  94.54 & 0.24 &  7.68 & 3.61 & 0.36 & 3.65 & 141.38 & ⋯ & 0 & 0 & 0 & 0 & 0 & 0 & 0 & 0 & 0 & 0\\\\\n",
       "\tSRR10079580 & 0.00 & 0 & 28.72 &  94.27 & 0.25 & 16.09 & 3.00 & 1.10 & 5.64 & 151.89 & ⋯ & 0 & 0 & 0 & 0 & 0 & 0 & 0 & 0 & 0 & 0\\\\\n",
       "\tSRR10079581 & 0.11 & 0 & 33.26 & 119.30 & 0.23 &  7.85 & 4.26 & 0.49 & 3.72 & 162.32 & ⋯ & 0 & 0 & 0 & 0 & 0 & 0 & 0 & 0 & 0 & 0\\\\\n",
       "\tSRR10079582 & 0.12 & 0 & 27.29 &  69.56 & 0.36 & 10.92 & 3.27 & 0.54 & 3.08 & 122.38 & ⋯ & 0 & 0 & 0 & 0 & 0 & 0 & 0 & 0 & 0 & 0\\\\\n",
       "\tSRR10079583 & 0.13 & 0 & 36.56 &  96.12 & 0.51 & 13.54 & 5.26 & 0.68 & 6.24 & 157.94 & ⋯ & 0 & 0 & 0 & 0 & 0 & 0 & 0 & 0 & 0 & 0\\\\\n",
       "\tSRR10079584 & 0.00 & 0 & 29.67 &  79.32 & 0.52 &  6.86 & 5.30 & 1.09 & 5.37 & 140.65 & ⋯ & 0 & 0 & 0 & 0 & 0 & 0 & 0 & 0 & 0 & 0\\\\\n",
       "\\end{tabular}\n"
      ],
      "text/markdown": [
       "\n",
       "A matrix: 6 × 35976 of type dbl\n",
       "\n",
       "| <!--/--> | 0610005C13Rik | 0610006L08Rik | 0610007P14Rik | 0610009B22Rik | 0610009E02Rik | 0610009L18Rik | 0610009O20Rik | 0610010B08Rik | 0610010F05Rik | 0610010K14Rik | ⋯ | n-R5s134 | n-R5s136 | n-R5s138 | n-R5s139 | n-R5s141 | n-R5s142 | n-R5s143 | n-R5s144 | n-R5s146 | n-R5s149 |\n",
       "|---|---|---|---|---|---|---|---|---|---|---|---|---|---|---|---|---|---|---|---|---|---|\n",
       "| SRR10079579 | 0.00 | 0 | 25.72 |  94.54 | 0.24 |  7.68 | 3.61 | 0.36 | 3.65 | 141.38 | ⋯ | 0 | 0 | 0 | 0 | 0 | 0 | 0 | 0 | 0 | 0 |\n",
       "| SRR10079580 | 0.00 | 0 | 28.72 |  94.27 | 0.25 | 16.09 | 3.00 | 1.10 | 5.64 | 151.89 | ⋯ | 0 | 0 | 0 | 0 | 0 | 0 | 0 | 0 | 0 | 0 |\n",
       "| SRR10079581 | 0.11 | 0 | 33.26 | 119.30 | 0.23 |  7.85 | 4.26 | 0.49 | 3.72 | 162.32 | ⋯ | 0 | 0 | 0 | 0 | 0 | 0 | 0 | 0 | 0 | 0 |\n",
       "| SRR10079582 | 0.12 | 0 | 27.29 |  69.56 | 0.36 | 10.92 | 3.27 | 0.54 | 3.08 | 122.38 | ⋯ | 0 | 0 | 0 | 0 | 0 | 0 | 0 | 0 | 0 | 0 |\n",
       "| SRR10079583 | 0.13 | 0 | 36.56 |  96.12 | 0.51 | 13.54 | 5.26 | 0.68 | 6.24 | 157.94 | ⋯ | 0 | 0 | 0 | 0 | 0 | 0 | 0 | 0 | 0 | 0 |\n",
       "| SRR10079584 | 0.00 | 0 | 29.67 |  79.32 | 0.52 |  6.86 | 5.30 | 1.09 | 5.37 | 140.65 | ⋯ | 0 | 0 | 0 | 0 | 0 | 0 | 0 | 0 | 0 | 0 |\n",
       "\n"
      ],
      "text/plain": [
       "            0610005C13Rik 0610006L08Rik 0610007P14Rik 0610009B22Rik\n",
       "SRR10079579 0.00          0             25.72          94.54       \n",
       "SRR10079580 0.00          0             28.72          94.27       \n",
       "SRR10079581 0.11          0             33.26         119.30       \n",
       "SRR10079582 0.12          0             27.29          69.56       \n",
       "SRR10079583 0.13          0             36.56          96.12       \n",
       "SRR10079584 0.00          0             29.67          79.32       \n",
       "            0610009E02Rik 0610009L18Rik 0610009O20Rik 0610010B08Rik\n",
       "SRR10079579 0.24           7.68         3.61          0.36         \n",
       "SRR10079580 0.25          16.09         3.00          1.10         \n",
       "SRR10079581 0.23           7.85         4.26          0.49         \n",
       "SRR10079582 0.36          10.92         3.27          0.54         \n",
       "SRR10079583 0.51          13.54         5.26          0.68         \n",
       "SRR10079584 0.52           6.86         5.30          1.09         \n",
       "            0610010F05Rik 0610010K14Rik ⋯ n-R5s134 n-R5s136 n-R5s138 n-R5s139\n",
       "SRR10079579 3.65          141.38        ⋯ 0        0        0        0       \n",
       "SRR10079580 5.64          151.89        ⋯ 0        0        0        0       \n",
       "SRR10079581 3.72          162.32        ⋯ 0        0        0        0       \n",
       "SRR10079582 3.08          122.38        ⋯ 0        0        0        0       \n",
       "SRR10079583 6.24          157.94        ⋯ 0        0        0        0       \n",
       "SRR10079584 5.37          140.65        ⋯ 0        0        0        0       \n",
       "            n-R5s141 n-R5s142 n-R5s143 n-R5s144 n-R5s146 n-R5s149\n",
       "SRR10079579 0        0        0        0        0        0       \n",
       "SRR10079580 0        0        0        0        0        0       \n",
       "SRR10079581 0        0        0        0        0        0       \n",
       "SRR10079582 0        0        0        0        0        0       \n",
       "SRR10079583 0        0        0        0        0        0       \n",
       "SRR10079584 0        0        0        0        0        0       "
      ]
     },
     "metadata": {},
     "output_type": "display_data"
    }
   ],
   "source": [
    "pca_matrix <- quant_matrix %>%\n",
    "  column_to_rownames(\"gene_id\") %>%\n",
    "  as.matrix() %>%\n",
    "  t()\n",
    "\n",
    "head(pca_matrix)"
   ]
  },
  {
   "cell_type": "code",
   "execution_count": 4,
   "id": "1f4f4500",
   "metadata": {},
   "outputs": [],
   "source": [
    "pca <- prcomp(pca_matrix)"
   ]
  },
  {
   "cell_type": "code",
   "execution_count": 5,
   "id": "4bd03901",
   "metadata": {},
   "outputs": [
    {
     "data": {
      "text/html": [
       "<table class=\"dataframe\">\n",
       "<caption>A tibble: 6 × 4</caption>\n",
       "<thead>\n",
       "\t<tr><th scope=col>PC</th><th scope=col>variance</th><th scope=col>pct</th><th scope=col>pct_cum</th></tr>\n",
       "\t<tr><th scope=col>&lt;fct&gt;</th><th scope=col>&lt;dbl&gt;</th><th scope=col>&lt;dbl&gt;</th><th scope=col>&lt;dbl&gt;</th></tr>\n",
       "</thead>\n",
       "<tbody>\n",
       "\t<tr><td>1</td><td>8254316472</td><td>94.8394982</td><td>94.83950</td></tr>\n",
       "\t<tr><td>2</td><td> 174110436</td><td> 2.0004741</td><td>96.83997</td></tr>\n",
       "\t<tr><td>3</td><td>  83976057</td><td> 0.9648585</td><td>97.80483</td></tr>\n",
       "\t<tr><td>4</td><td>  52652298</td><td> 0.6049583</td><td>98.40979</td></tr>\n",
       "\t<tr><td>5</td><td>  31345246</td><td> 0.3601470</td><td>98.76994</td></tr>\n",
       "\t<tr><td>6</td><td>  22325092</td><td> 0.2565083</td><td>99.02644</td></tr>\n",
       "</tbody>\n",
       "</table>\n"
      ],
      "text/latex": [
       "A tibble: 6 × 4\n",
       "\\begin{tabular}{llll}\n",
       " PC & variance & pct & pct\\_cum\\\\\n",
       " <fct> & <dbl> & <dbl> & <dbl>\\\\\n",
       "\\hline\n",
       "\t 1 & 8254316472 & 94.8394982 & 94.83950\\\\\n",
       "\t 2 &  174110436 &  2.0004741 & 96.83997\\\\\n",
       "\t 3 &   83976057 &  0.9648585 & 97.80483\\\\\n",
       "\t 4 &   52652298 &  0.6049583 & 98.40979\\\\\n",
       "\t 5 &   31345246 &  0.3601470 & 98.76994\\\\\n",
       "\t 6 &   22325092 &  0.2565083 & 99.02644\\\\\n",
       "\\end{tabular}\n"
      ],
      "text/markdown": [
       "\n",
       "A tibble: 6 × 4\n",
       "\n",
       "| PC &lt;fct&gt; | variance &lt;dbl&gt; | pct &lt;dbl&gt; | pct_cum &lt;dbl&gt; |\n",
       "|---|---|---|---|\n",
       "| 1 | 8254316472 | 94.8394982 | 94.83950 |\n",
       "| 2 |  174110436 |  2.0004741 | 96.83997 |\n",
       "| 3 |   83976057 |  0.9648585 | 97.80483 |\n",
       "| 4 |   52652298 |  0.6049583 | 98.40979 |\n",
       "| 5 |   31345246 |  0.3601470 | 98.76994 |\n",
       "| 6 |   22325092 |  0.2565083 | 99.02644 |\n",
       "\n"
      ],
      "text/plain": [
       "  PC variance   pct        pct_cum \n",
       "1 1  8254316472 94.8394982 94.83950\n",
       "2 2   174110436  2.0004741 96.83997\n",
       "3 3    83976057  0.9648585 97.80483\n",
       "4 4    52652298  0.6049583 98.40979\n",
       "5 5    31345246  0.3601470 98.76994\n",
       "6 6    22325092  0.2565083 99.02644"
      ]
     },
     "metadata": {},
     "output_type": "display_data"
    }
   ],
   "source": [
    "pc_eigenvalues <- pca$sdev^2\n",
    "top_var <- pc_eigenvalues[c(1:25)]\n",
    "\n",
    "# create a \"tibble\" manually with \n",
    "# a variable indicating the PC number\n",
    "# and a variable with the variances\n",
    "pc_eigenvalues <- tibble(PC = factor(1:length(top_var)), \n",
    "                         variance = top_var) %>% \n",
    "  # add a new column with the percent variance\n",
    "  mutate(pct = variance/sum(variance)*100) %>% \n",
    "  # add another column with the cumulative variance explained\n",
    "  mutate(pct_cum = cumsum(pct))\n",
    "\n",
    "# print the result\n",
    "head(pc_eigenvalues)"
   ]
  },
  {
   "cell_type": "code",
   "execution_count": 6,
   "id": "762cbfcd",
   "metadata": {},
   "outputs": [
    {
     "data": {
      "image/png": "[encoded data removed]",
      "text/plain": [
       "plot without title"
      ]
     },
     "metadata": {
      "image/png": {
       "height": 420,
       "width": 420
      }
     },
     "output_type": "display_data"
    }
   ],
   "source": [
    "pc_eigenvalues %>% \n",
    "  ggplot(aes(x = PC)) +\n",
    "  geom_col(aes(y = pct)) +\n",
    "  geom_line(aes(y = pct_cum, group = 1)) + \n",
    "  geom_point(aes(y = pct_cum)) +\n",
    "  labs(x = \"Principal component\", y = \"Fraction variance explained\")"
   ]
  },
  {
   "cell_type": "code",
   "execution_count": 7,
   "id": "3f91d152",
   "metadata": {},
   "outputs": [
    {
     "data": {
      "image/png": "[encoded data removed]",
      "text/plain": [
       "plot without title"
      ]
     },
     "metadata": {
      "image/png": {
       "height": 420,
       "width": 420
      }
     },
     "output_type": "display_data"
    }
   ],
   "source": [
    "autoplot(pca, data = sample_info, colour = \"cell\", shape = \"strain\")"
   ]
  }
 ],
 "metadata": {
  "kernelspec": {
   "display_name": "R",
   "language": "R",
   "name": "ir"
  },
  "language_info": {
   "codemirror_mode": "r",
   "file_extension": ".r",
   "mimetype": "text/x-r-source",
   "name": "R",
   "pygments_lexer": "r",
   "version": "4.1.1"
  }
 },
 "nbformat": 4,
 "nbformat_minor": 5
}
