{
 "cells": [
  {
   "cell_type": "code",
   "execution_count": 1,
   "id": "08b31b26",
   "metadata": {},
   "outputs": [
    {
     "name": "stderr",
     "output_type": "stream",
     "text": [
      "Loading required package: grid\n",
      "\n",
      "========================================\n",
      "ComplexHeatmap version 2.2.0\n",
      "Bioconductor page: http://bioconductor.org/packages/ComplexHeatmap/\n",
      "Github page: https://github.com/jokergoo/ComplexHeatmap\n",
      "Documentation: http://jokergoo.github.io/ComplexHeatmap-reference\n",
      "\n",
      "If you use it in published research, please cite:\n",
      "Gu, Z. Complex heatmaps reveal patterns and correlations in multidimensional \n",
      "  genomic data. Bioinformatics 2016.\n",
      "========================================\n",
      "\n",
      "\n"
     ]
    }
   ],
   "source": [
    "library(tximport)\n",
    "library(ImpulseDE2)\n",
    "library(ComplexHeatmap)\n",
    "library(ggplot2)"
   ]
  },
  {
   "cell_type": "code",
   "execution_count": 2,
   "id": "d67d0032",
   "metadata": {},
   "outputs": [
    {
     "data": {
      "text/html": [
       "<table class=\"dataframe\">\n",
       "<caption>A data.frame: 6 × 26</caption>\n",
       "<thead>\n",
       "\t<tr><th></th><th scope=col>Run</th><th scope=col>age</th><th scope=col>Assay.Type</th><th scope=col>AvgSpotLen</th><th scope=col>Bases</th><th scope=col>BioProject</th><th scope=col>BioSample</th><th scope=col>Bytes</th><th scope=col>Center.Name</th><th scope=col>Consent</th><th scope=col>⋯</th><th scope=col>LibraryLayout</th><th scope=col>LibrarySelection</th><th scope=col>LibrarySource</th><th scope=col>Organism</th><th scope=col>Platform</th><th scope=col>ReleaseDate</th><th scope=col>Sample.Name</th><th scope=col>source_name</th><th scope=col>SRA.Study</th><th scope=col>Strain</th></tr>\n",
       "\t<tr><th></th><th scope=col>&lt;fct&gt;</th><th scope=col>&lt;fct&gt;</th><th scope=col>&lt;fct&gt;</th><th scope=col>&lt;int&gt;</th><th scope=col>&lt;dbl&gt;</th><th scope=col>&lt;fct&gt;</th><th scope=col>&lt;fct&gt;</th><th scope=col>&lt;dbl&gt;</th><th scope=col>&lt;fct&gt;</th><th scope=col>&lt;fct&gt;</th><th scope=col>⋯</th><th scope=col>&lt;fct&gt;</th><th scope=col>&lt;fct&gt;</th><th scope=col>&lt;fct&gt;</th><th scope=col>&lt;fct&gt;</th><th scope=col>&lt;fct&gt;</th><th scope=col>&lt;fct&gt;</th><th scope=col>&lt;fct&gt;</th><th scope=col>&lt;fct&gt;</th><th scope=col>&lt;fct&gt;</th><th scope=col>&lt;fct&gt;</th></tr>\n",
       "</thead>\n",
       "<tbody>\n",
       "\t<tr><th scope=row>1</th><td>SRR10079579</td><td>2-month-old</td><td>RNA-Seq</td><td>300</td><td>8062648800</td><td>PRJNA564299</td><td>SAMN12708617</td><td>2635498394</td><td>GEO</td><td>public</td><td>⋯</td><td>PAIRED</td><td>cDNA</td><td>TRANSCRIPTOMIC</td><td>Mus musculus</td><td>ILLUMINA</td><td>2020-04-21T00:00:00Z</td><td>GSM4065891</td><td>Brain</td><td>SRP220678</td><td>C57BL/6</td></tr>\n",
       "\t<tr><th scope=row>2</th><td>SRR10079580</td><td>2-month-old</td><td>RNA-Seq</td><td>300</td><td>8013847800</td><td>PRJNA564299</td><td>SAMN12708616</td><td>2636901025</td><td>GEO</td><td>public</td><td>⋯</td><td>PAIRED</td><td>cDNA</td><td>TRANSCRIPTOMIC</td><td>Mus musculus</td><td>ILLUMINA</td><td>2020-04-21T00:00:00Z</td><td>GSM4065892</td><td>Brain</td><td>SRP220678</td><td>C57BL/6</td></tr>\n",
       "\t<tr><th scope=row>3</th><td>SRR10079581</td><td>2-month-old</td><td>RNA-Seq</td><td>300</td><td>8055843600</td><td>PRJNA564299</td><td>SAMN12708615</td><td>2642059362</td><td>GEO</td><td>public</td><td>⋯</td><td>PAIRED</td><td>cDNA</td><td>TRANSCRIPTOMIC</td><td>Mus musculus</td><td>ILLUMINA</td><td>2020-04-21T00:00:00Z</td><td>GSM4065893</td><td>Brain</td><td>SRP220678</td><td>C57BL/6</td></tr>\n",
       "\t<tr><th scope=row>4</th><td>SRR10079582</td><td>4-month-old</td><td>RNA-Seq</td><td>300</td><td>7608938400</td><td>PRJNA564299</td><td>SAMN12708614</td><td>2465813362</td><td>GEO</td><td>public</td><td>⋯</td><td>PAIRED</td><td>cDNA</td><td>TRANSCRIPTOMIC</td><td>Mus musculus</td><td>ILLUMINA</td><td>2020-04-21T00:00:00Z</td><td>GSM4065894</td><td>Brain</td><td>SRP220678</td><td>C57BL/6</td></tr>\n",
       "\t<tr><th scope=row>5</th><td>SRR10079583</td><td>4-month-old</td><td>RNA-Seq</td><td>300</td><td>7912941900</td><td>PRJNA564299</td><td>SAMN12708613</td><td>2604058160</td><td>GEO</td><td>public</td><td>⋯</td><td>PAIRED</td><td>cDNA</td><td>TRANSCRIPTOMIC</td><td>Mus musculus</td><td>ILLUMINA</td><td>2020-04-21T00:00:00Z</td><td>GSM4065895</td><td>Brain</td><td>SRP220678</td><td>C57BL/6</td></tr>\n",
       "\t<tr><th scope=row>6</th><td>SRR10079584</td><td>4-month-old</td><td>RNA-Seq</td><td>300</td><td>7563385200</td><td>PRJNA564299</td><td>SAMN12708612</td><td>2455545524</td><td>GEO</td><td>public</td><td>⋯</td><td>PAIRED</td><td>cDNA</td><td>TRANSCRIPTOMIC</td><td>Mus musculus</td><td>ILLUMINA</td><td>2020-04-21T00:00:00Z</td><td>GSM4065896</td><td>Brain</td><td>SRP220678</td><td>C57BL/6</td></tr>\n",
       "</tbody>\n",
       "</table>\n"
      ],
      "text/latex": [
       "A data.frame: 6 × 26\n",
       "\\begin{tabular}{r|lllllllllllllllllllll}\n",
       "  & Run & age & Assay.Type & AvgSpotLen & Bases & BioProject & BioSample & Bytes & Center.Name & Consent & ⋯ & LibraryLayout & LibrarySelection & LibrarySource & Organism & Platform & ReleaseDate & Sample.Name & source\\_name & SRA.Study & Strain\\\\\n",
       "  & <fct> & <fct> & <fct> & <int> & <dbl> & <fct> & <fct> & <dbl> & <fct> & <fct> & ⋯ & <fct> & <fct> & <fct> & <fct> & <fct> & <fct> & <fct> & <fct> & <fct> & <fct>\\\\\n",
       "\\hline\n",
       "\t1 & SRR10079579 & 2-month-old & RNA-Seq & 300 & 8062648800 & PRJNA564299 & SAMN12708617 & 2635498394 & GEO & public & ⋯ & PAIRED & cDNA & TRANSCRIPTOMIC & Mus musculus & ILLUMINA & 2020-04-21T00:00:00Z & GSM4065891 & Brain & SRP220678 & C57BL/6\\\\\n",
       "\t2 & SRR10079580 & 2-month-old & RNA-Seq & 300 & 8013847800 & PRJNA564299 & SAMN12708616 & 2636901025 & GEO & public & ⋯ & PAIRED & cDNA & TRANSCRIPTOMIC & Mus musculus & ILLUMINA & 2020-04-21T00:00:00Z & GSM4065892 & Brain & SRP220678 & C57BL/6\\\\\n",
       "\t3 & SRR10079581 & 2-month-old & RNA-Seq & 300 & 8055843600 & PRJNA564299 & SAMN12708615 & 2642059362 & GEO & public & ⋯ & PAIRED & cDNA & TRANSCRIPTOMIC & Mus musculus & ILLUMINA & 2020-04-21T00:00:00Z & GSM4065893 & Brain & SRP220678 & C57BL/6\\\\\n",
       "\t4 & SRR10079582 & 4-month-old & RNA-Seq & 300 & 7608938400 & PRJNA564299 & SAMN12708614 & 2465813362 & GEO & public & ⋯ & PAIRED & cDNA & TRANSCRIPTOMIC & Mus musculus & ILLUMINA & 2020-04-21T00:00:00Z & GSM4065894 & Brain & SRP220678 & C57BL/6\\\\\n",
       "\t5 & SRR10079583 & 4-month-old & RNA-Seq & 300 & 7912941900 & PRJNA564299 & SAMN12708613 & 2604058160 & GEO & public & ⋯ & PAIRED & cDNA & TRANSCRIPTOMIC & Mus musculus & ILLUMINA & 2020-04-21T00:00:00Z & GSM4065895 & Brain & SRP220678 & C57BL/6\\\\\n",
       "\t6 & SRR10079584 & 4-month-old & RNA-Seq & 300 & 7563385200 & PRJNA564299 & SAMN12708612 & 2455545524 & GEO & public & ⋯ & PAIRED & cDNA & TRANSCRIPTOMIC & Mus musculus & ILLUMINA & 2020-04-21T00:00:00Z & GSM4065896 & Brain & SRP220678 & C57BL/6\\\\\n",
       "\\end{tabular}\n"
      ],
      "text/markdown": [
       "\n",
       "A data.frame: 6 × 26\n",
       "\n",
       "| <!--/--> | Run &lt;fct&gt; | age &lt;fct&gt; | Assay.Type &lt;fct&gt; | AvgSpotLen &lt;int&gt; | Bases &lt;dbl&gt; | BioProject &lt;fct&gt; | BioSample &lt;fct&gt; | Bytes &lt;dbl&gt; | Center.Name &lt;fct&gt; | Consent &lt;fct&gt; | ⋯ ⋯ | LibraryLayout &lt;fct&gt; | LibrarySelection &lt;fct&gt; | LibrarySource &lt;fct&gt; | Organism &lt;fct&gt; | Platform &lt;fct&gt; | ReleaseDate &lt;fct&gt; | Sample.Name &lt;fct&gt; | source_name &lt;fct&gt; | SRA.Study &lt;fct&gt; | Strain &lt;fct&gt; |\n",
       "|---|---|---|---|---|---|---|---|---|---|---|---|---|---|---|---|---|---|---|---|---|---|\n",
       "| 1 | SRR10079579 | 2-month-old | RNA-Seq | 300 | 8062648800 | PRJNA564299 | SAMN12708617 | 2635498394 | GEO | public | ⋯ | PAIRED | cDNA | TRANSCRIPTOMIC | Mus musculus | ILLUMINA | 2020-04-21T00:00:00Z | GSM4065891 | Brain | SRP220678 | C57BL/6 |\n",
       "| 2 | SRR10079580 | 2-month-old | RNA-Seq | 300 | 8013847800 | PRJNA564299 | SAMN12708616 | 2636901025 | GEO | public | ⋯ | PAIRED | cDNA | TRANSCRIPTOMIC | Mus musculus | ILLUMINA | 2020-04-21T00:00:00Z | GSM4065892 | Brain | SRP220678 | C57BL/6 |\n",
       "| 3 | SRR10079581 | 2-month-old | RNA-Seq | 300 | 8055843600 | PRJNA564299 | SAMN12708615 | 2642059362 | GEO | public | ⋯ | PAIRED | cDNA | TRANSCRIPTOMIC | Mus musculus | ILLUMINA | 2020-04-21T00:00:00Z | GSM4065893 | Brain | SRP220678 | C57BL/6 |\n",
       "| 4 | SRR10079582 | 4-month-old | RNA-Seq | 300 | 7608938400 | PRJNA564299 | SAMN12708614 | 2465813362 | GEO | public | ⋯ | PAIRED | cDNA | TRANSCRIPTOMIC | Mus musculus | ILLUMINA | 2020-04-21T00:00:00Z | GSM4065894 | Brain | SRP220678 | C57BL/6 |\n",
       "| 5 | SRR10079583 | 4-month-old | RNA-Seq | 300 | 7912941900 | PRJNA564299 | SAMN12708613 | 2604058160 | GEO | public | ⋯ | PAIRED | cDNA | TRANSCRIPTOMIC | Mus musculus | ILLUMINA | 2020-04-21T00:00:00Z | GSM4065895 | Brain | SRP220678 | C57BL/6 |\n",
       "| 6 | SRR10079584 | 4-month-old | RNA-Seq | 300 | 7563385200 | PRJNA564299 | SAMN12708612 | 2455545524 | GEO | public | ⋯ | PAIRED | cDNA | TRANSCRIPTOMIC | Mus musculus | ILLUMINA | 2020-04-21T00:00:00Z | GSM4065896 | Brain | SRP220678 | C57BL/6 |\n",
       "\n"
      ],
      "text/plain": [
       "  Run         age         Assay.Type AvgSpotLen Bases      BioProject \n",
       "1 SRR10079579 2-month-old RNA-Seq    300        8062648800 PRJNA564299\n",
       "2 SRR10079580 2-month-old RNA-Seq    300        8013847800 PRJNA564299\n",
       "3 SRR10079581 2-month-old RNA-Seq    300        8055843600 PRJNA564299\n",
       "4 SRR10079582 4-month-old RNA-Seq    300        7608938400 PRJNA564299\n",
       "5 SRR10079583 4-month-old RNA-Seq    300        7912941900 PRJNA564299\n",
       "6 SRR10079584 4-month-old RNA-Seq    300        7563385200 PRJNA564299\n",
       "  BioSample    Bytes      Center.Name Consent ⋯ LibraryLayout LibrarySelection\n",
       "1 SAMN12708617 2635498394 GEO         public  ⋯ PAIRED        cDNA            \n",
       "2 SAMN12708616 2636901025 GEO         public  ⋯ PAIRED        cDNA            \n",
       "3 SAMN12708615 2642059362 GEO         public  ⋯ PAIRED        cDNA            \n",
       "4 SAMN12708614 2465813362 GEO         public  ⋯ PAIRED        cDNA            \n",
       "5 SAMN12708613 2604058160 GEO         public  ⋯ PAIRED        cDNA            \n",
       "6 SAMN12708612 2455545524 GEO         public  ⋯ PAIRED        cDNA            \n",
       "  LibrarySource  Organism     Platform ReleaseDate          Sample.Name\n",
       "1 TRANSCRIPTOMIC Mus musculus ILLUMINA 2020-04-21T00:00:00Z GSM4065891 \n",
       "2 TRANSCRIPTOMIC Mus musculus ILLUMINA 2020-04-21T00:00:00Z GSM4065892 \n",
       "3 TRANSCRIPTOMIC Mus musculus ILLUMINA 2020-04-21T00:00:00Z GSM4065893 \n",
       "4 TRANSCRIPTOMIC Mus musculus ILLUMINA 2020-04-21T00:00:00Z GSM4065894 \n",
       "5 TRANSCRIPTOMIC Mus musculus ILLUMINA 2020-04-21T00:00:00Z GSM4065895 \n",
       "6 TRANSCRIPTOMIC Mus musculus ILLUMINA 2020-04-21T00:00:00Z GSM4065896 \n",
       "  source_name SRA.Study Strain \n",
       "1 Brain       SRP220678 C57BL/6\n",
       "2 Brain       SRP220678 C57BL/6\n",
       "3 Brain       SRP220678 C57BL/6\n",
       "4 Brain       SRP220678 C57BL/6\n",
       "5 Brain       SRP220678 C57BL/6\n",
       "6 Brain       SRP220678 C57BL/6"
      ]
     },
     "metadata": {},
     "output_type": "display_data"
    }
   ],
   "source": [
    "dir <- \"../data\"\n",
    "\n",
    "samples <- read.table(file.path(dir, \"metadata.txt\"), sep = \",\", header = TRUE)\n",
    "head(samples)"
   ]
  },
  {
   "cell_type": "code",
   "execution_count": 3,
   "id": "6a56d76a",
   "metadata": {},
   "outputs": [
    {
     "name": "stderr",
     "output_type": "stream",
     "text": [
      "reading in files with read.delim (install 'readr' package for speed up)\n",
      "\n",
      "1 \n",
      "2 \n",
      "3 \n",
      "4 \n",
      "5 \n",
      "6 \n",
      "7 \n",
      "8 \n",
      "9 \n",
      "10 \n",
      "11 \n",
      "12 \n",
      "13 \n",
      "14 \n",
      "15 \n",
      "16 \n",
      "17 \n",
      "18 \n",
      "19 \n",
      "20 \n",
      "21 \n",
      "22 \n",
      "23 \n",
      "24 \n",
      "25 \n",
      "26 \n",
      "27 \n",
      "28 \n",
      "29 \n",
      "30 \n",
      "31 \n",
      "32 \n",
      "33 \n",
      "34 \n",
      "35 \n",
      "36 \n",
      "37 \n",
      "38 \n",
      "39 \n",
      "40 \n",
      "41 \n",
      "42 \n",
      "43 \n",
      "44 \n",
      "45 \n",
      "46 \n",
      "47 \n",
      "48 \n",
      "49 \n",
      "50 \n",
      "51 \n",
      "52 \n",
      "53 \n",
      "54 \n",
      "55 \n",
      "56 \n",
      "57 \n",
      "58 \n",
      "59 \n",
      "60 \n"
     ]
    },
    {
     "data": {
      "text/html": [
       "<table class=\"dataframe\">\n",
       "<caption>A matrix: 6 × 60 of type dbl</caption>\n",
       "<thead>\n",
       "\t<tr><th></th><th scope=col>SRR10079579</th><th scope=col>SRR10079580</th><th scope=col>SRR10079581</th><th scope=col>SRR10079582</th><th scope=col>SRR10079583</th><th scope=col>SRR10079584</th><th scope=col>SRR10079585</th><th scope=col>SRR10079586</th><th scope=col>SRR10079587</th><th scope=col>SRR10079588</th><th scope=col>⋯</th><th scope=col>SRR10079629</th><th scope=col>SRR10079630</th><th scope=col>SRR10079631</th><th scope=col>SRR10079632</th><th scope=col>SRR10079633</th><th scope=col>SRR10079634</th><th scope=col>SRR10079635</th><th scope=col>SRR10079636</th><th scope=col>SRR10079637</th><th scope=col>SRR10079638</th></tr>\n",
       "</thead>\n",
       "<tbody>\n",
       "\t<tr><th scope=row>0610005C13Rik</th><td>  0</td><td>  0</td><td>  1</td><td>  1</td><td>  1</td><td>  0</td><td>  1</td><td>  0</td><td>  1</td><td>  0</td><td>⋯</td><td>   2</td><td>   7</td><td>   6</td><td>   3</td><td>  2</td><td>   0</td><td>   0</td><td>   9</td><td>   6</td><td>   4</td></tr>\n",
       "\t<tr><th scope=row>0610006L08Rik</th><td>  0</td><td>  0</td><td>  0</td><td>  0</td><td>  0</td><td>  0</td><td>  0</td><td>  0</td><td>  0</td><td>  0</td><td>⋯</td><td>   0</td><td>   1</td><td>   0</td><td>   1</td><td>  0</td><td>   0</td><td>   0</td><td>   0</td><td>   0</td><td>   0</td></tr>\n",
       "\t<tr><th scope=row>0610007P14Rik</th><td>327</td><td>360</td><td>442</td><td>358</td><td>429</td><td>347</td><td>572</td><td>585</td><td>697</td><td>408</td><td>⋯</td><td>1214</td><td>1667</td><td>1672</td><td>1704</td><td>972</td><td>1167</td><td>1294</td><td>1855</td><td>1509</td><td>1333</td></tr>\n",
       "\t<tr><th scope=row>0610009B22Rik</th><td>631</td><td>604</td><td>834</td><td>471</td><td>614</td><td>497</td><td>926</td><td>957</td><td>929</td><td>752</td><td>⋯</td><td> 735</td><td>1006</td><td>1045</td><td>1054</td><td>801</td><td> 901</td><td> 855</td><td>1180</td><td>1002</td><td> 895</td></tr>\n",
       "\t<tr><th scope=row>0610009E02Rik</th><td>  2</td><td>  2</td><td>  2</td><td>  3</td><td>  4</td><td>  4</td><td>  1</td><td>  5</td><td>  5</td><td>  0</td><td>⋯</td><td>  22</td><td>  12</td><td>  28</td><td>  18</td><td> 11</td><td>   7</td><td>   6</td><td>  22</td><td>  21</td><td>   7</td></tr>\n",
       "\t<tr><th scope=row>0610009L18Rik</th><td> 32</td><td> 64</td><td> 34</td><td> 48</td><td> 57</td><td> 28</td><td> 71</td><td> 53</td><td> 62</td><td> 48</td><td>⋯</td><td> 148</td><td> 117</td><td> 194</td><td>  88</td><td> 93</td><td> 114</td><td> 128</td><td> 184</td><td> 187</td><td> 125</td></tr>\n",
       "</tbody>\n",
       "</table>\n"
      ],
      "text/latex": [
       "A matrix: 6 × 60 of type dbl\n",
       "\\begin{tabular}{r|lllllllllllllllllllll}\n",
       "  & SRR10079579 & SRR10079580 & SRR10079581 & SRR10079582 & SRR10079583 & SRR10079584 & SRR10079585 & SRR10079586 & SRR10079587 & SRR10079588 & ⋯ & SRR10079629 & SRR10079630 & SRR10079631 & SRR10079632 & SRR10079633 & SRR10079634 & SRR10079635 & SRR10079636 & SRR10079637 & SRR10079638\\\\\n",
       "\\hline\n",
       "\t0610005C13Rik &   0 &   0 &   1 &   1 &   1 &   0 &   1 &   0 &   1 &   0 & ⋯ &    2 &    7 &    6 &    3 &   2 &    0 &    0 &    9 &    6 &    4\\\\\n",
       "\t0610006L08Rik &   0 &   0 &   0 &   0 &   0 &   0 &   0 &   0 &   0 &   0 & ⋯ &    0 &    1 &    0 &    1 &   0 &    0 &    0 &    0 &    0 &    0\\\\\n",
       "\t0610007P14Rik & 327 & 360 & 442 & 358 & 429 & 347 & 572 & 585 & 697 & 408 & ⋯ & 1214 & 1667 & 1672 & 1704 & 972 & 1167 & 1294 & 1855 & 1509 & 1333\\\\\n",
       "\t0610009B22Rik & 631 & 604 & 834 & 471 & 614 & 497 & 926 & 957 & 929 & 752 & ⋯ &  735 & 1006 & 1045 & 1054 & 801 &  901 &  855 & 1180 & 1002 &  895\\\\\n",
       "\t0610009E02Rik &   2 &   2 &   2 &   3 &   4 &   4 &   1 &   5 &   5 &   0 & ⋯ &   22 &   12 &   28 &   18 &  11 &    7 &    6 &   22 &   21 &    7\\\\\n",
       "\t0610009L18Rik &  32 &  64 &  34 &  48 &  57 &  28 &  71 &  53 &  62 &  48 & ⋯ &  148 &  117 &  194 &   88 &  93 &  114 &  128 &  184 &  187 &  125\\\\\n",
       "\\end{tabular}\n"
      ],
      "text/markdown": [
       "\n",
       "A matrix: 6 × 60 of type dbl\n",
       "\n",
       "| <!--/--> | SRR10079579 | SRR10079580 | SRR10079581 | SRR10079582 | SRR10079583 | SRR10079584 | SRR10079585 | SRR10079586 | SRR10079587 | SRR10079588 | ⋯ | SRR10079629 | SRR10079630 | SRR10079631 | SRR10079632 | SRR10079633 | SRR10079634 | SRR10079635 | SRR10079636 | SRR10079637 | SRR10079638 |\n",
       "|---|---|---|---|---|---|---|---|---|---|---|---|---|---|---|---|---|---|---|---|---|---|\n",
       "| 0610005C13Rik |   0 |   0 |   1 |   1 |   1 |   0 |   1 |   0 |   1 |   0 | ⋯ |    2 |    7 |    6 |    3 |   2 |    0 |    0 |    9 |    6 |    4 |\n",
       "| 0610006L08Rik |   0 |   0 |   0 |   0 |   0 |   0 |   0 |   0 |   0 |   0 | ⋯ |    0 |    1 |    0 |    1 |   0 |    0 |    0 |    0 |    0 |    0 |\n",
       "| 0610007P14Rik | 327 | 360 | 442 | 358 | 429 | 347 | 572 | 585 | 697 | 408 | ⋯ | 1214 | 1667 | 1672 | 1704 | 972 | 1167 | 1294 | 1855 | 1509 | 1333 |\n",
       "| 0610009B22Rik | 631 | 604 | 834 | 471 | 614 | 497 | 926 | 957 | 929 | 752 | ⋯ |  735 | 1006 | 1045 | 1054 | 801 |  901 |  855 | 1180 | 1002 |  895 |\n",
       "| 0610009E02Rik |   2 |   2 |   2 |   3 |   4 |   4 |   1 |   5 |   5 |   0 | ⋯ |   22 |   12 |   28 |   18 |  11 |    7 |    6 |   22 |   21 |    7 |\n",
       "| 0610009L18Rik |  32 |  64 |  34 |  48 |  57 |  28 |  71 |  53 |  62 |  48 | ⋯ |  148 |  117 |  194 |   88 |  93 |  114 |  128 |  184 |  187 |  125 |\n",
       "\n"
      ],
      "text/plain": [
       "              SRR10079579 SRR10079580 SRR10079581 SRR10079582 SRR10079583\n",
       "0610005C13Rik   0           0           1           1           1        \n",
       "0610006L08Rik   0           0           0           0           0        \n",
       "0610007P14Rik 327         360         442         358         429        \n",
       "0610009B22Rik 631         604         834         471         614        \n",
       "0610009E02Rik   2           2           2           3           4        \n",
       "0610009L18Rik  32          64          34          48          57        \n",
       "              SRR10079584 SRR10079585 SRR10079586 SRR10079587 SRR10079588 ⋯\n",
       "0610005C13Rik   0           1           0           1           0         ⋯\n",
       "0610006L08Rik   0           0           0           0           0         ⋯\n",
       "0610007P14Rik 347         572         585         697         408         ⋯\n",
       "0610009B22Rik 497         926         957         929         752         ⋯\n",
       "0610009E02Rik   4           1           5           5           0         ⋯\n",
       "0610009L18Rik  28          71          53          62          48         ⋯\n",
       "              SRR10079629 SRR10079630 SRR10079631 SRR10079632 SRR10079633\n",
       "0610005C13Rik    2           7           6           3          2        \n",
       "0610006L08Rik    0           1           0           1          0        \n",
       "0610007P14Rik 1214        1667        1672        1704        972        \n",
       "0610009B22Rik  735        1006        1045        1054        801        \n",
       "0610009E02Rik   22          12          28          18         11        \n",
       "0610009L18Rik  148         117         194          88         93        \n",
       "              SRR10079634 SRR10079635 SRR10079636 SRR10079637 SRR10079638\n",
       "0610005C13Rik    0           0           9           6           4       \n",
       "0610006L08Rik    0           0           0           0           0       \n",
       "0610007P14Rik 1167        1294        1855        1509        1333       \n",
       "0610009B22Rik  901         855        1180        1002         895       \n",
       "0610009E02Rik    7           6          22          21           7       \n",
       "0610009L18Rik  114         128         184         187         125       "
      ]
     },
     "metadata": {},
     "output_type": "display_data"
    }
   ],
   "source": [
    "files <- file.path(dir, \"rsem\", samples$Run, paste0(samples$Run, \".genes.results\"))\n",
    "names(files) <- paste0(\"SRR10079\", 579:638)\n",
    "txi <- tximport(files, type = \"rsem\", txIn = FALSE, txOut = FALSE)\n",
    "head(txi$counts)"
   ]
  },
  {
   "cell_type": "code",
   "execution_count": 4,
   "id": "ae66faff",
   "metadata": {},
   "outputs": [
    {
     "data": {
      "text/html": [
       "<table class=\"dataframe\">\n",
       "<caption>A matrix: 6 × 30 of type dbl</caption>\n",
       "<thead>\n",
       "\t<tr><th></th><th scope=col>SRR10079579</th><th scope=col>SRR10079580</th><th scope=col>SRR10079581</th><th scope=col>SRR10079582</th><th scope=col>SRR10079583</th><th scope=col>SRR10079584</th><th scope=col>SRR10079585</th><th scope=col>SRR10079586</th><th scope=col>SRR10079587</th><th scope=col>SRR10079588</th><th scope=col>⋯</th><th scope=col>SRR10079599</th><th scope=col>SRR10079600</th><th scope=col>SRR10079601</th><th scope=col>SRR10079602</th><th scope=col>SRR10079603</th><th scope=col>SRR10079604</th><th scope=col>SRR10079605</th><th scope=col>SRR10079606</th><th scope=col>SRR10079607</th><th scope=col>SRR10079608</th></tr>\n",
       "</thead>\n",
       "<tbody>\n",
       "\t<tr><th scope=row>0610005C13Rik</th><td>  0</td><td>  0</td><td>  1</td><td>  1</td><td>  1</td><td>  0</td><td>  1</td><td>  0</td><td>  1</td><td>  0</td><td>⋯</td><td>  0</td><td>   1</td><td>  2</td><td>   1</td><td>  0</td><td>  0</td><td>  0</td><td>  1</td><td>  0</td><td>  0</td></tr>\n",
       "\t<tr><th scope=row>0610006L08Rik</th><td>  0</td><td>  0</td><td>  0</td><td>  0</td><td>  0</td><td>  0</td><td>  0</td><td>  0</td><td>  0</td><td>  0</td><td>⋯</td><td>  0</td><td>   0</td><td>  0</td><td>   0</td><td>  0</td><td>  0</td><td>  0</td><td>  0</td><td>  0</td><td>  0</td></tr>\n",
       "\t<tr><th scope=row>0610007P14Rik</th><td>327</td><td>360</td><td>442</td><td>358</td><td>429</td><td>347</td><td>572</td><td>585</td><td>697</td><td>408</td><td>⋯</td><td>338</td><td> 633</td><td>538</td><td> 714</td><td>228</td><td>384</td><td>336</td><td>626</td><td>516</td><td>554</td></tr>\n",
       "\t<tr><th scope=row>0610009B22Rik</th><td>631</td><td>604</td><td>834</td><td>471</td><td>614</td><td>497</td><td>926</td><td>957</td><td>929</td><td>752</td><td>⋯</td><td>451</td><td>1082</td><td>828</td><td>1012</td><td>432</td><td>617</td><td>659</td><td>715</td><td>825</td><td>715</td></tr>\n",
       "\t<tr><th scope=row>0610009E02Rik</th><td>  2</td><td>  2</td><td>  2</td><td>  3</td><td>  4</td><td>  4</td><td>  1</td><td>  5</td><td>  5</td><td>  0</td><td>⋯</td><td>  2</td><td>   4</td><td>  3</td><td>   2</td><td>  0</td><td>  4</td><td> 12</td><td>  0</td><td>  6</td><td>  1</td></tr>\n",
       "\t<tr><th scope=row>0610009L18Rik</th><td> 32</td><td> 64</td><td> 34</td><td> 48</td><td> 57</td><td> 28</td><td> 71</td><td> 53</td><td> 62</td><td> 48</td><td>⋯</td><td> 38</td><td>  68</td><td> 21</td><td>  43</td><td> 48</td><td> 62</td><td> 88</td><td> 46</td><td> 39</td><td> 44</td></tr>\n",
       "</tbody>\n",
       "</table>\n"
      ],
      "text/latex": [
       "A matrix: 6 × 30 of type dbl\n",
       "\\begin{tabular}{r|lllllllllllllllllllll}\n",
       "  & SRR10079579 & SRR10079580 & SRR10079581 & SRR10079582 & SRR10079583 & SRR10079584 & SRR10079585 & SRR10079586 & SRR10079587 & SRR10079588 & ⋯ & SRR10079599 & SRR10079600 & SRR10079601 & SRR10079602 & SRR10079603 & SRR10079604 & SRR10079605 & SRR10079606 & SRR10079607 & SRR10079608\\\\\n",
       "\\hline\n",
       "\t0610005C13Rik &   0 &   0 &   1 &   1 &   1 &   0 &   1 &   0 &   1 &   0 & ⋯ &   0 &    1 &   2 &    1 &   0 &   0 &   0 &   1 &   0 &   0\\\\\n",
       "\t0610006L08Rik &   0 &   0 &   0 &   0 &   0 &   0 &   0 &   0 &   0 &   0 & ⋯ &   0 &    0 &   0 &    0 &   0 &   0 &   0 &   0 &   0 &   0\\\\\n",
       "\t0610007P14Rik & 327 & 360 & 442 & 358 & 429 & 347 & 572 & 585 & 697 & 408 & ⋯ & 338 &  633 & 538 &  714 & 228 & 384 & 336 & 626 & 516 & 554\\\\\n",
       "\t0610009B22Rik & 631 & 604 & 834 & 471 & 614 & 497 & 926 & 957 & 929 & 752 & ⋯ & 451 & 1082 & 828 & 1012 & 432 & 617 & 659 & 715 & 825 & 715\\\\\n",
       "\t0610009E02Rik &   2 &   2 &   2 &   3 &   4 &   4 &   1 &   5 &   5 &   0 & ⋯ &   2 &    4 &   3 &    2 &   0 &   4 &  12 &   0 &   6 &   1\\\\\n",
       "\t0610009L18Rik &  32 &  64 &  34 &  48 &  57 &  28 &  71 &  53 &  62 &  48 & ⋯ &  38 &   68 &  21 &   43 &  48 &  62 &  88 &  46 &  39 &  44\\\\\n",
       "\\end{tabular}\n"
      ],
      "text/markdown": [
       "\n",
       "A matrix: 6 × 30 of type dbl\n",
       "\n",
       "| <!--/--> | SRR10079579 | SRR10079580 | SRR10079581 | SRR10079582 | SRR10079583 | SRR10079584 | SRR10079585 | SRR10079586 | SRR10079587 | SRR10079588 | ⋯ | SRR10079599 | SRR10079600 | SRR10079601 | SRR10079602 | SRR10079603 | SRR10079604 | SRR10079605 | SRR10079606 | SRR10079607 | SRR10079608 |\n",
       "|---|---|---|---|---|---|---|---|---|---|---|---|---|---|---|---|---|---|---|---|---|---|\n",
       "| 0610005C13Rik |   0 |   0 |   1 |   1 |   1 |   0 |   1 |   0 |   1 |   0 | ⋯ |   0 |    1 |   2 |    1 |   0 |   0 |   0 |   1 |   0 |   0 |\n",
       "| 0610006L08Rik |   0 |   0 |   0 |   0 |   0 |   0 |   0 |   0 |   0 |   0 | ⋯ |   0 |    0 |   0 |    0 |   0 |   0 |   0 |   0 |   0 |   0 |\n",
       "| 0610007P14Rik | 327 | 360 | 442 | 358 | 429 | 347 | 572 | 585 | 697 | 408 | ⋯ | 338 |  633 | 538 |  714 | 228 | 384 | 336 | 626 | 516 | 554 |\n",
       "| 0610009B22Rik | 631 | 604 | 834 | 471 | 614 | 497 | 926 | 957 | 929 | 752 | ⋯ | 451 | 1082 | 828 | 1012 | 432 | 617 | 659 | 715 | 825 | 715 |\n",
       "| 0610009E02Rik |   2 |   2 |   2 |   3 |   4 |   4 |   1 |   5 |   5 |   0 | ⋯ |   2 |    4 |   3 |    2 |   0 |   4 |  12 |   0 |   6 |   1 |\n",
       "| 0610009L18Rik |  32 |  64 |  34 |  48 |  57 |  28 |  71 |  53 |  62 |  48 | ⋯ |  38 |   68 |  21 |   43 |  48 |  62 |  88 |  46 |  39 |  44 |\n",
       "\n"
      ],
      "text/plain": [
       "              SRR10079579 SRR10079580 SRR10079581 SRR10079582 SRR10079583\n",
       "0610005C13Rik   0           0           1           1           1        \n",
       "0610006L08Rik   0           0           0           0           0        \n",
       "0610007P14Rik 327         360         442         358         429        \n",
       "0610009B22Rik 631         604         834         471         614        \n",
       "0610009E02Rik   2           2           2           3           4        \n",
       "0610009L18Rik  32          64          34          48          57        \n",
       "              SRR10079584 SRR10079585 SRR10079586 SRR10079587 SRR10079588 ⋯\n",
       "0610005C13Rik   0           1           0           1           0         ⋯\n",
       "0610006L08Rik   0           0           0           0           0         ⋯\n",
       "0610007P14Rik 347         572         585         697         408         ⋯\n",
       "0610009B22Rik 497         926         957         929         752         ⋯\n",
       "0610009E02Rik   4           1           5           5           0         ⋯\n",
       "0610009L18Rik  28          71          53          62          48         ⋯\n",
       "              SRR10079599 SRR10079600 SRR10079601 SRR10079602 SRR10079603\n",
       "0610005C13Rik   0            1          2            1          0        \n",
       "0610006L08Rik   0            0          0            0          0        \n",
       "0610007P14Rik 338          633        538          714        228        \n",
       "0610009B22Rik 451         1082        828         1012        432        \n",
       "0610009E02Rik   2            4          3            2          0        \n",
       "0610009L18Rik  38           68         21           43         48        \n",
       "              SRR10079604 SRR10079605 SRR10079606 SRR10079607 SRR10079608\n",
       "0610005C13Rik   0           0           1           0           0        \n",
       "0610006L08Rik   0           0           0           0           0        \n",
       "0610007P14Rik 384         336         626         516         554        \n",
       "0610009B22Rik 617         659         715         825         715        \n",
       "0610009E02Rik   4          12           0           6           1        \n",
       "0610009L18Rik  62          88          46          39          44        "
      ]
     },
     "metadata": {},
     "output_type": "display_data"
    },
    {
     "data": {
      "text/html": [
       "<table class=\"dataframe\">\n",
       "<caption>A matrix: 6 × 30 of type dbl</caption>\n",
       "<thead>\n",
       "\t<tr><th></th><th scope=col>SRR10079609</th><th scope=col>SRR10079610</th><th scope=col>SRR10079611</th><th scope=col>SRR10079612</th><th scope=col>SRR10079613</th><th scope=col>SRR10079614</th><th scope=col>SRR10079615</th><th scope=col>SRR10079616</th><th scope=col>SRR10079617</th><th scope=col>SRR10079618</th><th scope=col>⋯</th><th scope=col>SRR10079629</th><th scope=col>SRR10079630</th><th scope=col>SRR10079631</th><th scope=col>SRR10079632</th><th scope=col>SRR10079633</th><th scope=col>SRR10079634</th><th scope=col>SRR10079635</th><th scope=col>SRR10079636</th><th scope=col>SRR10079637</th><th scope=col>SRR10079638</th></tr>\n",
       "</thead>\n",
       "<tbody>\n",
       "\t<tr><th scope=row>0610005C13Rik</th><td>   0</td><td>   1</td><td>   0</td><td>   7</td><td>   7</td><td>   5</td><td>   6</td><td>   3</td><td>   3</td><td>   3</td><td>⋯</td><td>   2</td><td>   7</td><td>   6</td><td>   3</td><td>  2</td><td>   0</td><td>   0</td><td>   9</td><td>   6</td><td>   4</td></tr>\n",
       "\t<tr><th scope=row>0610006L08Rik</th><td>   0</td><td>   0</td><td>   0</td><td>   0</td><td>   0</td><td>   0</td><td>   0</td><td>   0</td><td>   0</td><td>   0</td><td>⋯</td><td>   0</td><td>   1</td><td>   0</td><td>   1</td><td>  0</td><td>   0</td><td>   0</td><td>   0</td><td>   0</td><td>   0</td></tr>\n",
       "\t<tr><th scope=row>0610007P14Rik</th><td>1139</td><td>1211</td><td>1403</td><td>1222</td><td>1087</td><td>1506</td><td>1987</td><td>2075</td><td>2088</td><td>1180</td><td>⋯</td><td>1214</td><td>1667</td><td>1672</td><td>1704</td><td>972</td><td>1167</td><td>1294</td><td>1855</td><td>1509</td><td>1333</td></tr>\n",
       "\t<tr><th scope=row>0610009B22Rik</th><td> 840</td><td> 873</td><td>1007</td><td> 736</td><td> 691</td><td> 901</td><td>1454</td><td>1432</td><td>1414</td><td> 893</td><td>⋯</td><td> 735</td><td>1006</td><td>1045</td><td>1054</td><td>801</td><td> 901</td><td> 855</td><td>1180</td><td>1002</td><td> 895</td></tr>\n",
       "\t<tr><th scope=row>0610009E02Rik</th><td>  10</td><td>   4</td><td>   2</td><td>  17</td><td>   6</td><td>  19</td><td>  29</td><td>  27</td><td>  28</td><td>   2</td><td>⋯</td><td>  22</td><td>  12</td><td>  28</td><td>  18</td><td> 11</td><td>   7</td><td>   6</td><td>  22</td><td>  21</td><td>   7</td></tr>\n",
       "\t<tr><th scope=row>0610009L18Rik</th><td>  75</td><td>  59</td><td>  72</td><td> 129</td><td>  91</td><td> 104</td><td> 168</td><td> 177</td><td> 195</td><td> 119</td><td>⋯</td><td> 148</td><td> 117</td><td> 194</td><td>  88</td><td> 93</td><td> 114</td><td> 128</td><td> 184</td><td> 187</td><td> 125</td></tr>\n",
       "</tbody>\n",
       "</table>\n"
      ],
      "text/latex": [
       "A matrix: 6 × 30 of type dbl\n",
       "\\begin{tabular}{r|lllllllllllllllllllll}\n",
       "  & SRR10079609 & SRR10079610 & SRR10079611 & SRR10079612 & SRR10079613 & SRR10079614 & SRR10079615 & SRR10079616 & SRR10079617 & SRR10079618 & ⋯ & SRR10079629 & SRR10079630 & SRR10079631 & SRR10079632 & SRR10079633 & SRR10079634 & SRR10079635 & SRR10079636 & SRR10079637 & SRR10079638\\\\\n",
       "\\hline\n",
       "\t0610005C13Rik &    0 &    1 &    0 &    7 &    7 &    5 &    6 &    3 &    3 &    3 & ⋯ &    2 &    7 &    6 &    3 &   2 &    0 &    0 &    9 &    6 &    4\\\\\n",
       "\t0610006L08Rik &    0 &    0 &    0 &    0 &    0 &    0 &    0 &    0 &    0 &    0 & ⋯ &    0 &    1 &    0 &    1 &   0 &    0 &    0 &    0 &    0 &    0\\\\\n",
       "\t0610007P14Rik & 1139 & 1211 & 1403 & 1222 & 1087 & 1506 & 1987 & 2075 & 2088 & 1180 & ⋯ & 1214 & 1667 & 1672 & 1704 & 972 & 1167 & 1294 & 1855 & 1509 & 1333\\\\\n",
       "\t0610009B22Rik &  840 &  873 & 1007 &  736 &  691 &  901 & 1454 & 1432 & 1414 &  893 & ⋯ &  735 & 1006 & 1045 & 1054 & 801 &  901 &  855 & 1180 & 1002 &  895\\\\\n",
       "\t0610009E02Rik &   10 &    4 &    2 &   17 &    6 &   19 &   29 &   27 &   28 &    2 & ⋯ &   22 &   12 &   28 &   18 &  11 &    7 &    6 &   22 &   21 &    7\\\\\n",
       "\t0610009L18Rik &   75 &   59 &   72 &  129 &   91 &  104 &  168 &  177 &  195 &  119 & ⋯ &  148 &  117 &  194 &   88 &  93 &  114 &  128 &  184 &  187 &  125\\\\\n",
       "\\end{tabular}\n"
      ],
      "text/markdown": [
       "\n",
       "A matrix: 6 × 30 of type dbl\n",
       "\n",
       "| <!--/--> | SRR10079609 | SRR10079610 | SRR10079611 | SRR10079612 | SRR10079613 | SRR10079614 | SRR10079615 | SRR10079616 | SRR10079617 | SRR10079618 | ⋯ | SRR10079629 | SRR10079630 | SRR10079631 | SRR10079632 | SRR10079633 | SRR10079634 | SRR10079635 | SRR10079636 | SRR10079637 | SRR10079638 |\n",
       "|---|---|---|---|---|---|---|---|---|---|---|---|---|---|---|---|---|---|---|---|---|---|\n",
       "| 0610005C13Rik |    0 |    1 |    0 |    7 |    7 |    5 |    6 |    3 |    3 |    3 | ⋯ |    2 |    7 |    6 |    3 |   2 |    0 |    0 |    9 |    6 |    4 |\n",
       "| 0610006L08Rik |    0 |    0 |    0 |    0 |    0 |    0 |    0 |    0 |    0 |    0 | ⋯ |    0 |    1 |    0 |    1 |   0 |    0 |    0 |    0 |    0 |    0 |\n",
       "| 0610007P14Rik | 1139 | 1211 | 1403 | 1222 | 1087 | 1506 | 1987 | 2075 | 2088 | 1180 | ⋯ | 1214 | 1667 | 1672 | 1704 | 972 | 1167 | 1294 | 1855 | 1509 | 1333 |\n",
       "| 0610009B22Rik |  840 |  873 | 1007 |  736 |  691 |  901 | 1454 | 1432 | 1414 |  893 | ⋯ |  735 | 1006 | 1045 | 1054 | 801 |  901 |  855 | 1180 | 1002 |  895 |\n",
       "| 0610009E02Rik |   10 |    4 |    2 |   17 |    6 |   19 |   29 |   27 |   28 |    2 | ⋯ |   22 |   12 |   28 |   18 |  11 |    7 |    6 |   22 |   21 |    7 |\n",
       "| 0610009L18Rik |   75 |   59 |   72 |  129 |   91 |  104 |  168 |  177 |  195 |  119 | ⋯ |  148 |  117 |  194 |   88 |  93 |  114 |  128 |  184 |  187 |  125 |\n",
       "\n"
      ],
      "text/plain": [
       "              SRR10079609 SRR10079610 SRR10079611 SRR10079612 SRR10079613\n",
       "0610005C13Rik    0           1           0           7           7       \n",
       "0610006L08Rik    0           0           0           0           0       \n",
       "0610007P14Rik 1139        1211        1403        1222        1087       \n",
       "0610009B22Rik  840         873        1007         736         691       \n",
       "0610009E02Rik   10           4           2          17           6       \n",
       "0610009L18Rik   75          59          72         129          91       \n",
       "              SRR10079614 SRR10079615 SRR10079616 SRR10079617 SRR10079618 ⋯\n",
       "0610005C13Rik    5           6           3           3           3        ⋯\n",
       "0610006L08Rik    0           0           0           0           0        ⋯\n",
       "0610007P14Rik 1506        1987        2075        2088        1180        ⋯\n",
       "0610009B22Rik  901        1454        1432        1414         893        ⋯\n",
       "0610009E02Rik   19          29          27          28           2        ⋯\n",
       "0610009L18Rik  104         168         177         195         119        ⋯\n",
       "              SRR10079629 SRR10079630 SRR10079631 SRR10079632 SRR10079633\n",
       "0610005C13Rik    2           7           6           3          2        \n",
       "0610006L08Rik    0           1           0           1          0        \n",
       "0610007P14Rik 1214        1667        1672        1704        972        \n",
       "0610009B22Rik  735        1006        1045        1054        801        \n",
       "0610009E02Rik   22          12          28          18         11        \n",
       "0610009L18Rik  148         117         194          88         93        \n",
       "              SRR10079634 SRR10079635 SRR10079636 SRR10079637 SRR10079638\n",
       "0610005C13Rik    0           0           9           6           4       \n",
       "0610006L08Rik    0           0           0           0           0       \n",
       "0610007P14Rik 1167        1294        1855        1509        1333       \n",
       "0610009B22Rik  901         855        1180        1002         895       \n",
       "0610009E02Rik    7           6          22          21           7       \n",
       "0610009L18Rik  114         128         184         187         125       "
      ]
     },
     "metadata": {},
     "output_type": "display_data"
    }
   ],
   "source": [
    "# microglia samples: SRR10079579 - SRR10079608\n",
    "micro <- txi$counts[,1:30]\n",
    "head(micro)\n",
    "\n",
    "# astrocyte samples: SRR10079609 - SRR10079638\n",
    "astro <- txi$counts[,31:60]\n",
    "head(astro)"
   ]
  },
  {
   "cell_type": "code",
   "execution_count": 5,
   "id": "ca796792",
   "metadata": {},
   "outputs": [
    {
     "data": {
      "text/html": [
       "<table class=\"dataframe\">\n",
       "<caption>A data.frame: 6 × 4</caption>\n",
       "<thead>\n",
       "\t<tr><th></th><th scope=col>Sample</th><th scope=col>Condition</th><th scope=col>Time</th><th scope=col>Batch</th></tr>\n",
       "\t<tr><th></th><th scope=col>&lt;fct&gt;</th><th scope=col>&lt;fct&gt;</th><th scope=col>&lt;int&gt;</th><th scope=col>&lt;fct&gt;</th></tr>\n",
       "</thead>\n",
       "<tbody>\n",
       "\t<tr><th scope=row>SRR10079579</th><td>SRR10079579</td><td>control</td><td>2</td><td>B_NULL</td></tr>\n",
       "\t<tr><th scope=row>SRR10079580</th><td>SRR10079580</td><td>control</td><td>2</td><td>B_NULL</td></tr>\n",
       "\t<tr><th scope=row>SRR10079581</th><td>SRR10079581</td><td>control</td><td>2</td><td>B_NULL</td></tr>\n",
       "\t<tr><th scope=row>SRR10079582</th><td>SRR10079582</td><td>control</td><td>4</td><td>B_NULL</td></tr>\n",
       "\t<tr><th scope=row>SRR10079583</th><td>SRR10079583</td><td>control</td><td>4</td><td>B_NULL</td></tr>\n",
       "\t<tr><th scope=row>SRR10079584</th><td>SRR10079584</td><td>control</td><td>4</td><td>B_NULL</td></tr>\n",
       "</tbody>\n",
       "</table>\n"
      ],
      "text/latex": [
       "A data.frame: 6 × 4\n",
       "\\begin{tabular}{r|llll}\n",
       "  & Sample & Condition & Time & Batch\\\\\n",
       "  & <fct> & <fct> & <int> & <fct>\\\\\n",
       "\\hline\n",
       "\tSRR10079579 & SRR10079579 & control & 2 & B\\_NULL\\\\\n",
       "\tSRR10079580 & SRR10079580 & control & 2 & B\\_NULL\\\\\n",
       "\tSRR10079581 & SRR10079581 & control & 2 & B\\_NULL\\\\\n",
       "\tSRR10079582 & SRR10079582 & control & 4 & B\\_NULL\\\\\n",
       "\tSRR10079583 & SRR10079583 & control & 4 & B\\_NULL\\\\\n",
       "\tSRR10079584 & SRR10079584 & control & 4 & B\\_NULL\\\\\n",
       "\\end{tabular}\n"
      ],
      "text/markdown": [
       "\n",
       "A data.frame: 6 × 4\n",
       "\n",
       "| <!--/--> | Sample &lt;fct&gt; | Condition &lt;fct&gt; | Time &lt;int&gt; | Batch &lt;fct&gt; |\n",
       "|---|---|---|---|---|\n",
       "| SRR10079579 | SRR10079579 | control | 2 | B_NULL |\n",
       "| SRR10079580 | SRR10079580 | control | 2 | B_NULL |\n",
       "| SRR10079581 | SRR10079581 | control | 2 | B_NULL |\n",
       "| SRR10079582 | SRR10079582 | control | 4 | B_NULL |\n",
       "| SRR10079583 | SRR10079583 | control | 4 | B_NULL |\n",
       "| SRR10079584 | SRR10079584 | control | 4 | B_NULL |\n",
       "\n"
      ],
      "text/plain": [
       "            Sample      Condition Time Batch \n",
       "SRR10079579 SRR10079579 control   2    B_NULL\n",
       "SRR10079580 SRR10079580 control   2    B_NULL\n",
       "SRR10079581 SRR10079581 control   2    B_NULL\n",
       "SRR10079582 SRR10079582 control   4    B_NULL\n",
       "SRR10079583 SRR10079583 control   4    B_NULL\n",
       "SRR10079584 SRR10079584 control   4    B_NULL"
      ]
     },
     "metadata": {},
     "output_type": "display_data"
    },
    {
     "data": {
      "text/html": [
       "<table class=\"dataframe\">\n",
       "<caption>A data.frame: 6 × 4</caption>\n",
       "<thead>\n",
       "\t<tr><th></th><th scope=col>Sample</th><th scope=col>Condition</th><th scope=col>Time</th><th scope=col>Batch</th></tr>\n",
       "\t<tr><th></th><th scope=col>&lt;fct&gt;</th><th scope=col>&lt;fct&gt;</th><th scope=col>&lt;int&gt;</th><th scope=col>&lt;fct&gt;</th></tr>\n",
       "</thead>\n",
       "<tbody>\n",
       "\t<tr><th scope=row>SRR10079609</th><td>SRR10079609</td><td>control</td><td>2</td><td>B_NULL</td></tr>\n",
       "\t<tr><th scope=row>SRR10079610</th><td>SRR10079610</td><td>control</td><td>2</td><td>B_NULL</td></tr>\n",
       "\t<tr><th scope=row>SRR10079611</th><td>SRR10079611</td><td>control</td><td>2</td><td>B_NULL</td></tr>\n",
       "\t<tr><th scope=row>SRR10079612</th><td>SRR10079612</td><td>control</td><td>4</td><td>B_NULL</td></tr>\n",
       "\t<tr><th scope=row>SRR10079613</th><td>SRR10079613</td><td>control</td><td>4</td><td>B_NULL</td></tr>\n",
       "\t<tr><th scope=row>SRR10079614</th><td>SRR10079614</td><td>control</td><td>4</td><td>B_NULL</td></tr>\n",
       "</tbody>\n",
       "</table>\n"
      ],
      "text/latex": [
       "A data.frame: 6 × 4\n",
       "\\begin{tabular}{r|llll}\n",
       "  & Sample & Condition & Time & Batch\\\\\n",
       "  & <fct> & <fct> & <int> & <fct>\\\\\n",
       "\\hline\n",
       "\tSRR10079609 & SRR10079609 & control & 2 & B\\_NULL\\\\\n",
       "\tSRR10079610 & SRR10079610 & control & 2 & B\\_NULL\\\\\n",
       "\tSRR10079611 & SRR10079611 & control & 2 & B\\_NULL\\\\\n",
       "\tSRR10079612 & SRR10079612 & control & 4 & B\\_NULL\\\\\n",
       "\tSRR10079613 & SRR10079613 & control & 4 & B\\_NULL\\\\\n",
       "\tSRR10079614 & SRR10079614 & control & 4 & B\\_NULL\\\\\n",
       "\\end{tabular}\n"
      ],
      "text/markdown": [
       "\n",
       "A data.frame: 6 × 4\n",
       "\n",
       "| <!--/--> | Sample &lt;fct&gt; | Condition &lt;fct&gt; | Time &lt;int&gt; | Batch &lt;fct&gt; |\n",
       "|---|---|---|---|---|\n",
       "| SRR10079609 | SRR10079609 | control | 2 | B_NULL |\n",
       "| SRR10079610 | SRR10079610 | control | 2 | B_NULL |\n",
       "| SRR10079611 | SRR10079611 | control | 2 | B_NULL |\n",
       "| SRR10079612 | SRR10079612 | control | 4 | B_NULL |\n",
       "| SRR10079613 | SRR10079613 | control | 4 | B_NULL |\n",
       "| SRR10079614 | SRR10079614 | control | 4 | B_NULL |\n",
       "\n"
      ],
      "text/plain": [
       "            Sample      Condition Time Batch \n",
       "SRR10079609 SRR10079609 control   2    B_NULL\n",
       "SRR10079610 SRR10079610 control   2    B_NULL\n",
       "SRR10079611 SRR10079611 control   2    B_NULL\n",
       "SRR10079612 SRR10079612 control   4    B_NULL\n",
       "SRR10079613 SRR10079613 control   4    B_NULL\n",
       "SRR10079614 SRR10079614 control   4    B_NULL"
      ]
     },
     "metadata": {},
     "output_type": "display_data"
    }
   ],
   "source": [
    "micro_info <- read.table(file.path(dir, \"microglia_info.txt\"), header = TRUE)\n",
    "astro_info <- read.table(file.path(dir, \"astrocyte_info.txt\"), header = TRUE)\n",
    "\n",
    "head(micro_info)\n",
    "head(astro_info)"
   ]
  },
  {
   "cell_type": "code",
   "execution_count": 6,
   "id": "7da4f0e1",
   "metadata": {},
   "outputs": [
    {
     "name": "stderr",
     "output_type": "stream",
     "text": [
      "ImpulseDE2 for count data, v1.10.0\n",
      "\n",
      "# Process input\n",
      "\n"
     ]
    },
    {
     "name": "stdout",
     "output_type": "stream",
     "text": [
      "Processing Details:\n",
      "ImpulseDE2 runs in case-ctrl mode.\n",
      "Found time points: 2,4,6,9,12\n",
      "Case: Found the samples at time point 2: SRR10079594,SRR10079595,SRR10079596\n",
      "Case: Found the samples at time point 4: SRR10079597,SRR10079598,SRR10079599\n",
      "Case: Found the samples at time point 6: SRR10079600,SRR10079601,SRR10079602\n",
      "Case: Found the samples at time point 9: SRR10079603,SRR10079604,SRR10079605\n",
      "Case: Found the samples at time point 12: SRR10079606,SRR10079607,SRR10079608\n",
      "Control: Found the following samples at time point 2:SRR10079579,SRR10079580,SRR10079581\n",
      "Control: Found the following samples at time point 4:SRR10079582,SRR10079583,SRR10079584\n",
      "Control: Found the following samples at time point 6:SRR10079585,SRR10079586,SRR10079587\n",
      "Control: Found the following samples at time point 9:SRR10079588,SRR10079589,SRR10079590\n",
      "Control: Found the following samples at time point 12:SRR10079591,SRR10079592,SRR10079593\n",
      "Input contained 35976 genes/regions.\n",
      "WARNING: 11847 out of 35976 genes do not have obserserved non-zero counts and are excluded.\n",
      "Selected 24129 genes/regions for analysis.\n"
     ]
    },
    {
     "name": "stderr",
     "output_type": "stream",
     "text": [
      "# Run DESeq2: Using dispersion factorscomputed by DESeq2.\n",
      "\n",
      "converting counts to integer mode\n",
      "\n",
      "gene-wise dispersion estimates\n",
      "\n",
      "mean-dispersion relationship\n",
      "\n",
      "final dispersion estimates\n",
      "\n"
     ]
    },
    {
     "name": "stdout",
     "output_type": "stream",
     "text": [
      "[1] \"Corrected 8 DESEq2 dispersion estimates which to avoid variance overestimation and loss of discriminatory power for model selection.\"\n"
     ]
    },
    {
     "name": "stderr",
     "output_type": "stream",
     "text": [
      "Consumed time: 0.45 min.\n",
      "\n",
      "# Compute size factors\n",
      "\n",
      "# Fitting null and alternative model to the genes\n",
      "\n",
      "Consumed time: 18.01 min.\n",
      "\n",
      "# Differentially expression analysis based on model fits\n",
      "\n",
      "Finished running ImpulseDE2.\n",
      "\n",
      "TOTAL consumed time: 18.59 min.\n",
      "\n"
     ]
    },
    {
     "data": {
      "text/html": [
       "<table class=\"dataframe\">\n",
       "<caption>A data.frame: 6 × 12</caption>\n",
       "<thead>\n",
       "\t<tr><th></th><th scope=col>Gene</th><th scope=col>p</th><th scope=col>padj</th><th scope=col>loglik_full</th><th scope=col>loglik_red</th><th scope=col>df_full</th><th scope=col>df_red</th><th scope=col>mean</th><th scope=col>converge_combined</th><th scope=col>converge_case</th><th scope=col>converge_control</th><th scope=col>allZero</th></tr>\n",
       "\t<tr><th></th><th scope=col>&lt;chr&gt;</th><th scope=col>&lt;dbl&gt;</th><th scope=col>&lt;dbl&gt;</th><th scope=col>&lt;dbl&gt;</th><th scope=col>&lt;dbl&gt;</th><th scope=col>&lt;dbl&gt;</th><th scope=col>&lt;dbl&gt;</th><th scope=col>&lt;dbl&gt;</th><th scope=col>&lt;int&gt;</th><th scope=col>&lt;int&gt;</th><th scope=col>&lt;int&gt;</th><th scope=col>&lt;lgl&gt;</th></tr>\n",
       "</thead>\n",
       "<tbody>\n",
       "\t<tr><th scope=row>0610005C13Rik</th><td>0610005C13Rik</td><td>0.93149703</td><td>1.0000000</td><td> -27.59461</td><td> -28.52821</td><td>13</td><td> 7</td><td>  0.3797049</td><td> 0</td><td> 0</td><td> 0</td><td>FALSE</td></tr>\n",
       "\t<tr><th scope=row>0610006L08Rik</th><td>NA           </td><td>        NA</td><td>       NA</td><td>        NA</td><td>        NA</td><td>NA</td><td>NA</td><td>         NA</td><td>NA</td><td>NA</td><td>NA</td><td> TRUE</td></tr>\n",
       "\t<tr><th scope=row>0610007P14Rik</th><td>0610007P14Rik</td><td>0.01209888</td><td>0.1076453</td><td>-165.74597</td><td>-173.90984</td><td>13</td><td> 7</td><td>415.2975093</td><td> 0</td><td> 0</td><td> 0</td><td>FALSE</td></tr>\n",
       "\t<tr><th scope=row>0610009B22Rik</th><td>0610009B22Rik</td><td>0.04469463</td><td>0.2798227</td><td>-213.51122</td><td>-219.95991</td><td>13</td><td> 7</td><td>859.6096234</td><td> 0</td><td> 0</td><td> 0</td><td>FALSE</td></tr>\n",
       "\t<tr><th scope=row>0610009E02Rik</th><td>0610009E02Rik</td><td>0.34662253</td><td>1.0000000</td><td> -61.27388</td><td> -64.63845</td><td>13</td><td> 7</td><td>  2.9816540</td><td> 0</td><td> 0</td><td> 0</td><td>FALSE</td></tr>\n",
       "\t<tr><th scope=row>0610009L18Rik</th><td>0610009L18Rik</td><td>0.06654196</td><td>0.3689216</td><td>-118.46281</td><td>-124.36365</td><td>13</td><td> 7</td><td> 43.6836818</td><td> 0</td><td> 0</td><td> 0</td><td>FALSE</td></tr>\n",
       "</tbody>\n",
       "</table>\n"
      ],
      "text/latex": [
       "A data.frame: 6 × 12\n",
       "\\begin{tabular}{r|llllllllllll}\n",
       "  & Gene & p & padj & loglik\\_full & loglik\\_red & df\\_full & df\\_red & mean & converge\\_combined & converge\\_case & converge\\_control & allZero\\\\\n",
       "  & <chr> & <dbl> & <dbl> & <dbl> & <dbl> & <dbl> & <dbl> & <dbl> & <int> & <int> & <int> & <lgl>\\\\\n",
       "\\hline\n",
       "\t0610005C13Rik & 0610005C13Rik & 0.93149703 & 1.0000000 &  -27.59461 &  -28.52821 & 13 &  7 &   0.3797049 &  0 &  0 &  0 & FALSE\\\\\n",
       "\t0610006L08Rik & NA            &         NA &        NA &         NA &         NA & NA & NA &          NA & NA & NA & NA &  TRUE\\\\\n",
       "\t0610007P14Rik & 0610007P14Rik & 0.01209888 & 0.1076453 & -165.74597 & -173.90984 & 13 &  7 & 415.2975093 &  0 &  0 &  0 & FALSE\\\\\n",
       "\t0610009B22Rik & 0610009B22Rik & 0.04469463 & 0.2798227 & -213.51122 & -219.95991 & 13 &  7 & 859.6096234 &  0 &  0 &  0 & FALSE\\\\\n",
       "\t0610009E02Rik & 0610009E02Rik & 0.34662253 & 1.0000000 &  -61.27388 &  -64.63845 & 13 &  7 &   2.9816540 &  0 &  0 &  0 & FALSE\\\\\n",
       "\t0610009L18Rik & 0610009L18Rik & 0.06654196 & 0.3689216 & -118.46281 & -124.36365 & 13 &  7 &  43.6836818 &  0 &  0 &  0 & FALSE\\\\\n",
       "\\end{tabular}\n"
      ],
      "text/markdown": [
       "\n",
       "A data.frame: 6 × 12\n",
       "\n",
       "| <!--/--> | Gene &lt;chr&gt; | p &lt;dbl&gt; | padj &lt;dbl&gt; | loglik_full &lt;dbl&gt; | loglik_red &lt;dbl&gt; | df_full &lt;dbl&gt; | df_red &lt;dbl&gt; | mean &lt;dbl&gt; | converge_combined &lt;int&gt; | converge_case &lt;int&gt; | converge_control &lt;int&gt; | allZero &lt;lgl&gt; |\n",
       "|---|---|---|---|---|---|---|---|---|---|---|---|---|\n",
       "| 0610005C13Rik | 0610005C13Rik | 0.93149703 | 1.0000000 |  -27.59461 |  -28.52821 | 13 |  7 |   0.3797049 |  0 |  0 |  0 | FALSE |\n",
       "| 0610006L08Rik | NA            |         NA |        NA |         NA |         NA | NA | NA |          NA | NA | NA | NA |  TRUE |\n",
       "| 0610007P14Rik | 0610007P14Rik | 0.01209888 | 0.1076453 | -165.74597 | -173.90984 | 13 |  7 | 415.2975093 |  0 |  0 |  0 | FALSE |\n",
       "| 0610009B22Rik | 0610009B22Rik | 0.04469463 | 0.2798227 | -213.51122 | -219.95991 | 13 |  7 | 859.6096234 |  0 |  0 |  0 | FALSE |\n",
       "| 0610009E02Rik | 0610009E02Rik | 0.34662253 | 1.0000000 |  -61.27388 |  -64.63845 | 13 |  7 |   2.9816540 |  0 |  0 |  0 | FALSE |\n",
       "| 0610009L18Rik | 0610009L18Rik | 0.06654196 | 0.3689216 | -118.46281 | -124.36365 | 13 |  7 |  43.6836818 |  0 |  0 |  0 | FALSE |\n",
       "\n"
      ],
      "text/plain": [
       "              Gene          p          padj      loglik_full loglik_red df_full\n",
       "0610005C13Rik 0610005C13Rik 0.93149703 1.0000000  -27.59461   -28.52821 13     \n",
       "0610006L08Rik NA                    NA        NA         NA          NA NA     \n",
       "0610007P14Rik 0610007P14Rik 0.01209888 0.1076453 -165.74597  -173.90984 13     \n",
       "0610009B22Rik 0610009B22Rik 0.04469463 0.2798227 -213.51122  -219.95991 13     \n",
       "0610009E02Rik 0610009E02Rik 0.34662253 1.0000000  -61.27388   -64.63845 13     \n",
       "0610009L18Rik 0610009L18Rik 0.06654196 0.3689216 -118.46281  -124.36365 13     \n",
       "              df_red mean        converge_combined converge_case\n",
       "0610005C13Rik  7       0.3797049  0                 0           \n",
       "0610006L08Rik NA              NA NA                NA           \n",
       "0610007P14Rik  7     415.2975093  0                 0           \n",
       "0610009B22Rik  7     859.6096234  0                 0           \n",
       "0610009E02Rik  7       2.9816540  0                 0           \n",
       "0610009L18Rik  7      43.6836818  0                 0           \n",
       "              converge_control allZero\n",
       "0610005C13Rik  0               FALSE  \n",
       "0610006L08Rik NA                TRUE  \n",
       "0610007P14Rik  0               FALSE  \n",
       "0610009B22Rik  0               FALSE  \n",
       "0610009E02Rik  0               FALSE  \n",
       "0610009L18Rik  0               FALSE  "
      ]
     },
     "metadata": {},
     "output_type": "display_data"
    }
   ],
   "source": [
    "# Run ImpulseDE2 on microglia data (no DEGs)\n",
    "# matCountData: matrix of count data\n",
    "# dfAnnotation: info about samples (Sample, Condition, Time, Batch)\n",
    "# boolCaseCtrl: is this a case-control analysis or not?\n",
    "# vecConfounders: batch effects\n",
    "# scaNProc: threads\n",
    "microImpulseDE2 <- runImpulseDE2(\n",
    "  matCountData    = round(micro), \n",
    "  dfAnnotation    = micro_info,\n",
    "  boolCaseCtrl    = TRUE,\n",
    "  vecConfounders  = NULL,\n",
    "  scaNProc        = 8 )\n",
    "\n",
    "head(microImpulseDE2$dfImpulseDE2Results)"
   ]
  },
  {
   "cell_type": "code",
   "execution_count": 23,
   "id": "4c45dc44",
   "metadata": {},
   "outputs": [
    {
     "data": {
      "text/html": [
       "<strong>png:</strong> 2"
      ],
      "text/latex": [
       "\\textbf{png:} 2"
      ],
      "text/markdown": [
       "**png:** 2"
      ],
      "text/plain": [
       "png \n",
       "  2 "
      ]
     },
     "metadata": {},
     "output_type": "display_data"
    }
   ],
   "source": [
    "microAD_ht <- plotHeatmap(\n",
    "  objectImpulseDE2       = microImpulseDE2,\n",
    "  strCondition           = \"case\",\n",
    "  boolIdentifyTransients = FALSE,\n",
    "  scaQThres              = 0.05)\n",
    "  \n",
    "png(filename = \"microAD_impulse_ht.png\", width = 720, height = 1280)\n",
    "draw(microAD_ht$complexHeatmapFit)\n",
    "dev.off()"
   ]
  },
  {
   "cell_type": "code",
   "execution_count": 24,
   "id": "2efd6c97",
   "metadata": {},
   "outputs": [
    {
     "data": {
      "text/html": [
       "<strong>png:</strong> 2"
      ],
      "text/latex": [
       "\\textbf{png:} 2"
      ],
      "text/markdown": [
       "**png:** 2"
      ],
      "text/plain": [
       "png \n",
       "  2 "
      ]
     },
     "metadata": {},
     "output_type": "display_data"
    }
   ],
   "source": [
    "microWT_ht <- plotHeatmap(\n",
    "  objectImpulseDE2       = microImpulseDE2,\n",
    "  strCondition           = \"control\",\n",
    "  boolIdentifyTransients = FALSE,\n",
    "  scaQThres              = 0.05)\n",
    "  \n",
    "png(filename = \"microWT_impulse_ht.png\", width = 720, height = 1280)\n",
    "draw(microWT_ht$complexHeatmapFit)\n",
    "dev.off()"
   ]
  },
  {
   "cell_type": "code",
   "execution_count": 9,
   "id": "10b97af4",
   "metadata": {},
   "outputs": [
    {
     "name": "stderr",
     "output_type": "stream",
     "text": [
      "ImpulseDE2 for count data, v1.10.0\n",
      "\n",
      "# Process input\n",
      "\n"
     ]
    },
    {
     "name": "stdout",
     "output_type": "stream",
     "text": [
      "Processing Details:\n",
      "ImpulseDE2 runs in case-ctrl mode.\n",
      "Found time points: 2,4,6,9,12\n",
      "Case: Found the samples at time point 2: SRR10079624,SRR10079625,SRR10079626\n",
      "Case: Found the samples at time point 4: SRR10079627,SRR10079628,SRR10079629\n",
      "Case: Found the samples at time point 6: SRR10079630,SRR10079631,SRR10079632\n",
      "Case: Found the samples at time point 9: SRR10079633,SRR10079634,SRR10079635\n",
      "Case: Found the samples at time point 12: SRR10079636,SRR10079637,SRR10079638\n",
      "Control: Found the following samples at time point 2:SRR10079609,SRR10079610,SRR10079611\n",
      "Control: Found the following samples at time point 4:SRR10079612,SRR10079613,SRR10079614\n",
      "Control: Found the following samples at time point 6:SRR10079615,SRR10079616,SRR10079617\n",
      "Control: Found the following samples at time point 9:SRR10079618,SRR10079619,SRR10079620\n",
      "Control: Found the following samples at time point 12:SRR10079621,SRR10079622,SRR10079623\n",
      "Input contained 35976 genes/regions.\n",
      "WARNING: 9392 out of 35976 genes do not have obserserved non-zero counts and are excluded.\n",
      "Selected 26584 genes/regions for analysis.\n"
     ]
    },
    {
     "name": "stderr",
     "output_type": "stream",
     "text": [
      "# Run DESeq2: Using dispersion factorscomputed by DESeq2.\n",
      "\n",
      "converting counts to integer mode\n",
      "\n",
      "gene-wise dispersion estimates\n",
      "\n",
      "mean-dispersion relationship\n",
      "\n",
      "final dispersion estimates\n",
      "\n"
     ]
    },
    {
     "name": "stdout",
     "output_type": "stream",
     "text": [
      "[1] \"Corrected 40 DESEq2 dispersion estimates which to avoid variance overestimation and loss of discriminatory power for model selection.\"\n"
     ]
    },
    {
     "name": "stderr",
     "output_type": "stream",
     "text": [
      "Consumed time: 0.47 min.\n",
      "\n",
      "# Compute size factors\n",
      "\n",
      "# Fitting null and alternative model to the genes\n",
      "\n",
      "Consumed time: 20.81 min.\n",
      "\n",
      "# Differentially expression analysis based on model fits\n",
      "\n",
      "Finished running ImpulseDE2.\n",
      "\n",
      "TOTAL consumed time: 21.36 min.\n",
      "\n"
     ]
    },
    {
     "data": {
      "text/html": [
       "<table class=\"dataframe\">\n",
       "<caption>A data.frame: 6 × 12</caption>\n",
       "<thead>\n",
       "\t<tr><th></th><th scope=col>Gene</th><th scope=col>p</th><th scope=col>padj</th><th scope=col>loglik_full</th><th scope=col>loglik_red</th><th scope=col>df_full</th><th scope=col>df_red</th><th scope=col>mean</th><th scope=col>converge_combined</th><th scope=col>converge_case</th><th scope=col>converge_control</th><th scope=col>allZero</th></tr>\n",
       "\t<tr><th></th><th scope=col>&lt;chr&gt;</th><th scope=col>&lt;dbl&gt;</th><th scope=col>&lt;dbl&gt;</th><th scope=col>&lt;dbl&gt;</th><th scope=col>&lt;dbl&gt;</th><th scope=col>&lt;dbl&gt;</th><th scope=col>&lt;dbl&gt;</th><th scope=col>&lt;dbl&gt;</th><th scope=col>&lt;int&gt;</th><th scope=col>&lt;int&gt;</th><th scope=col>&lt;int&gt;</th><th scope=col>&lt;lgl&gt;</th></tr>\n",
       "</thead>\n",
       "<tbody>\n",
       "\t<tr><th scope=row>0610005C13Rik</th><td>0610005C13Rik</td><td>0.0382684671</td><td>0.180248733</td><td> -58.10427</td><td> -64.76280</td><td>13</td><td>7</td><td>   3.4986011</td><td>0</td><td>0</td><td>0</td><td>FALSE</td></tr>\n",
       "\t<tr><th scope=row>0610006L08Rik</th><td>0610006L08Rik</td><td>0.9529643645</td><td>1.000000000</td><td> -10.94140</td><td> -11.73871</td><td>13</td><td>7</td><td>   0.1017078</td><td>0</td><td>0</td><td>0</td><td>FALSE</td></tr>\n",
       "\t<tr><th scope=row>0610007P14Rik</th><td>0610007P14Rik</td><td>0.5869762135</td><td>1.000000000</td><td>-194.99026</td><td>-197.32452</td><td>13</td><td>7</td><td>1396.3237589</td><td>0</td><td>0</td><td>0</td><td>FALSE</td></tr>\n",
       "\t<tr><th scope=row>0610009B22Rik</th><td>0610009B22Rik</td><td>0.0000922035</td><td>0.001752064</td><td>-177.73295</td><td>-191.75474</td><td>13</td><td>7</td><td> 919.7881598</td><td>0</td><td>0</td><td>0</td><td>FALSE</td></tr>\n",
       "\t<tr><th scope=row>0610009E02Rik</th><td>0610009E02Rik</td><td>0.9500935953</td><td>1.000000000</td><td> -94.07140</td><td> -94.88846</td><td>13</td><td>7</td><td>  13.2352460</td><td>0</td><td>0</td><td>0</td><td>FALSE</td></tr>\n",
       "\t<tr><th scope=row>0610009L18Rik</th><td>0610009L18Rik</td><td>0.4736702534</td><td>0.977424113</td><td>-134.99861</td><td>-137.78097</td><td>13</td><td>7</td><td> 118.1859999</td><td>0</td><td>0</td><td>0</td><td>FALSE</td></tr>\n",
       "</tbody>\n",
       "</table>\n"
      ],
      "text/latex": [
       "A data.frame: 6 × 12\n",
       "\\begin{tabular}{r|llllllllllll}\n",
       "  & Gene & p & padj & loglik\\_full & loglik\\_red & df\\_full & df\\_red & mean & converge\\_combined & converge\\_case & converge\\_control & allZero\\\\\n",
       "  & <chr> & <dbl> & <dbl> & <dbl> & <dbl> & <dbl> & <dbl> & <dbl> & <int> & <int> & <int> & <lgl>\\\\\n",
       "\\hline\n",
       "\t0610005C13Rik & 0610005C13Rik & 0.0382684671 & 0.180248733 &  -58.10427 &  -64.76280 & 13 & 7 &    3.4986011 & 0 & 0 & 0 & FALSE\\\\\n",
       "\t0610006L08Rik & 0610006L08Rik & 0.9529643645 & 1.000000000 &  -10.94140 &  -11.73871 & 13 & 7 &    0.1017078 & 0 & 0 & 0 & FALSE\\\\\n",
       "\t0610007P14Rik & 0610007P14Rik & 0.5869762135 & 1.000000000 & -194.99026 & -197.32452 & 13 & 7 & 1396.3237589 & 0 & 0 & 0 & FALSE\\\\\n",
       "\t0610009B22Rik & 0610009B22Rik & 0.0000922035 & 0.001752064 & -177.73295 & -191.75474 & 13 & 7 &  919.7881598 & 0 & 0 & 0 & FALSE\\\\\n",
       "\t0610009E02Rik & 0610009E02Rik & 0.9500935953 & 1.000000000 &  -94.07140 &  -94.88846 & 13 & 7 &   13.2352460 & 0 & 0 & 0 & FALSE\\\\\n",
       "\t0610009L18Rik & 0610009L18Rik & 0.4736702534 & 0.977424113 & -134.99861 & -137.78097 & 13 & 7 &  118.1859999 & 0 & 0 & 0 & FALSE\\\\\n",
       "\\end{tabular}\n"
      ],
      "text/markdown": [
       "\n",
       "A data.frame: 6 × 12\n",
       "\n",
       "| <!--/--> | Gene &lt;chr&gt; | p &lt;dbl&gt; | padj &lt;dbl&gt; | loglik_full &lt;dbl&gt; | loglik_red &lt;dbl&gt; | df_full &lt;dbl&gt; | df_red &lt;dbl&gt; | mean &lt;dbl&gt; | converge_combined &lt;int&gt; | converge_case &lt;int&gt; | converge_control &lt;int&gt; | allZero &lt;lgl&gt; |\n",
       "|---|---|---|---|---|---|---|---|---|---|---|---|---|\n",
       "| 0610005C13Rik | 0610005C13Rik | 0.0382684671 | 0.180248733 |  -58.10427 |  -64.76280 | 13 | 7 |    3.4986011 | 0 | 0 | 0 | FALSE |\n",
       "| 0610006L08Rik | 0610006L08Rik | 0.9529643645 | 1.000000000 |  -10.94140 |  -11.73871 | 13 | 7 |    0.1017078 | 0 | 0 | 0 | FALSE |\n",
       "| 0610007P14Rik | 0610007P14Rik | 0.5869762135 | 1.000000000 | -194.99026 | -197.32452 | 13 | 7 | 1396.3237589 | 0 | 0 | 0 | FALSE |\n",
       "| 0610009B22Rik | 0610009B22Rik | 0.0000922035 | 0.001752064 | -177.73295 | -191.75474 | 13 | 7 |  919.7881598 | 0 | 0 | 0 | FALSE |\n",
       "| 0610009E02Rik | 0610009E02Rik | 0.9500935953 | 1.000000000 |  -94.07140 |  -94.88846 | 13 | 7 |   13.2352460 | 0 | 0 | 0 | FALSE |\n",
       "| 0610009L18Rik | 0610009L18Rik | 0.4736702534 | 0.977424113 | -134.99861 | -137.78097 | 13 | 7 |  118.1859999 | 0 | 0 | 0 | FALSE |\n",
       "\n"
      ],
      "text/plain": [
       "              Gene          p            padj        loglik_full loglik_red\n",
       "0610005C13Rik 0610005C13Rik 0.0382684671 0.180248733  -58.10427   -64.76280\n",
       "0610006L08Rik 0610006L08Rik 0.9529643645 1.000000000  -10.94140   -11.73871\n",
       "0610007P14Rik 0610007P14Rik 0.5869762135 1.000000000 -194.99026  -197.32452\n",
       "0610009B22Rik 0610009B22Rik 0.0000922035 0.001752064 -177.73295  -191.75474\n",
       "0610009E02Rik 0610009E02Rik 0.9500935953 1.000000000  -94.07140   -94.88846\n",
       "0610009L18Rik 0610009L18Rik 0.4736702534 0.977424113 -134.99861  -137.78097\n",
       "              df_full df_red mean         converge_combined converge_case\n",
       "0610005C13Rik 13      7         3.4986011 0                 0            \n",
       "0610006L08Rik 13      7         0.1017078 0                 0            \n",
       "0610007P14Rik 13      7      1396.3237589 0                 0            \n",
       "0610009B22Rik 13      7       919.7881598 0                 0            \n",
       "0610009E02Rik 13      7        13.2352460 0                 0            \n",
       "0610009L18Rik 13      7       118.1859999 0                 0            \n",
       "              converge_control allZero\n",
       "0610005C13Rik 0                FALSE  \n",
       "0610006L08Rik 0                FALSE  \n",
       "0610007P14Rik 0                FALSE  \n",
       "0610009B22Rik 0                FALSE  \n",
       "0610009E02Rik 0                FALSE  \n",
       "0610009L18Rik 0                FALSE  "
      ]
     },
     "metadata": {},
     "output_type": "display_data"
    }
   ],
   "source": [
    "astroImpulseDE2 <- runImpulseDE2(\n",
    "  matCountData    = round(astro), \n",
    "  dfAnnotation    = astro_info,\n",
    "  boolCaseCtrl    = TRUE,\n",
    "  vecConfounders  = NULL,\n",
    "  scaNProc        = 8 )\n",
    "\n",
    "head(astroImpulseDE2$dfImpulseDE2Results)"
   ]
  },
  {
   "cell_type": "code",
   "execution_count": 25,
   "id": "baed9240",
   "metadata": {},
   "outputs": [
    {
     "data": {
      "text/html": [
       "<strong>png:</strong> 2"
      ],
      "text/latex": [
       "\\textbf{png:} 2"
      ],
      "text/markdown": [
       "**png:** 2"
      ],
      "text/plain": [
       "png \n",
       "  2 "
      ]
     },
     "metadata": {},
     "output_type": "display_data"
    }
   ],
   "source": [
    "astroAD_ht <- plotHeatmap(\n",
    "  objectImpulseDE2       = astroImpulseDE2,\n",
    "  strCondition           = \"case\",\n",
    "  boolIdentifyTransients = FALSE,\n",
    "  scaQThres              = 0.05)\n",
    "  \n",
    "png(filename = \"astroAD_impulse_ht.png\", width = 720, height = 1280)\n",
    "draw(astroAD_ht$complexHeatmapFit)\n",
    "dev.off()"
   ]
  },
  {
   "cell_type": "code",
   "execution_count": 26,
   "id": "10ee7692",
   "metadata": {},
   "outputs": [
    {
     "data": {
      "text/html": [
       "<strong>png:</strong> 2"
      ],
      "text/latex": [
       "\\textbf{png:} 2"
      ],
      "text/markdown": [
       "**png:** 2"
      ],
      "text/plain": [
       "png \n",
       "  2 "
      ]
     },
     "metadata": {},
     "output_type": "display_data"
    }
   ],
   "source": [
    "astroWT_ht <- plotHeatmap(\n",
    "  objectImpulseDE2       = astroImpulseDE2,\n",
    "  strCondition           = \"control\",\n",
    "  boolIdentifyTransients = FALSE,\n",
    "  scaQThres              = 0.05)\n",
    "  \n",
    "png(filename = \"astroWT_impulse_ht.png\", width = 720, height = 1280)\n",
    "draw(astroWT_ht$complexHeatmapFit)\n",
    "dev.off()"
   ]
  },
  {
   "cell_type": "code",
   "execution_count": 28,
   "id": "84df31ff",
   "metadata": {},
   "outputs": [
    {
     "name": "stdout",
     "output_type": "stream",
     "text": [
      "[1] \"Setting boolSimplePlot=TRUE as no batch structure was found.\"\n",
      "[1] \"Creating ./micro_gene_plots.pdf\"\n",
      "[1] \"Setting boolSimplePlot=TRUE as no batch structure was found.\"\n",
      "[1] \"Creating ./astro_gene_plots.pdf\"\n"
     ]
    }
   ],
   "source": [
    "# plot expression trajectories with 10 lowest q-values for each cell type\n",
    "micro_plots <- plotGenes(vecGeneIDs = NULL, scaNTopIDs = 10, \n",
    "    objectImpulseDE2 = microImpulseDE2, boolCaseCtrl = TRUE, dirOut = \"./\", \n",
    "    strFileName = \"micro_gene_plots.pdf\", vecRefPval = NULL, strNameRefMethod = NULL)\n",
    "\n",
    "astro_plots <- plotGenes(vecGeneIDs = NULL, scaNTopIDs = 10,\n",
    "    objectImpulseDE2 = astroImpulseDE2, boolCaseCtrl = TRUE, dirOut = \"./\",\n",
    "    strFileName = \"astro_gene_plots.pdf\", vecRefPval = NULL, strNameRefMethod = NULL)"
   ]
  },
  {
   "cell_type": "code",
   "execution_count": 12,
   "id": "1249b9a6",
   "metadata": {},
   "outputs": [
    {
     "name": "stderr",
     "output_type": "stream",
     "text": [
      "ImpulseDE2 for count data, v1.10.0\n",
      "\n",
      "# Process input\n",
      "\n"
     ]
    },
    {
     "name": "stdout",
     "output_type": "stream",
     "text": [
      "Processing Details:\n",
      "ImpulseDE2 runs in case-ctrl mode.\n",
      "Found time points: 2,4,6,9,12\n",
      "Case: Found the samples at time point 2: SRR10079594,SRR10079595,SRR10079596\n",
      "Case: Found the samples at time point 4: SRR10079597,SRR10079598,SRR10079599\n",
      "Case: Found the samples at time point 6: SRR10079600,SRR10079601,SRR10079602\n",
      "Case: Found the samples at time point 9: SRR10079603,SRR10079604,SRR10079605\n",
      "Case: Found the samples at time point 12: SRR10079606,SRR10079607,SRR10079608\n",
      "Control: Found the following samples at time point 2:SRR10079579,SRR10079580,SRR10079581\n",
      "Control: Found the following samples at time point 4:SRR10079582,SRR10079583,SRR10079584\n",
      "Control: Found the following samples at time point 6:SRR10079585,SRR10079586,SRR10079587\n",
      "Control: Found the following samples at time point 9:SRR10079588,SRR10079589,SRR10079590\n",
      "Control: Found the following samples at time point 12:SRR10079591,SRR10079592,SRR10079593\n",
      "Input contained 35976 genes/regions.\n",
      "WARNING: 11847 out of 35976 genes do not have obserserved non-zero counts and are excluded.\n",
      "Selected 24129 genes/regions for analysis.\n"
     ]
    },
    {
     "name": "stderr",
     "output_type": "stream",
     "text": [
      "# Run DESeq2: Using dispersion factorscomputed by DESeq2.\n",
      "\n",
      "converting counts to integer mode\n",
      "\n",
      "gene-wise dispersion estimates\n",
      "\n",
      "mean-dispersion relationship\n",
      "\n",
      "final dispersion estimates\n",
      "\n"
     ]
    },
    {
     "name": "stdout",
     "output_type": "stream",
     "text": [
      "[1] \"Corrected 8 DESEq2 dispersion estimates which to avoid variance overestimation and loss of discriminatory power for model selection.\"\n"
     ]
    },
    {
     "name": "stderr",
     "output_type": "stream",
     "text": [
      "Consumed time: 0.47 min.\n",
      "\n",
      "# Compute size factors\n",
      "\n",
      "# Fitting null and alternative model to the genes\n",
      "\n",
      "Consumed time: 19.43 min.\n",
      "\n",
      "# Fitting sigmoid model to case condition\n",
      "\n",
      "Consumed time: 3.27 min.\n",
      "\n",
      "# Differentially expression analysis based on model fits\n",
      "\n",
      "Found 13942 DE genes at a FDR corrected p-value cut off of 0.05.\n",
      "\n",
      "Finished running ImpulseDE2.\n",
      "\n",
      "TOTAL consumed time: 23.35 min.\n",
      "\n"
     ]
    },
    {
     "data": {
      "text/html": [
       "<style>\n",
       ".list-inline {list-style: none; margin:0; padding: 0}\n",
       ".list-inline>li {display: inline-block}\n",
       ".list-inline>li:not(:last-child)::after {content: \"\\00b7\"; padding: 0 .5ex}\n",
       "</style>\n",
       "<ol class=list-inline><li>NA</li><li>'0610010B08Rik'</li><li>'0610030E20Rik'</li><li>NA</li><li>NA</li><li>NA</li></ol>\n"
      ],
      "text/latex": [
       "\\begin{enumerate*}\n",
       "\\item NA\n",
       "\\item '0610010B08Rik'\n",
       "\\item '0610030E20Rik'\n",
       "\\item NA\n",
       "\\item NA\n",
       "\\item NA\n",
       "\\end{enumerate*}\n"
      ],
      "text/markdown": [
       "1. NA\n",
       "2. '0610010B08Rik'\n",
       "3. '0610030E20Rik'\n",
       "4. NA\n",
       "5. NA\n",
       "6. NA\n",
       "\n",
       "\n"
      ],
      "text/plain": [
       "[1] NA              \"0610010B08Rik\" \"0610030E20Rik\" NA             \n",
       "[5] NA              NA             "
      ]
     },
     "metadata": {},
     "output_type": "display_data"
    }
   ],
   "source": [
    "# Identify transiently expressed genes and set padj cutoff for DEGs\n",
    "micro_transient <- runImpulseDE2(\n",
    "  matCountData    = round(micro), \n",
    "  dfAnnotation    = micro_info,\n",
    "  boolCaseCtrl    = TRUE,\n",
    "  vecConfounders  = NULL,\n",
    "  scaNProc        = 8,\n",
    "  scaQThres       = 0.05,\n",
    "  boolIdentifyTransients = TRUE)\n",
    "\n",
    "head(micro_transient$vecDEGenes)\n",
    "micro_DEG <- micro_transient$vecDEGenes"
   ]
  },
  {
   "cell_type": "code",
   "execution_count": 13,
   "id": "17154480",
   "metadata": {},
   "outputs": [],
   "source": [
    "write.table(micro_DEG, file=\"micro_trans_DEG.tmp\", quote=FALSE, row.names=FALSE, col.names=FALSE)\n",
    "\n",
    "# Table will have many NA results, so filter them out with Linux commands:\n",
    "system(\"grep -v 'NA' micro_trans_DEG.tmp > micro_trans_DEG.txt\")\n",
    "# Remove .tmp file after\n",
    "system(\"rm micro_trans_DEG.tmp\")"
   ]
  },
  {
   "cell_type": "code",
   "execution_count": 6,
   "id": "2c5acec1",
   "metadata": {},
   "outputs": [
    {
     "name": "stderr",
     "output_type": "stream",
     "text": [
      "ImpulseDE2 for count data, v1.10.0\n",
      "\n",
      "# Process input\n",
      "\n"
     ]
    },
    {
     "name": "stdout",
     "output_type": "stream",
     "text": [
      "Processing Details:\n",
      "ImpulseDE2 runs in case-ctrl mode.\n",
      "Found time points: 2,4,6,9,12\n",
      "Case: Found the samples at time point 2: SRR10079624,SRR10079625,SRR10079626\n",
      "Case: Found the samples at time point 4: SRR10079627,SRR10079628,SRR10079629\n",
      "Case: Found the samples at time point 6: SRR10079630,SRR10079631,SRR10079632\n",
      "Case: Found the samples at time point 9: SRR10079633,SRR10079634,SRR10079635\n",
      "Case: Found the samples at time point 12: SRR10079636,SRR10079637,SRR10079638\n",
      "Control: Found the following samples at time point 2:SRR10079609,SRR10079610,SRR10079611\n",
      "Control: Found the following samples at time point 4:SRR10079612,SRR10079613,SRR10079614\n",
      "Control: Found the following samples at time point 6:SRR10079615,SRR10079616,SRR10079617\n",
      "Control: Found the following samples at time point 9:SRR10079618,SRR10079619,SRR10079620\n",
      "Control: Found the following samples at time point 12:SRR10079621,SRR10079622,SRR10079623\n",
      "Input contained 35976 genes/regions.\n",
      "WARNING: 9392 out of 35976 genes do not have obserserved non-zero counts and are excluded.\n",
      "Selected 26584 genes/regions for analysis.\n"
     ]
    },
    {
     "name": "stderr",
     "output_type": "stream",
     "text": [
      "# Run DESeq2: Using dispersion factorscomputed by DESeq2.\n",
      "\n",
      "converting counts to integer mode\n",
      "\n",
      "gene-wise dispersion estimates\n",
      "\n",
      "mean-dispersion relationship\n",
      "\n",
      "final dispersion estimates\n",
      "\n"
     ]
    },
    {
     "name": "stdout",
     "output_type": "stream",
     "text": [
      "[1] \"Corrected 40 DESEq2 dispersion estimates which to avoid variance overestimation and loss of discriminatory power for model selection.\"\n"
     ]
    },
    {
     "name": "stderr",
     "output_type": "stream",
     "text": [
      "Consumed time: 0.5 min.\n",
      "\n",
      "# Compute size factors\n",
      "\n",
      "# Fitting null and alternative model to the genes\n",
      "\n",
      "Consumed time: 19.41 min.\n",
      "\n",
      "# Fitting sigmoid model to case condition\n",
      "\n",
      "Consumed time: 3.54 min.\n",
      "\n",
      "# Differentially expression analysis based on model fits\n",
      "\n",
      "Found 13054 DE genes at a FDR corrected p-value cut off of 0.05.\n",
      "\n",
      "Finished running ImpulseDE2.\n",
      "\n",
      "TOTAL consumed time: 23.72 min.\n",
      "\n"
     ]
    },
    {
     "data": {
      "text/html": [
       "<style>\n",
       ".list-inline {list-style: none; margin:0; padding: 0}\n",
       ".list-inline>li {display: inline-block}\n",
       ".list-inline>li:not(:last-child)::after {content: \"\\00b7\"; padding: 0 .5ex}\n",
       "</style>\n",
       "<ol class=list-inline><li>'0610009B22Rik'</li><li>NA</li><li>NA</li><li>NA</li><li>'1110004E09Rik'</li><li>'1110004F10Rik'</li></ol>\n"
      ],
      "text/latex": [
       "\\begin{enumerate*}\n",
       "\\item '0610009B22Rik'\n",
       "\\item NA\n",
       "\\item NA\n",
       "\\item NA\n",
       "\\item '1110004E09Rik'\n",
       "\\item '1110004F10Rik'\n",
       "\\end{enumerate*}\n"
      ],
      "text/markdown": [
       "1. '0610009B22Rik'\n",
       "2. NA\n",
       "3. NA\n",
       "4. NA\n",
       "5. '1110004E09Rik'\n",
       "6. '1110004F10Rik'\n",
       "\n",
       "\n"
      ],
      "text/plain": [
       "[1] \"0610009B22Rik\" NA              NA              NA             \n",
       "[5] \"1110004E09Rik\" \"1110004F10Rik\""
      ]
     },
     "metadata": {},
     "output_type": "display_data"
    }
   ],
   "source": [
    "astro_transient <- runImpulseDE2(\n",
    "  matCountData    = round(astro), \n",
    "  dfAnnotation    = astro_info,\n",
    "  boolCaseCtrl    = TRUE,\n",
    "  vecConfounders  = NULL,\n",
    "  scaNProc        = 8,\n",
    "  scaQThres       = 0.05,\n",
    "  boolIdentifyTransients = TRUE)\n",
    "\n",
    "head(astro_transient$vecDEGenes)\n",
    "astro_DEG <- astro_transient$vecDEGenes"
   ]
  },
  {
   "cell_type": "code",
   "execution_count": 8,
   "id": "e9345a34",
   "metadata": {},
   "outputs": [],
   "source": [
    "write.table(astro_DEG, file=\"astro_trans_DEG.tmp\", quote=FALSE, row.names=FALSE, col.names=FALSE)\n",
    "\n",
    "system(\"grep -v 'NA' astro_trans_DEG.tmp > astro_trans_DEG.txt\")\n",
    "system(\"rm astro_trans_DEG.tmp\")"
   ]
  },
  {
   "cell_type": "code",
   "execution_count": 16,
   "id": "1fa7b4f7",
   "metadata": {},
   "outputs": [],
   "source": [
    "both_DEG <- intersect(micro_DEG, astro_DEG)\n",
    "write.table(both_DEG, file=\"intersect_DEG.tmp\", quote=FALSE, row.names=FALSE, col.names=FALSE)\n",
    "\n",
    "system(\"grep -v 'NA' intersect_DEG.tmp > intersect_DEG.txt\")\n",
    "system(\"rm intersect_DEG.tmp\")"
   ]
  },
  {
   "cell_type": "code",
   "execution_count": 17,
   "id": "269ab755",
   "metadata": {},
   "outputs": [
    {
     "data": {
      "text/html": [
       "<table class=\"dataframe\">\n",
       "<caption>A data.frame: 6 × 19</caption>\n",
       "<thead>\n",
       "\t<tr><th></th><th scope=col>Gene</th><th scope=col>p</th><th scope=col>padj</th><th scope=col>loglik_full</th><th scope=col>loglik_red</th><th scope=col>df_full</th><th scope=col>df_red</th><th scope=col>mean</th><th scope=col>converge_combined</th><th scope=col>converge_case</th><th scope=col>converge_control</th><th scope=col>converge_sigmoid</th><th scope=col>impulseTOsigmoid_p</th><th scope=col>impulseTOsigmoid_padj</th><th scope=col>sigmoidTOconst_p</th><th scope=col>sigmoidTOconst_padj</th><th scope=col>isTransient</th><th scope=col>isMonotonous</th><th scope=col>allZero</th></tr>\n",
       "\t<tr><th></th><th scope=col>&lt;chr&gt;</th><th scope=col>&lt;dbl&gt;</th><th scope=col>&lt;dbl&gt;</th><th scope=col>&lt;dbl&gt;</th><th scope=col>&lt;dbl&gt;</th><th scope=col>&lt;dbl&gt;</th><th scope=col>&lt;dbl&gt;</th><th scope=col>&lt;dbl&gt;</th><th scope=col>&lt;int&gt;</th><th scope=col>&lt;int&gt;</th><th scope=col>&lt;int&gt;</th><th scope=col>&lt;int&gt;</th><th scope=col>&lt;dbl&gt;</th><th scope=col>&lt;dbl&gt;</th><th scope=col>&lt;dbl&gt;</th><th scope=col>&lt;dbl&gt;</th><th scope=col>&lt;lgl&gt;</th><th scope=col>&lt;lgl&gt;</th><th scope=col>&lt;lgl&gt;</th></tr>\n",
       "</thead>\n",
       "<tbody>\n",
       "\t<tr><th scope=row>0610012G03Rik</th><td>0610012G03Rik</td><td>6.075390e-03</td><td>6.421072e-02</td><td>-182.7301</td><td>-191.7619</td><td>13</td><td>7</td><td> 718.4310</td><td>0</td><td>0</td><td>0</td><td>0</td><td>0.003576334</td><td>0.05217252</td><td>4.336082e-09</td><td>5.655423e-07</td><td>FALSE</td><td>TRUE</td><td>FALSE</td></tr>\n",
       "\t<tr><th scope=row>1110004F10Rik</th><td>1110004F10Rik</td><td>4.168414e-04</td><td>8.264558e-03</td><td>-196.3162</td><td>-208.5819</td><td>13</td><td>7</td><td>1305.5348</td><td>0</td><td>0</td><td>0</td><td>0</td><td>0.013643155</td><td>0.14650454</td><td>3.190014e-09</td><td>4.324262e-07</td><td>FALSE</td><td>TRUE</td><td>FALSE</td></tr>\n",
       "\t<tr><th scope=row>1110008F13Rik</th><td>1110008F13Rik</td><td>5.332914e-05</td><td>1.635043e-03</td><td>-208.3154</td><td>-222.9664</td><td>13</td><td>7</td><td>1523.2025</td><td>0</td><td>0</td><td>0</td><td>0</td><td>0.001046823</td><td>0.01958045</td><td>3.687269e-06</td><td>1.909230e-04</td><td>FALSE</td><td>TRUE</td><td>FALSE</td></tr>\n",
       "\t<tr><th scope=row>1700112E06Rik</th><td>1700112E06Rik</td><td>1.628110e-01</td><td>6.697716e-01</td><td>-146.7577</td><td>-151.3561</td><td>13</td><td>7</td><td> 143.2549</td><td>0</td><td>0</td><td>0</td><td>0</td><td>0.841207622</td><td>1.00000000</td><td>1.688359e-05</td><td>6.916538e-04</td><td>FALSE</td><td>TRUE</td><td>FALSE</td></tr>\n",
       "\t<tr><th scope=row>1810011O10Rik</th><td>1810011O10Rik</td><td>4.631662e-09</td><td>6.208742e-07</td><td>-170.1029</td><td>-195.1190</td><td>13</td><td>7</td><td> 339.2581</td><td>0</td><td>0</td><td>0</td><td>0</td><td>0.068978942</td><td>0.44467281</td><td>1.598045e-09</td><td>2.336923e-07</td><td>FALSE</td><td>TRUE</td><td>FALSE</td></tr>\n",
       "\t<tr><th scope=row>1810058I24Rik</th><td>1810058I24Rik</td><td>2.592626e-04</td><td>5.797727e-03</td><td>-173.0402</td><td>-185.8625</td><td>13</td><td>7</td><td> 563.0839</td><td>0</td><td>0</td><td>0</td><td>0</td><td>0.001182768</td><td>0.02154349</td><td>1.895593e-08</td><td>2.032834e-06</td><td>FALSE</td><td>TRUE</td><td>FALSE</td></tr>\n",
       "</tbody>\n",
       "</table>\n"
      ],
      "text/latex": [
       "A data.frame: 6 × 19\n",
       "\\begin{tabular}{r|lllllllllllllllllll}\n",
       "  & Gene & p & padj & loglik\\_full & loglik\\_red & df\\_full & df\\_red & mean & converge\\_combined & converge\\_case & converge\\_control & converge\\_sigmoid & impulseTOsigmoid\\_p & impulseTOsigmoid\\_padj & sigmoidTOconst\\_p & sigmoidTOconst\\_padj & isTransient & isMonotonous & allZero\\\\\n",
       "  & <chr> & <dbl> & <dbl> & <dbl> & <dbl> & <dbl> & <dbl> & <dbl> & <int> & <int> & <int> & <int> & <dbl> & <dbl> & <dbl> & <dbl> & <lgl> & <lgl> & <lgl>\\\\\n",
       "\\hline\n",
       "\t0610012G03Rik & 0610012G03Rik & 6.075390e-03 & 6.421072e-02 & -182.7301 & -191.7619 & 13 & 7 &  718.4310 & 0 & 0 & 0 & 0 & 0.003576334 & 0.05217252 & 4.336082e-09 & 5.655423e-07 & FALSE & TRUE & FALSE\\\\\n",
       "\t1110004F10Rik & 1110004F10Rik & 4.168414e-04 & 8.264558e-03 & -196.3162 & -208.5819 & 13 & 7 & 1305.5348 & 0 & 0 & 0 & 0 & 0.013643155 & 0.14650454 & 3.190014e-09 & 4.324262e-07 & FALSE & TRUE & FALSE\\\\\n",
       "\t1110008F13Rik & 1110008F13Rik & 5.332914e-05 & 1.635043e-03 & -208.3154 & -222.9664 & 13 & 7 & 1523.2025 & 0 & 0 & 0 & 0 & 0.001046823 & 0.01958045 & 3.687269e-06 & 1.909230e-04 & FALSE & TRUE & FALSE\\\\\n",
       "\t1700112E06Rik & 1700112E06Rik & 1.628110e-01 & 6.697716e-01 & -146.7577 & -151.3561 & 13 & 7 &  143.2549 & 0 & 0 & 0 & 0 & 0.841207622 & 1.00000000 & 1.688359e-05 & 6.916538e-04 & FALSE & TRUE & FALSE\\\\\n",
       "\t1810011O10Rik & 1810011O10Rik & 4.631662e-09 & 6.208742e-07 & -170.1029 & -195.1190 & 13 & 7 &  339.2581 & 0 & 0 & 0 & 0 & 0.068978942 & 0.44467281 & 1.598045e-09 & 2.336923e-07 & FALSE & TRUE & FALSE\\\\\n",
       "\t1810058I24Rik & 1810058I24Rik & 2.592626e-04 & 5.797727e-03 & -173.0402 & -185.8625 & 13 & 7 &  563.0839 & 0 & 0 & 0 & 0 & 0.001182768 & 0.02154349 & 1.895593e-08 & 2.032834e-06 & FALSE & TRUE & FALSE\\\\\n",
       "\\end{tabular}\n"
      ],
      "text/markdown": [
       "\n",
       "A data.frame: 6 × 19\n",
       "\n",
       "| <!--/--> | Gene &lt;chr&gt; | p &lt;dbl&gt; | padj &lt;dbl&gt; | loglik_full &lt;dbl&gt; | loglik_red &lt;dbl&gt; | df_full &lt;dbl&gt; | df_red &lt;dbl&gt; | mean &lt;dbl&gt; | converge_combined &lt;int&gt; | converge_case &lt;int&gt; | converge_control &lt;int&gt; | converge_sigmoid &lt;int&gt; | impulseTOsigmoid_p &lt;dbl&gt; | impulseTOsigmoid_padj &lt;dbl&gt; | sigmoidTOconst_p &lt;dbl&gt; | sigmoidTOconst_padj &lt;dbl&gt; | isTransient &lt;lgl&gt; | isMonotonous &lt;lgl&gt; | allZero &lt;lgl&gt; |\n",
       "|---|---|---|---|---|---|---|---|---|---|---|---|---|---|---|---|---|---|---|---|\n",
       "| 0610012G03Rik | 0610012G03Rik | 6.075390e-03 | 6.421072e-02 | -182.7301 | -191.7619 | 13 | 7 |  718.4310 | 0 | 0 | 0 | 0 | 0.003576334 | 0.05217252 | 4.336082e-09 | 5.655423e-07 | FALSE | TRUE | FALSE |\n",
       "| 1110004F10Rik | 1110004F10Rik | 4.168414e-04 | 8.264558e-03 | -196.3162 | -208.5819 | 13 | 7 | 1305.5348 | 0 | 0 | 0 | 0 | 0.013643155 | 0.14650454 | 3.190014e-09 | 4.324262e-07 | FALSE | TRUE | FALSE |\n",
       "| 1110008F13Rik | 1110008F13Rik | 5.332914e-05 | 1.635043e-03 | -208.3154 | -222.9664 | 13 | 7 | 1523.2025 | 0 | 0 | 0 | 0 | 0.001046823 | 0.01958045 | 3.687269e-06 | 1.909230e-04 | FALSE | TRUE | FALSE |\n",
       "| 1700112E06Rik | 1700112E06Rik | 1.628110e-01 | 6.697716e-01 | -146.7577 | -151.3561 | 13 | 7 |  143.2549 | 0 | 0 | 0 | 0 | 0.841207622 | 1.00000000 | 1.688359e-05 | 6.916538e-04 | FALSE | TRUE | FALSE |\n",
       "| 1810011O10Rik | 1810011O10Rik | 4.631662e-09 | 6.208742e-07 | -170.1029 | -195.1190 | 13 | 7 |  339.2581 | 0 | 0 | 0 | 0 | 0.068978942 | 0.44467281 | 1.598045e-09 | 2.336923e-07 | FALSE | TRUE | FALSE |\n",
       "| 1810058I24Rik | 1810058I24Rik | 2.592626e-04 | 5.797727e-03 | -173.0402 | -185.8625 | 13 | 7 |  563.0839 | 0 | 0 | 0 | 0 | 0.001182768 | 0.02154349 | 1.895593e-08 | 2.032834e-06 | FALSE | TRUE | FALSE |\n",
       "\n"
      ],
      "text/plain": [
       "              Gene          p            padj         loglik_full loglik_red\n",
       "0610012G03Rik 0610012G03Rik 6.075390e-03 6.421072e-02 -182.7301   -191.7619 \n",
       "1110004F10Rik 1110004F10Rik 4.168414e-04 8.264558e-03 -196.3162   -208.5819 \n",
       "1110008F13Rik 1110008F13Rik 5.332914e-05 1.635043e-03 -208.3154   -222.9664 \n",
       "1700112E06Rik 1700112E06Rik 1.628110e-01 6.697716e-01 -146.7577   -151.3561 \n",
       "1810011O10Rik 1810011O10Rik 4.631662e-09 6.208742e-07 -170.1029   -195.1190 \n",
       "1810058I24Rik 1810058I24Rik 2.592626e-04 5.797727e-03 -173.0402   -185.8625 \n",
       "              df_full df_red mean      converge_combined converge_case\n",
       "0610012G03Rik 13      7       718.4310 0                 0            \n",
       "1110004F10Rik 13      7      1305.5348 0                 0            \n",
       "1110008F13Rik 13      7      1523.2025 0                 0            \n",
       "1700112E06Rik 13      7       143.2549 0                 0            \n",
       "1810011O10Rik 13      7       339.2581 0                 0            \n",
       "1810058I24Rik 13      7       563.0839 0                 0            \n",
       "              converge_control converge_sigmoid impulseTOsigmoid_p\n",
       "0610012G03Rik 0                0                0.003576334       \n",
       "1110004F10Rik 0                0                0.013643155       \n",
       "1110008F13Rik 0                0                0.001046823       \n",
       "1700112E06Rik 0                0                0.841207622       \n",
       "1810011O10Rik 0                0                0.068978942       \n",
       "1810058I24Rik 0                0                0.001182768       \n",
       "              impulseTOsigmoid_padj sigmoidTOconst_p sigmoidTOconst_padj\n",
       "0610012G03Rik 0.05217252            4.336082e-09     5.655423e-07       \n",
       "1110004F10Rik 0.14650454            3.190014e-09     4.324262e-07       \n",
       "1110008F13Rik 0.01958045            3.687269e-06     1.909230e-04       \n",
       "1700112E06Rik 1.00000000            1.688359e-05     6.916538e-04       \n",
       "1810011O10Rik 0.44467281            1.598045e-09     2.336923e-07       \n",
       "1810058I24Rik 0.02154349            1.895593e-08     2.032834e-06       \n",
       "              isTransient isMonotonous allZero\n",
       "0610012G03Rik FALSE       TRUE         FALSE  \n",
       "1110004F10Rik FALSE       TRUE         FALSE  \n",
       "1110008F13Rik FALSE       TRUE         FALSE  \n",
       "1700112E06Rik FALSE       TRUE         FALSE  \n",
       "1810011O10Rik FALSE       TRUE         FALSE  \n",
       "1810058I24Rik FALSE       TRUE         FALSE  "
      ]
     },
     "metadata": {},
     "output_type": "display_data"
    }
   ],
   "source": [
    "# Get list of genes that were monotonous AND differentially expressed\n",
    "# Monotonous defined as consistently increasing or decreasing\n",
    "resM_trans <- micro_transient$dfImpulseDE2Results\n",
    "resM_trans <- data.frame(resM_trans)\n",
    "resM_mono <- subset(resM_trans, isMonotonous == TRUE)\n",
    "head(resM_mono)\n",
    "\n",
    "monoM <- row.names(resM_mono)\n",
    "write.table(monoM, file=\"micro_monotonous.txt\", quote=FALSE, row.names=FALSE, col.names=FALSE)"
   ]
  },
  {
   "cell_type": "code",
   "execution_count": 7,
   "id": "3e3b8933",
   "metadata": {},
   "outputs": [
    {
     "data": {
      "text/html": [
       "<table class=\"dataframe\">\n",
       "<caption>A data.frame: 6 × 19</caption>\n",
       "<thead>\n",
       "\t<tr><th></th><th scope=col>Gene</th><th scope=col>p</th><th scope=col>padj</th><th scope=col>loglik_full</th><th scope=col>loglik_red</th><th scope=col>df_full</th><th scope=col>df_red</th><th scope=col>mean</th><th scope=col>converge_combined</th><th scope=col>converge_case</th><th scope=col>converge_control</th><th scope=col>converge_sigmoid</th><th scope=col>impulseTOsigmoid_p</th><th scope=col>impulseTOsigmoid_padj</th><th scope=col>sigmoidTOconst_p</th><th scope=col>sigmoidTOconst_padj</th><th scope=col>isTransient</th><th scope=col>isMonotonous</th><th scope=col>allZero</th></tr>\n",
       "\t<tr><th></th><th scope=col>&lt;chr&gt;</th><th scope=col>&lt;dbl&gt;</th><th scope=col>&lt;dbl&gt;</th><th scope=col>&lt;dbl&gt;</th><th scope=col>&lt;dbl&gt;</th><th scope=col>&lt;dbl&gt;</th><th scope=col>&lt;dbl&gt;</th><th scope=col>&lt;dbl&gt;</th><th scope=col>&lt;int&gt;</th><th scope=col>&lt;int&gt;</th><th scope=col>&lt;int&gt;</th><th scope=col>&lt;int&gt;</th><th scope=col>&lt;dbl&gt;</th><th scope=col>&lt;dbl&gt;</th><th scope=col>&lt;dbl&gt;</th><th scope=col>&lt;dbl&gt;</th><th scope=col>&lt;lgl&gt;</th><th scope=col>&lt;lgl&gt;</th><th scope=col>&lt;lgl&gt;</th></tr>\n",
       "</thead>\n",
       "<tbody>\n",
       "\t<tr><th scope=row>0610011F06Rik</th><td>0610011F06Rik</td><td>0.2306188423</td><td>0.633766645</td><td>-171.7543</td><td>-175.8060</td><td>13</td><td>7</td><td> 453.3577</td><td>0</td><td>0</td><td>0</td><td>0</td><td>0.3756996547</td><td>0.901434775</td><td>1.277322e-07</td><td>3.678910e-06</td><td>FALSE</td><td>TRUE</td><td>FALSE</td></tr>\n",
       "\t<tr><th scope=row>1110004F10Rik</th><td>1110004F10Rik</td><td>0.0011557025</td><td>0.012780032</td><td>-202.1471</td><td>-213.2029</td><td>13</td><td>7</td><td>2076.0375</td><td>0</td><td>0</td><td>0</td><td>0</td><td>0.0853772834</td><td>0.380434077</td><td>3.531568e-10</td><td>1.885205e-08</td><td>FALSE</td><td>TRUE</td><td>FALSE</td></tr>\n",
       "\t<tr><th scope=row>1110012L19Rik</th><td>1110012L19Rik</td><td>0.1378788384</td><td>0.449793967</td><td>-162.5093</td><td>-167.3592</td><td>13</td><td>7</td><td> 398.2335</td><td>0</td><td>0</td><td>0</td><td>0</td><td>0.0018916924</td><td>0.024918152</td><td>3.302460e-05</td><td>4.613378e-04</td><td>FALSE</td><td>TRUE</td><td>FALSE</td></tr>\n",
       "\t<tr><th scope=row>1110020A21Rik</th><td>1110020A21Rik</td><td>0.0004447372</td><td>0.006035035</td><td>-120.2958</td><td>-132.4852</td><td>13</td><td>7</td><td>  91.2032</td><td>0</td><td>0</td><td>0</td><td>0</td><td>0.8420640021</td><td>1.000000000</td><td>5.683981e-06</td><td>1.009372e-04</td><td>FALSE</td><td>TRUE</td><td>FALSE</td></tr>\n",
       "\t<tr><th scope=row>1110037F02Rik</th><td>1110037F02Rik</td><td>0.2639166757</td><td>0.693276769</td><td>-171.8438</td><td>-175.6748</td><td>13</td><td>7</td><td> 469.6930</td><td>0</td><td>0</td><td>0</td><td>0</td><td>0.0001210393</td><td>0.002917234</td><td>6.817960e-08</td><td>2.097785e-06</td><td>FALSE</td><td>TRUE</td><td>FALSE</td></tr>\n",
       "\t<tr><th scope=row>1110059E24Rik</th><td>1110059E24Rik</td><td>0.0079486213</td><td>0.055577630</td><td>-180.9955</td><td>-189.6910</td><td>13</td><td>7</td><td> 830.8446</td><td>0</td><td>0</td><td>0</td><td>0</td><td>0.0020576416</td><td>0.026553565</td><td>3.943112e-07</td><td>9.564206e-06</td><td>FALSE</td><td>TRUE</td><td>FALSE</td></tr>\n",
       "</tbody>\n",
       "</table>\n"
      ],
      "text/latex": [
       "A data.frame: 6 × 19\n",
       "\\begin{tabular}{r|lllllllllllllllllll}\n",
       "  & Gene & p & padj & loglik\\_full & loglik\\_red & df\\_full & df\\_red & mean & converge\\_combined & converge\\_case & converge\\_control & converge\\_sigmoid & impulseTOsigmoid\\_p & impulseTOsigmoid\\_padj & sigmoidTOconst\\_p & sigmoidTOconst\\_padj & isTransient & isMonotonous & allZero\\\\\n",
       "  & <chr> & <dbl> & <dbl> & <dbl> & <dbl> & <dbl> & <dbl> & <dbl> & <int> & <int> & <int> & <int> & <dbl> & <dbl> & <dbl> & <dbl> & <lgl> & <lgl> & <lgl>\\\\\n",
       "\\hline\n",
       "\t0610011F06Rik & 0610011F06Rik & 0.2306188423 & 0.633766645 & -171.7543 & -175.8060 & 13 & 7 &  453.3577 & 0 & 0 & 0 & 0 & 0.3756996547 & 0.901434775 & 1.277322e-07 & 3.678910e-06 & FALSE & TRUE & FALSE\\\\\n",
       "\t1110004F10Rik & 1110004F10Rik & 0.0011557025 & 0.012780032 & -202.1471 & -213.2029 & 13 & 7 & 2076.0375 & 0 & 0 & 0 & 0 & 0.0853772834 & 0.380434077 & 3.531568e-10 & 1.885205e-08 & FALSE & TRUE & FALSE\\\\\n",
       "\t1110012L19Rik & 1110012L19Rik & 0.1378788384 & 0.449793967 & -162.5093 & -167.3592 & 13 & 7 &  398.2335 & 0 & 0 & 0 & 0 & 0.0018916924 & 0.024918152 & 3.302460e-05 & 4.613378e-04 & FALSE & TRUE & FALSE\\\\\n",
       "\t1110020A21Rik & 1110020A21Rik & 0.0004447372 & 0.006035035 & -120.2958 & -132.4852 & 13 & 7 &   91.2032 & 0 & 0 & 0 & 0 & 0.8420640021 & 1.000000000 & 5.683981e-06 & 1.009372e-04 & FALSE & TRUE & FALSE\\\\\n",
       "\t1110037F02Rik & 1110037F02Rik & 0.2639166757 & 0.693276769 & -171.8438 & -175.6748 & 13 & 7 &  469.6930 & 0 & 0 & 0 & 0 & 0.0001210393 & 0.002917234 & 6.817960e-08 & 2.097785e-06 & FALSE & TRUE & FALSE\\\\\n",
       "\t1110059E24Rik & 1110059E24Rik & 0.0079486213 & 0.055577630 & -180.9955 & -189.6910 & 13 & 7 &  830.8446 & 0 & 0 & 0 & 0 & 0.0020576416 & 0.026553565 & 3.943112e-07 & 9.564206e-06 & FALSE & TRUE & FALSE\\\\\n",
       "\\end{tabular}\n"
      ],
      "text/markdown": [
       "\n",
       "A data.frame: 6 × 19\n",
       "\n",
       "| <!--/--> | Gene &lt;chr&gt; | p &lt;dbl&gt; | padj &lt;dbl&gt; | loglik_full &lt;dbl&gt; | loglik_red &lt;dbl&gt; | df_full &lt;dbl&gt; | df_red &lt;dbl&gt; | mean &lt;dbl&gt; | converge_combined &lt;int&gt; | converge_case &lt;int&gt; | converge_control &lt;int&gt; | converge_sigmoid &lt;int&gt; | impulseTOsigmoid_p &lt;dbl&gt; | impulseTOsigmoid_padj &lt;dbl&gt; | sigmoidTOconst_p &lt;dbl&gt; | sigmoidTOconst_padj &lt;dbl&gt; | isTransient &lt;lgl&gt; | isMonotonous &lt;lgl&gt; | allZero &lt;lgl&gt; |\n",
       "|---|---|---|---|---|---|---|---|---|---|---|---|---|---|---|---|---|---|---|---|\n",
       "| 0610011F06Rik | 0610011F06Rik | 0.2306188423 | 0.633766645 | -171.7543 | -175.8060 | 13 | 7 |  453.3577 | 0 | 0 | 0 | 0 | 0.3756996547 | 0.901434775 | 1.277322e-07 | 3.678910e-06 | FALSE | TRUE | FALSE |\n",
       "| 1110004F10Rik | 1110004F10Rik | 0.0011557025 | 0.012780032 | -202.1471 | -213.2029 | 13 | 7 | 2076.0375 | 0 | 0 | 0 | 0 | 0.0853772834 | 0.380434077 | 3.531568e-10 | 1.885205e-08 | FALSE | TRUE | FALSE |\n",
       "| 1110012L19Rik | 1110012L19Rik | 0.1378788384 | 0.449793967 | -162.5093 | -167.3592 | 13 | 7 |  398.2335 | 0 | 0 | 0 | 0 | 0.0018916924 | 0.024918152 | 3.302460e-05 | 4.613378e-04 | FALSE | TRUE | FALSE |\n",
       "| 1110020A21Rik | 1110020A21Rik | 0.0004447372 | 0.006035035 | -120.2958 | -132.4852 | 13 | 7 |   91.2032 | 0 | 0 | 0 | 0 | 0.8420640021 | 1.000000000 | 5.683981e-06 | 1.009372e-04 | FALSE | TRUE | FALSE |\n",
       "| 1110037F02Rik | 1110037F02Rik | 0.2639166757 | 0.693276769 | -171.8438 | -175.6748 | 13 | 7 |  469.6930 | 0 | 0 | 0 | 0 | 0.0001210393 | 0.002917234 | 6.817960e-08 | 2.097785e-06 | FALSE | TRUE | FALSE |\n",
       "| 1110059E24Rik | 1110059E24Rik | 0.0079486213 | 0.055577630 | -180.9955 | -189.6910 | 13 | 7 |  830.8446 | 0 | 0 | 0 | 0 | 0.0020576416 | 0.026553565 | 3.943112e-07 | 9.564206e-06 | FALSE | TRUE | FALSE |\n",
       "\n"
      ],
      "text/plain": [
       "              Gene          p            padj        loglik_full loglik_red\n",
       "0610011F06Rik 0610011F06Rik 0.2306188423 0.633766645 -171.7543   -175.8060 \n",
       "1110004F10Rik 1110004F10Rik 0.0011557025 0.012780032 -202.1471   -213.2029 \n",
       "1110012L19Rik 1110012L19Rik 0.1378788384 0.449793967 -162.5093   -167.3592 \n",
       "1110020A21Rik 1110020A21Rik 0.0004447372 0.006035035 -120.2958   -132.4852 \n",
       "1110037F02Rik 1110037F02Rik 0.2639166757 0.693276769 -171.8438   -175.6748 \n",
       "1110059E24Rik 1110059E24Rik 0.0079486213 0.055577630 -180.9955   -189.6910 \n",
       "              df_full df_red mean      converge_combined converge_case\n",
       "0610011F06Rik 13      7       453.3577 0                 0            \n",
       "1110004F10Rik 13      7      2076.0375 0                 0            \n",
       "1110012L19Rik 13      7       398.2335 0                 0            \n",
       "1110020A21Rik 13      7        91.2032 0                 0            \n",
       "1110037F02Rik 13      7       469.6930 0                 0            \n",
       "1110059E24Rik 13      7       830.8446 0                 0            \n",
       "              converge_control converge_sigmoid impulseTOsigmoid_p\n",
       "0610011F06Rik 0                0                0.3756996547      \n",
       "1110004F10Rik 0                0                0.0853772834      \n",
       "1110012L19Rik 0                0                0.0018916924      \n",
       "1110020A21Rik 0                0                0.8420640021      \n",
       "1110037F02Rik 0                0                0.0001210393      \n",
       "1110059E24Rik 0                0                0.0020576416      \n",
       "              impulseTOsigmoid_padj sigmoidTOconst_p sigmoidTOconst_padj\n",
       "0610011F06Rik 0.901434775           1.277322e-07     3.678910e-06       \n",
       "1110004F10Rik 0.380434077           3.531568e-10     1.885205e-08       \n",
       "1110012L19Rik 0.024918152           3.302460e-05     4.613378e-04       \n",
       "1110020A21Rik 1.000000000           5.683981e-06     1.009372e-04       \n",
       "1110037F02Rik 0.002917234           6.817960e-08     2.097785e-06       \n",
       "1110059E24Rik 0.026553565           3.943112e-07     9.564206e-06       \n",
       "              isTransient isMonotonous allZero\n",
       "0610011F06Rik FALSE       TRUE         FALSE  \n",
       "1110004F10Rik FALSE       TRUE         FALSE  \n",
       "1110012L19Rik FALSE       TRUE         FALSE  \n",
       "1110020A21Rik FALSE       TRUE         FALSE  \n",
       "1110037F02Rik FALSE       TRUE         FALSE  \n",
       "1110059E24Rik FALSE       TRUE         FALSE  "
      ]
     },
     "metadata": {},
     "output_type": "display_data"
    }
   ],
   "source": [
    "resA_trans <- astro_transient$dfImpulseDE2Results\n",
    "resA_trans <- data.frame(resA_trans)\n",
    "resA_mono <- subset(resA_trans, isMonotonous == TRUE)\n",
    "head(resA_mono)\n",
    "\n",
    "monoA <- row.names(resA_mono)\n",
    "write.table(monoA, file=\"astro_monotonous.txt\", quote=FALSE, row.names=FALSE, col.names=FALSE)"
   ]
  },
  {
   "cell_type": "code",
   "execution_count": 9,
   "id": "5ddef572",
   "metadata": {},
   "outputs": [
    {
     "data": {
      "text/html": [
       "<table class=\"dataframe\">\n",
       "<caption>A data.frame: 6 × 19</caption>\n",
       "<thead>\n",
       "\t<tr><th></th><th scope=col>Gene</th><th scope=col>p</th><th scope=col>padj</th><th scope=col>loglik_full</th><th scope=col>loglik_red</th><th scope=col>df_full</th><th scope=col>df_red</th><th scope=col>mean</th><th scope=col>converge_combined</th><th scope=col>converge_case</th><th scope=col>converge_control</th><th scope=col>converge_sigmoid</th><th scope=col>impulseTOsigmoid_p</th><th scope=col>impulseTOsigmoid_padj</th><th scope=col>sigmoidTOconst_p</th><th scope=col>sigmoidTOconst_padj</th><th scope=col>isTransient</th><th scope=col>isMonotonous</th><th scope=col>allZero</th></tr>\n",
       "\t<tr><th></th><th scope=col>&lt;chr&gt;</th><th scope=col>&lt;dbl&gt;</th><th scope=col>&lt;dbl&gt;</th><th scope=col>&lt;dbl&gt;</th><th scope=col>&lt;dbl&gt;</th><th scope=col>&lt;dbl&gt;</th><th scope=col>&lt;dbl&gt;</th><th scope=col>&lt;dbl&gt;</th><th scope=col>&lt;int&gt;</th><th scope=col>&lt;int&gt;</th><th scope=col>&lt;int&gt;</th><th scope=col>&lt;int&gt;</th><th scope=col>&lt;dbl&gt;</th><th scope=col>&lt;dbl&gt;</th><th scope=col>&lt;dbl&gt;</th><th scope=col>&lt;dbl&gt;</th><th scope=col>&lt;lgl&gt;</th><th scope=col>&lt;lgl&gt;</th><th scope=col>&lt;lgl&gt;</th></tr>\n",
       "</thead>\n",
       "<tbody>\n",
       "\t<tr><th scope=row>Cdkn1b</th><td>Cdkn1b   </td><td>1.503600e-25</td><td>3.997170e-21</td><td>-159.6690</td><td>-224.5073</td><td>13</td><td>7</td><td>   298.53482</td><td>0</td><td>0</td><td>0</td><td>0</td><td>0.0006434094</td><td>0.01083242</td><td>7.479768e-06</td><td>1.278728e-04</td><td>FALSE</td><td>TRUE</td><td>FALSE</td></tr>\n",
       "\t<tr><th scope=row>Pvalb</th><td>Pvalb    </td><td>2.559953e-24</td><td>3.402689e-20</td><td>-141.7236</td><td>-203.6363</td><td>13</td><td>7</td><td>   106.28911</td><td>0</td><td>0</td><td>0</td><td>0</td><td>0.2646765745</td><td>0.75305526</td><td>2.800897e-07</td><td>7.208040e-06</td><td>FALSE</td><td>TRUE</td><td>FALSE</td></tr>\n",
       "\t<tr><th scope=row>Rpl34-ps1</th><td>Rpl34-ps1</td><td>4.164176e-22</td><td>3.690016e-18</td><td>-107.6332</td><td>-164.2794</td><td>13</td><td>7</td><td>    21.37805</td><td>0</td><td>0</td><td>0</td><td>0</td><td>0.0389733329</td><td>0.22668742</td><td>3.322064e-05</td><td>4.633461e-04</td><td>FALSE</td><td>TRUE</td><td>FALSE</td></tr>\n",
       "\t<tr><th scope=row>Actb</th><td>Actb     </td><td>1.495228e-21</td><td>8.256774e-18</td><td>-336.0191</td><td>-391.3404</td><td>13</td><td>7</td><td>133981.90141</td><td>0</td><td>0</td><td>0</td><td>0</td><td>0.0092344496</td><td>0.08189083</td><td>1.016877e-09</td><td>4.923980e-08</td><td>FALSE</td><td>TRUE</td><td>FALSE</td></tr>\n",
       "\t<tr><th scope=row>Fhl1</th><td>Fhl1     </td><td>1.557510e-21</td><td>8.256774e-18</td><td>-203.3691</td><td>-258.6481</td><td>13</td><td>7</td><td>  2002.65114</td><td>0</td><td>0</td><td>0</td><td>0</td><td>0.0756557525</td><td>0.35241502</td><td>2.749093e-08</td><td>9.454319e-07</td><td>FALSE</td><td>TRUE</td><td>FALSE</td></tr>\n",
       "\t<tr><th scope=row>Prpf4b</th><td>Prpf4b   </td><td>6.908183e-20</td><td>2.623531e-16</td><td>-184.5576</td><td>-235.8994</td><td>13</td><td>7</td><td>  1091.23103</td><td>0</td><td>0</td><td>0</td><td>0</td><td>0.0112200806</td><td>0.09382656</td><td>2.071163e-06</td><td>4.142949e-05</td><td>FALSE</td><td>TRUE</td><td>FALSE</td></tr>\n",
       "</tbody>\n",
       "</table>\n"
      ],
      "text/latex": [
       "A data.frame: 6 × 19\n",
       "\\begin{tabular}{r|lllllllllllllllllll}\n",
       "  & Gene & p & padj & loglik\\_full & loglik\\_red & df\\_full & df\\_red & mean & converge\\_combined & converge\\_case & converge\\_control & converge\\_sigmoid & impulseTOsigmoid\\_p & impulseTOsigmoid\\_padj & sigmoidTOconst\\_p & sigmoidTOconst\\_padj & isTransient & isMonotonous & allZero\\\\\n",
       "  & <chr> & <dbl> & <dbl> & <dbl> & <dbl> & <dbl> & <dbl> & <dbl> & <int> & <int> & <int> & <int> & <dbl> & <dbl> & <dbl> & <dbl> & <lgl> & <lgl> & <lgl>\\\\\n",
       "\\hline\n",
       "\tCdkn1b & Cdkn1b    & 1.503600e-25 & 3.997170e-21 & -159.6690 & -224.5073 & 13 & 7 &    298.53482 & 0 & 0 & 0 & 0 & 0.0006434094 & 0.01083242 & 7.479768e-06 & 1.278728e-04 & FALSE & TRUE & FALSE\\\\\n",
       "\tPvalb & Pvalb     & 2.559953e-24 & 3.402689e-20 & -141.7236 & -203.6363 & 13 & 7 &    106.28911 & 0 & 0 & 0 & 0 & 0.2646765745 & 0.75305526 & 2.800897e-07 & 7.208040e-06 & FALSE & TRUE & FALSE\\\\\n",
       "\tRpl34-ps1 & Rpl34-ps1 & 4.164176e-22 & 3.690016e-18 & -107.6332 & -164.2794 & 13 & 7 &     21.37805 & 0 & 0 & 0 & 0 & 0.0389733329 & 0.22668742 & 3.322064e-05 & 4.633461e-04 & FALSE & TRUE & FALSE\\\\\n",
       "\tActb & Actb      & 1.495228e-21 & 8.256774e-18 & -336.0191 & -391.3404 & 13 & 7 & 133981.90141 & 0 & 0 & 0 & 0 & 0.0092344496 & 0.08189083 & 1.016877e-09 & 4.923980e-08 & FALSE & TRUE & FALSE\\\\\n",
       "\tFhl1 & Fhl1      & 1.557510e-21 & 8.256774e-18 & -203.3691 & -258.6481 & 13 & 7 &   2002.65114 & 0 & 0 & 0 & 0 & 0.0756557525 & 0.35241502 & 2.749093e-08 & 9.454319e-07 & FALSE & TRUE & FALSE\\\\\n",
       "\tPrpf4b & Prpf4b    & 6.908183e-20 & 2.623531e-16 & -184.5576 & -235.8994 & 13 & 7 &   1091.23103 & 0 & 0 & 0 & 0 & 0.0112200806 & 0.09382656 & 2.071163e-06 & 4.142949e-05 & FALSE & TRUE & FALSE\\\\\n",
       "\\end{tabular}\n"
      ],
      "text/markdown": [
       "\n",
       "A data.frame: 6 × 19\n",
       "\n",
       "| <!--/--> | Gene &lt;chr&gt; | p &lt;dbl&gt; | padj &lt;dbl&gt; | loglik_full &lt;dbl&gt; | loglik_red &lt;dbl&gt; | df_full &lt;dbl&gt; | df_red &lt;dbl&gt; | mean &lt;dbl&gt; | converge_combined &lt;int&gt; | converge_case &lt;int&gt; | converge_control &lt;int&gt; | converge_sigmoid &lt;int&gt; | impulseTOsigmoid_p &lt;dbl&gt; | impulseTOsigmoid_padj &lt;dbl&gt; | sigmoidTOconst_p &lt;dbl&gt; | sigmoidTOconst_padj &lt;dbl&gt; | isTransient &lt;lgl&gt; | isMonotonous &lt;lgl&gt; | allZero &lt;lgl&gt; |\n",
       "|---|---|---|---|---|---|---|---|---|---|---|---|---|---|---|---|---|---|---|---|\n",
       "| Cdkn1b | Cdkn1b    | 1.503600e-25 | 3.997170e-21 | -159.6690 | -224.5073 | 13 | 7 |    298.53482 | 0 | 0 | 0 | 0 | 0.0006434094 | 0.01083242 | 7.479768e-06 | 1.278728e-04 | FALSE | TRUE | FALSE |\n",
       "| Pvalb | Pvalb     | 2.559953e-24 | 3.402689e-20 | -141.7236 | -203.6363 | 13 | 7 |    106.28911 | 0 | 0 | 0 | 0 | 0.2646765745 | 0.75305526 | 2.800897e-07 | 7.208040e-06 | FALSE | TRUE | FALSE |\n",
       "| Rpl34-ps1 | Rpl34-ps1 | 4.164176e-22 | 3.690016e-18 | -107.6332 | -164.2794 | 13 | 7 |     21.37805 | 0 | 0 | 0 | 0 | 0.0389733329 | 0.22668742 | 3.322064e-05 | 4.633461e-04 | FALSE | TRUE | FALSE |\n",
       "| Actb | Actb      | 1.495228e-21 | 8.256774e-18 | -336.0191 | -391.3404 | 13 | 7 | 133981.90141 | 0 | 0 | 0 | 0 | 0.0092344496 | 0.08189083 | 1.016877e-09 | 4.923980e-08 | FALSE | TRUE | FALSE |\n",
       "| Fhl1 | Fhl1      | 1.557510e-21 | 8.256774e-18 | -203.3691 | -258.6481 | 13 | 7 |   2002.65114 | 0 | 0 | 0 | 0 | 0.0756557525 | 0.35241502 | 2.749093e-08 | 9.454319e-07 | FALSE | TRUE | FALSE |\n",
       "| Prpf4b | Prpf4b    | 6.908183e-20 | 2.623531e-16 | -184.5576 | -235.8994 | 13 | 7 |   1091.23103 | 0 | 0 | 0 | 0 | 0.0112200806 | 0.09382656 | 2.071163e-06 | 4.142949e-05 | FALSE | TRUE | FALSE |\n",
       "\n"
      ],
      "text/plain": [
       "          Gene      p            padj         loglik_full loglik_red df_full\n",
       "Cdkn1b    Cdkn1b    1.503600e-25 3.997170e-21 -159.6690   -224.5073  13     \n",
       "Pvalb     Pvalb     2.559953e-24 3.402689e-20 -141.7236   -203.6363  13     \n",
       "Rpl34-ps1 Rpl34-ps1 4.164176e-22 3.690016e-18 -107.6332   -164.2794  13     \n",
       "Actb      Actb      1.495228e-21 8.256774e-18 -336.0191   -391.3404  13     \n",
       "Fhl1      Fhl1      1.557510e-21 8.256774e-18 -203.3691   -258.6481  13     \n",
       "Prpf4b    Prpf4b    6.908183e-20 2.623531e-16 -184.5576   -235.8994  13     \n",
       "          df_red mean         converge_combined converge_case converge_control\n",
       "Cdkn1b    7         298.53482 0                 0             0               \n",
       "Pvalb     7         106.28911 0                 0             0               \n",
       "Rpl34-ps1 7          21.37805 0                 0             0               \n",
       "Actb      7      133981.90141 0                 0             0               \n",
       "Fhl1      7        2002.65114 0                 0             0               \n",
       "Prpf4b    7        1091.23103 0                 0             0               \n",
       "          converge_sigmoid impulseTOsigmoid_p impulseTOsigmoid_padj\n",
       "Cdkn1b    0                0.0006434094       0.01083242           \n",
       "Pvalb     0                0.2646765745       0.75305526           \n",
       "Rpl34-ps1 0                0.0389733329       0.22668742           \n",
       "Actb      0                0.0092344496       0.08189083           \n",
       "Fhl1      0                0.0756557525       0.35241502           \n",
       "Prpf4b    0                0.0112200806       0.09382656           \n",
       "          sigmoidTOconst_p sigmoidTOconst_padj isTransient isMonotonous allZero\n",
       "Cdkn1b    7.479768e-06     1.278728e-04        FALSE       TRUE         FALSE  \n",
       "Pvalb     2.800897e-07     7.208040e-06        FALSE       TRUE         FALSE  \n",
       "Rpl34-ps1 3.322064e-05     4.633461e-04        FALSE       TRUE         FALSE  \n",
       "Actb      1.016877e-09     4.923980e-08        FALSE       TRUE         FALSE  \n",
       "Fhl1      2.749093e-08     9.454319e-07        FALSE       TRUE         FALSE  \n",
       "Prpf4b    2.071163e-06     4.142949e-05        FALSE       TRUE         FALSE  "
      ]
     },
     "metadata": {},
     "output_type": "display_data"
    }
   ],
   "source": [
    "resM_mono <- resM_mono[order(resM_mono$padj),]\n",
    "head(resM_mono)\n",
    "\n",
    "resA_mono <- resA_mono[order(resA_mono$padj),]\n",
    "head(resA_mono)"
   ]
  },
  {
   "cell_type": "code",
   "execution_count": 10,
   "id": "ac538f8b",
   "metadata": {},
   "outputs": [
    {
     "name": "stdout",
     "output_type": "stream",
     "text": [
      "[1] \"Setting boolSimplePlot=TRUE as no batch structure was found.\"\n",
      "[1] \"Creating ./astro_mono_plots.pdf\"\n"
     ]
    }
   ],
   "source": [
    "# plot expression trajectories of monotonous genes with 5 lowest q-values for each cell type\n",
    "# genes identified from above cell\n",
    "monoM_plots <- plotGenes(vecGeneIDs = c(\"Cst7\", \"Baiap2l2\", \"Hpse\", \"Cd63\", \"Lpl\"), \n",
    "    objectImpulseDE2 = micro_transient, boolCaseCtrl = TRUE, dirOut = \"./\",\n",
    "    strFileName = \"micro_mono_plots.pdf\")\n",
    "\n",
    "monoA_plots <- plotGenes(vecGeneIDs = c(\"Cdkn1b\", \"Pvalb\", \"Rpl34-ps1\", \"Actb\", \"Fhl1\"),\n",
    "    objectImpulseDE2 = astro_transient, boolCaseCtrl = TRUE, dirOut = \"./\",\n",
    "    strFileName = \"astro_mono_plots.pdf\")"
   ]
  }
 ],
 "metadata": {
  "kernelspec": {
   "display_name": "R [conda env:oldR]",
   "language": "R",
   "name": "conda-env-oldR-r"
  },
  "language_info": {
   "codemirror_mode": "r",
   "file_extension": ".r",
   "mimetype": "text/x-r-source",
   "name": "R",
   "pygments_lexer": "r",
   "version": "3.6.1"
  }
 },
 "nbformat": 4,
 "nbformat_minor": 5
}
