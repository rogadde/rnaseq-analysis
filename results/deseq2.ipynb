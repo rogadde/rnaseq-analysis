{
 "cells": [
  {
   "cell_type": "code",
   "execution_count": 1,
   "id": "96423068",
   "metadata": {},
   "outputs": [
    {
     "name": "stderr",
     "output_type": "stream",
     "text": [
      "Loading required package: S4Vectors\n",
      "\n",
      "Loading required package: stats4\n",
      "\n",
      "Loading required package: BiocGenerics\n",
      "\n",
      "\n",
      "Attaching package: ‘BiocGenerics’\n",
      "\n",
      "\n",
      "The following objects are masked from ‘package:stats’:\n",
      "\n",
      "    IQR, mad, sd, var, xtabs\n",
      "\n",
      "\n",
      "The following objects are masked from ‘package:base’:\n",
      "\n",
      "    anyDuplicated, append, as.data.frame, basename, cbind, colnames,\n",
      "    dirname, do.call, duplicated, eval, evalq, Filter, Find, get, grep,\n",
      "    grepl, intersect, is.unsorted, lapply, Map, mapply, match, mget,\n",
      "    order, paste, pmax, pmax.int, pmin, pmin.int, Position, rank,\n",
      "    rbind, Reduce, rownames, sapply, setdiff, sort, table, tapply,\n",
      "    union, unique, unsplit, which.max, which.min\n",
      "\n",
      "\n",
      "\n",
      "Attaching package: ‘S4Vectors’\n",
      "\n",
      "\n",
      "The following objects are masked from ‘package:base’:\n",
      "\n",
      "    expand.grid, I, unname\n",
      "\n",
      "\n",
      "Loading required package: IRanges\n",
      "\n",
      "Loading required package: GenomicRanges\n",
      "\n",
      "Loading required package: GenomeInfoDb\n",
      "\n",
      "Loading required package: SummarizedExperiment\n",
      "\n",
      "Loading required package: MatrixGenerics\n",
      "\n",
      "Loading required package: matrixStats\n",
      "\n",
      "\n",
      "Attaching package: ‘MatrixGenerics’\n",
      "\n",
      "\n",
      "The following objects are masked from ‘package:matrixStats’:\n",
      "\n",
      "    colAlls, colAnyNAs, colAnys, colAvgsPerRowSet, colCollapse,\n",
      "    colCounts, colCummaxs, colCummins, colCumprods, colCumsums,\n",
      "    colDiffs, colIQRDiffs, colIQRs, colLogSumExps, colMadDiffs,\n",
      "    colMads, colMaxs, colMeans2, colMedians, colMins, colOrderStats,\n",
      "    colProds, colQuantiles, colRanges, colRanks, colSdDiffs, colSds,\n",
      "    colSums2, colTabulates, colVarDiffs, colVars, colWeightedMads,\n",
      "    colWeightedMeans, colWeightedMedians, colWeightedSds,\n",
      "    colWeightedVars, rowAlls, rowAnyNAs, rowAnys, rowAvgsPerColSet,\n",
      "    rowCollapse, rowCounts, rowCummaxs, rowCummins, rowCumprods,\n",
      "    rowCumsums, rowDiffs, rowIQRDiffs, rowIQRs, rowLogSumExps,\n",
      "    rowMadDiffs, rowMads, rowMaxs, rowMeans2, rowMedians, rowMins,\n",
      "    rowOrderStats, rowProds, rowQuantiles, rowRanges, rowRanks,\n",
      "    rowSdDiffs, rowSds, rowSums2, rowTabulates, rowVarDiffs, rowVars,\n",
      "    rowWeightedMads, rowWeightedMeans, rowWeightedMedians,\n",
      "    rowWeightedSds, rowWeightedVars\n",
      "\n",
      "\n",
      "Loading required package: Biobase\n",
      "\n",
      "Welcome to Bioconductor\n",
      "\n",
      "    Vignettes contain introductory material; view with\n",
      "    'browseVignettes()'. To cite Bioconductor, see\n",
      "    'citation(\"Biobase\")', and for packages 'citation(\"pkgname\")'.\n",
      "\n",
      "\n",
      "\n",
      "Attaching package: ‘Biobase’\n",
      "\n",
      "\n",
      "The following object is masked from ‘package:MatrixGenerics’:\n",
      "\n",
      "    rowMedians\n",
      "\n",
      "\n",
      "The following objects are masked from ‘package:matrixStats’:\n",
      "\n",
      "    anyMissing, rowMedians\n",
      "\n",
      "\n"
     ]
    }
   ],
   "source": [
    "library(tximport)\n",
    "library(DESeq2)\n",
    "library(apeglm)"
   ]
  },
  {
   "cell_type": "code",
   "execution_count": 2,
   "id": "bafeb610",
   "metadata": {},
   "outputs": [
    {
     "data": {
      "text/html": [
       "<style>\n",
       ".list-inline {list-style: none; margin:0; padding: 0}\n",
       ".list-inline>li {display: inline-block}\n",
       ".list-inline>li:not(:last-child)::after {content: \"\\00b7\"; padding: 0 .5ex}\n",
       "</style>\n",
       "<ol class=list-inline><li>'accession_log.txt'</li><li>'age-down_astrocyte.txt'</li><li>'age-down_microglia.txt'</li><li>'age-up_astrocyte.txt'</li><li>'age-up_microglia.txt'</li><li>'astrocyte_info.txt'</li><li>'failed_acc.txt'</li><li>'fastq'</li><li>'filtered'</li><li>'filtered_logs'</li><li>'metadata.txt'</li><li>'microglia_info.txt'</li><li>'NexteraPE-PE.fa'</li><li>'Pan_sequences.fa'</li><li>'README.md'</li><li>'rsem'</li><li>'sample_info.csv'</li><li>'SRR_Acc_List.txt'</li><li>'STAR'</li></ol>\n"
      ],
      "text/latex": [
       "\\begin{enumerate*}\n",
       "\\item 'accession\\_log.txt'\n",
       "\\item 'age-down\\_astrocyte.txt'\n",
       "\\item 'age-down\\_microglia.txt'\n",
       "\\item 'age-up\\_astrocyte.txt'\n",
       "\\item 'age-up\\_microglia.txt'\n",
       "\\item 'astrocyte\\_info.txt'\n",
       "\\item 'failed\\_acc.txt'\n",
       "\\item 'fastq'\n",
       "\\item 'filtered'\n",
       "\\item 'filtered\\_logs'\n",
       "\\item 'metadata.txt'\n",
       "\\item 'microglia\\_info.txt'\n",
       "\\item 'NexteraPE-PE.fa'\n",
       "\\item 'Pan\\_sequences.fa'\n",
       "\\item 'README.md'\n",
       "\\item 'rsem'\n",
       "\\item 'sample\\_info.csv'\n",
       "\\item 'SRR\\_Acc\\_List.txt'\n",
       "\\item 'STAR'\n",
       "\\end{enumerate*}\n"
      ],
      "text/markdown": [
       "1. 'accession_log.txt'\n",
       "2. 'age-down_astrocyte.txt'\n",
       "3. 'age-down_microglia.txt'\n",
       "4. 'age-up_astrocyte.txt'\n",
       "5. 'age-up_microglia.txt'\n",
       "6. 'astrocyte_info.txt'\n",
       "7. 'failed_acc.txt'\n",
       "8. 'fastq'\n",
       "9. 'filtered'\n",
       "10. 'filtered_logs'\n",
       "11. 'metadata.txt'\n",
       "12. 'microglia_info.txt'\n",
       "13. 'NexteraPE-PE.fa'\n",
       "14. 'Pan_sequences.fa'\n",
       "15. 'README.md'\n",
       "16. 'rsem'\n",
       "17. 'sample_info.csv'\n",
       "18. 'SRR_Acc_List.txt'\n",
       "19. 'STAR'\n",
       "\n",
       "\n"
      ],
      "text/plain": [
       " [1] \"accession_log.txt\"      \"age-down_astrocyte.txt\" \"age-down_microglia.txt\"\n",
       " [4] \"age-up_astrocyte.txt\"   \"age-up_microglia.txt\"   \"astrocyte_info.txt\"    \n",
       " [7] \"failed_acc.txt\"         \"fastq\"                  \"filtered\"              \n",
       "[10] \"filtered_logs\"          \"metadata.txt\"           \"microglia_info.txt\"    \n",
       "[13] \"NexteraPE-PE.fa\"        \"Pan_sequences.fa\"       \"README.md\"             \n",
       "[16] \"rsem\"                   \"sample_info.csv\"        \"SRR_Acc_List.txt\"      \n",
       "[19] \"STAR\"                  "
      ]
     },
     "metadata": {},
     "output_type": "display_data"
    }
   ],
   "source": [
    "dir <- \"../data\"\n",
    "list.files(dir)"
   ]
  },
  {
   "cell_type": "code",
   "execution_count": 3,
   "id": "820d0a27",
   "metadata": {},
   "outputs": [
    {
     "data": {
      "text/html": [
       "<table class=\"dataframe\">\n",
       "<caption>A data.frame: 6 × 26</caption>\n",
       "<thead>\n",
       "\t<tr><th></th><th scope=col>Run</th><th scope=col>age</th><th scope=col>Assay.Type</th><th scope=col>AvgSpotLen</th><th scope=col>Bases</th><th scope=col>BioProject</th><th scope=col>BioSample</th><th scope=col>Bytes</th><th scope=col>Center.Name</th><th scope=col>Consent</th><th scope=col>⋯</th><th scope=col>LibraryLayout</th><th scope=col>LibrarySelection</th><th scope=col>LibrarySource</th><th scope=col>Organism</th><th scope=col>Platform</th><th scope=col>ReleaseDate</th><th scope=col>Sample.Name</th><th scope=col>source_name</th><th scope=col>SRA.Study</th><th scope=col>Strain</th></tr>\n",
       "\t<tr><th></th><th scope=col>&lt;chr&gt;</th><th scope=col>&lt;chr&gt;</th><th scope=col>&lt;chr&gt;</th><th scope=col>&lt;int&gt;</th><th scope=col>&lt;dbl&gt;</th><th scope=col>&lt;chr&gt;</th><th scope=col>&lt;chr&gt;</th><th scope=col>&lt;dbl&gt;</th><th scope=col>&lt;chr&gt;</th><th scope=col>&lt;chr&gt;</th><th scope=col>⋯</th><th scope=col>&lt;chr&gt;</th><th scope=col>&lt;chr&gt;</th><th scope=col>&lt;chr&gt;</th><th scope=col>&lt;chr&gt;</th><th scope=col>&lt;chr&gt;</th><th scope=col>&lt;chr&gt;</th><th scope=col>&lt;chr&gt;</th><th scope=col>&lt;chr&gt;</th><th scope=col>&lt;chr&gt;</th><th scope=col>&lt;chr&gt;</th></tr>\n",
       "</thead>\n",
       "<tbody>\n",
       "\t<tr><th scope=row>1</th><td>SRR10079579</td><td>2-month-old</td><td>RNA-Seq</td><td>300</td><td>8062648800</td><td>PRJNA564299</td><td>SAMN12708617</td><td>2635498394</td><td>GEO</td><td>public</td><td>⋯</td><td>PAIRED</td><td>cDNA</td><td>TRANSCRIPTOMIC</td><td>Mus musculus</td><td>ILLUMINA</td><td>2020-04-21T00:00:00Z</td><td>GSM4065891</td><td>Brain</td><td>SRP220678</td><td>C57BL/6</td></tr>\n",
       "\t<tr><th scope=row>2</th><td>SRR10079580</td><td>2-month-old</td><td>RNA-Seq</td><td>300</td><td>8013847800</td><td>PRJNA564299</td><td>SAMN12708616</td><td>2636901025</td><td>GEO</td><td>public</td><td>⋯</td><td>PAIRED</td><td>cDNA</td><td>TRANSCRIPTOMIC</td><td>Mus musculus</td><td>ILLUMINA</td><td>2020-04-21T00:00:00Z</td><td>GSM4065892</td><td>Brain</td><td>SRP220678</td><td>C57BL/6</td></tr>\n",
       "\t<tr><th scope=row>3</th><td>SRR10079581</td><td>2-month-old</td><td>RNA-Seq</td><td>300</td><td>8055843600</td><td>PRJNA564299</td><td>SAMN12708615</td><td>2642059362</td><td>GEO</td><td>public</td><td>⋯</td><td>PAIRED</td><td>cDNA</td><td>TRANSCRIPTOMIC</td><td>Mus musculus</td><td>ILLUMINA</td><td>2020-04-21T00:00:00Z</td><td>GSM4065893</td><td>Brain</td><td>SRP220678</td><td>C57BL/6</td></tr>\n",
       "\t<tr><th scope=row>4</th><td>SRR10079582</td><td>4-month-old</td><td>RNA-Seq</td><td>300</td><td>7608938400</td><td>PRJNA564299</td><td>SAMN12708614</td><td>2465813362</td><td>GEO</td><td>public</td><td>⋯</td><td>PAIRED</td><td>cDNA</td><td>TRANSCRIPTOMIC</td><td>Mus musculus</td><td>ILLUMINA</td><td>2020-04-21T00:00:00Z</td><td>GSM4065894</td><td>Brain</td><td>SRP220678</td><td>C57BL/6</td></tr>\n",
       "\t<tr><th scope=row>5</th><td>SRR10079583</td><td>4-month-old</td><td>RNA-Seq</td><td>300</td><td>7912941900</td><td>PRJNA564299</td><td>SAMN12708613</td><td>2604058160</td><td>GEO</td><td>public</td><td>⋯</td><td>PAIRED</td><td>cDNA</td><td>TRANSCRIPTOMIC</td><td>Mus musculus</td><td>ILLUMINA</td><td>2020-04-21T00:00:00Z</td><td>GSM4065895</td><td>Brain</td><td>SRP220678</td><td>C57BL/6</td></tr>\n",
       "\t<tr><th scope=row>6</th><td>SRR10079584</td><td>4-month-old</td><td>RNA-Seq</td><td>300</td><td>7563385200</td><td>PRJNA564299</td><td>SAMN12708612</td><td>2455545524</td><td>GEO</td><td>public</td><td>⋯</td><td>PAIRED</td><td>cDNA</td><td>TRANSCRIPTOMIC</td><td>Mus musculus</td><td>ILLUMINA</td><td>2020-04-21T00:00:00Z</td><td>GSM4065896</td><td>Brain</td><td>SRP220678</td><td>C57BL/6</td></tr>\n",
       "</tbody>\n",
       "</table>\n"
      ],
      "text/latex": [
       "A data.frame: 6 × 26\n",
       "\\begin{tabular}{r|lllllllllllllllllllll}\n",
       "  & Run & age & Assay.Type & AvgSpotLen & Bases & BioProject & BioSample & Bytes & Center.Name & Consent & ⋯ & LibraryLayout & LibrarySelection & LibrarySource & Organism & Platform & ReleaseDate & Sample.Name & source\\_name & SRA.Study & Strain\\\\\n",
       "  & <chr> & <chr> & <chr> & <int> & <dbl> & <chr> & <chr> & <dbl> & <chr> & <chr> & ⋯ & <chr> & <chr> & <chr> & <chr> & <chr> & <chr> & <chr> & <chr> & <chr> & <chr>\\\\\n",
       "\\hline\n",
       "\t1 & SRR10079579 & 2-month-old & RNA-Seq & 300 & 8062648800 & PRJNA564299 & SAMN12708617 & 2635498394 & GEO & public & ⋯ & PAIRED & cDNA & TRANSCRIPTOMIC & Mus musculus & ILLUMINA & 2020-04-21T00:00:00Z & GSM4065891 & Brain & SRP220678 & C57BL/6\\\\\n",
       "\t2 & SRR10079580 & 2-month-old & RNA-Seq & 300 & 8013847800 & PRJNA564299 & SAMN12708616 & 2636901025 & GEO & public & ⋯ & PAIRED & cDNA & TRANSCRIPTOMIC & Mus musculus & ILLUMINA & 2020-04-21T00:00:00Z & GSM4065892 & Brain & SRP220678 & C57BL/6\\\\\n",
       "\t3 & SRR10079581 & 2-month-old & RNA-Seq & 300 & 8055843600 & PRJNA564299 & SAMN12708615 & 2642059362 & GEO & public & ⋯ & PAIRED & cDNA & TRANSCRIPTOMIC & Mus musculus & ILLUMINA & 2020-04-21T00:00:00Z & GSM4065893 & Brain & SRP220678 & C57BL/6\\\\\n",
       "\t4 & SRR10079582 & 4-month-old & RNA-Seq & 300 & 7608938400 & PRJNA564299 & SAMN12708614 & 2465813362 & GEO & public & ⋯ & PAIRED & cDNA & TRANSCRIPTOMIC & Mus musculus & ILLUMINA & 2020-04-21T00:00:00Z & GSM4065894 & Brain & SRP220678 & C57BL/6\\\\\n",
       "\t5 & SRR10079583 & 4-month-old & RNA-Seq & 300 & 7912941900 & PRJNA564299 & SAMN12708613 & 2604058160 & GEO & public & ⋯ & PAIRED & cDNA & TRANSCRIPTOMIC & Mus musculus & ILLUMINA & 2020-04-21T00:00:00Z & GSM4065895 & Brain & SRP220678 & C57BL/6\\\\\n",
       "\t6 & SRR10079584 & 4-month-old & RNA-Seq & 300 & 7563385200 & PRJNA564299 & SAMN12708612 & 2455545524 & GEO & public & ⋯ & PAIRED & cDNA & TRANSCRIPTOMIC & Mus musculus & ILLUMINA & 2020-04-21T00:00:00Z & GSM4065896 & Brain & SRP220678 & C57BL/6\\\\\n",
       "\\end{tabular}\n"
      ],
      "text/markdown": [
       "\n",
       "A data.frame: 6 × 26\n",
       "\n",
       "| <!--/--> | Run &lt;chr&gt; | age &lt;chr&gt; | Assay.Type &lt;chr&gt; | AvgSpotLen &lt;int&gt; | Bases &lt;dbl&gt; | BioProject &lt;chr&gt; | BioSample &lt;chr&gt; | Bytes &lt;dbl&gt; | Center.Name &lt;chr&gt; | Consent &lt;chr&gt; | ⋯ ⋯ | LibraryLayout &lt;chr&gt; | LibrarySelection &lt;chr&gt; | LibrarySource &lt;chr&gt; | Organism &lt;chr&gt; | Platform &lt;chr&gt; | ReleaseDate &lt;chr&gt; | Sample.Name &lt;chr&gt; | source_name &lt;chr&gt; | SRA.Study &lt;chr&gt; | Strain &lt;chr&gt; |\n",
       "|---|---|---|---|---|---|---|---|---|---|---|---|---|---|---|---|---|---|---|---|---|---|\n",
       "| 1 | SRR10079579 | 2-month-old | RNA-Seq | 300 | 8062648800 | PRJNA564299 | SAMN12708617 | 2635498394 | GEO | public | ⋯ | PAIRED | cDNA | TRANSCRIPTOMIC | Mus musculus | ILLUMINA | 2020-04-21T00:00:00Z | GSM4065891 | Brain | SRP220678 | C57BL/6 |\n",
       "| 2 | SRR10079580 | 2-month-old | RNA-Seq | 300 | 8013847800 | PRJNA564299 | SAMN12708616 | 2636901025 | GEO | public | ⋯ | PAIRED | cDNA | TRANSCRIPTOMIC | Mus musculus | ILLUMINA | 2020-04-21T00:00:00Z | GSM4065892 | Brain | SRP220678 | C57BL/6 |\n",
       "| 3 | SRR10079581 | 2-month-old | RNA-Seq | 300 | 8055843600 | PRJNA564299 | SAMN12708615 | 2642059362 | GEO | public | ⋯ | PAIRED | cDNA | TRANSCRIPTOMIC | Mus musculus | ILLUMINA | 2020-04-21T00:00:00Z | GSM4065893 | Brain | SRP220678 | C57BL/6 |\n",
       "| 4 | SRR10079582 | 4-month-old | RNA-Seq | 300 | 7608938400 | PRJNA564299 | SAMN12708614 | 2465813362 | GEO | public | ⋯ | PAIRED | cDNA | TRANSCRIPTOMIC | Mus musculus | ILLUMINA | 2020-04-21T00:00:00Z | GSM4065894 | Brain | SRP220678 | C57BL/6 |\n",
       "| 5 | SRR10079583 | 4-month-old | RNA-Seq | 300 | 7912941900 | PRJNA564299 | SAMN12708613 | 2604058160 | GEO | public | ⋯ | PAIRED | cDNA | TRANSCRIPTOMIC | Mus musculus | ILLUMINA | 2020-04-21T00:00:00Z | GSM4065895 | Brain | SRP220678 | C57BL/6 |\n",
       "| 6 | SRR10079584 | 4-month-old | RNA-Seq | 300 | 7563385200 | PRJNA564299 | SAMN12708612 | 2455545524 | GEO | public | ⋯ | PAIRED | cDNA | TRANSCRIPTOMIC | Mus musculus | ILLUMINA | 2020-04-21T00:00:00Z | GSM4065896 | Brain | SRP220678 | C57BL/6 |\n",
       "\n"
      ],
      "text/plain": [
       "  Run         age         Assay.Type AvgSpotLen Bases      BioProject \n",
       "1 SRR10079579 2-month-old RNA-Seq    300        8062648800 PRJNA564299\n",
       "2 SRR10079580 2-month-old RNA-Seq    300        8013847800 PRJNA564299\n",
       "3 SRR10079581 2-month-old RNA-Seq    300        8055843600 PRJNA564299\n",
       "4 SRR10079582 4-month-old RNA-Seq    300        7608938400 PRJNA564299\n",
       "5 SRR10079583 4-month-old RNA-Seq    300        7912941900 PRJNA564299\n",
       "6 SRR10079584 4-month-old RNA-Seq    300        7563385200 PRJNA564299\n",
       "  BioSample    Bytes      Center.Name Consent ⋯ LibraryLayout LibrarySelection\n",
       "1 SAMN12708617 2635498394 GEO         public  ⋯ PAIRED        cDNA            \n",
       "2 SAMN12708616 2636901025 GEO         public  ⋯ PAIRED        cDNA            \n",
       "3 SAMN12708615 2642059362 GEO         public  ⋯ PAIRED        cDNA            \n",
       "4 SAMN12708614 2465813362 GEO         public  ⋯ PAIRED        cDNA            \n",
       "5 SAMN12708613 2604058160 GEO         public  ⋯ PAIRED        cDNA            \n",
       "6 SAMN12708612 2455545524 GEO         public  ⋯ PAIRED        cDNA            \n",
       "  LibrarySource  Organism     Platform ReleaseDate          Sample.Name\n",
       "1 TRANSCRIPTOMIC Mus musculus ILLUMINA 2020-04-21T00:00:00Z GSM4065891 \n",
       "2 TRANSCRIPTOMIC Mus musculus ILLUMINA 2020-04-21T00:00:00Z GSM4065892 \n",
       "3 TRANSCRIPTOMIC Mus musculus ILLUMINA 2020-04-21T00:00:00Z GSM4065893 \n",
       "4 TRANSCRIPTOMIC Mus musculus ILLUMINA 2020-04-21T00:00:00Z GSM4065894 \n",
       "5 TRANSCRIPTOMIC Mus musculus ILLUMINA 2020-04-21T00:00:00Z GSM4065895 \n",
       "6 TRANSCRIPTOMIC Mus musculus ILLUMINA 2020-04-21T00:00:00Z GSM4065896 \n",
       "  source_name SRA.Study Strain \n",
       "1 Brain       SRP220678 C57BL/6\n",
       "2 Brain       SRP220678 C57BL/6\n",
       "3 Brain       SRP220678 C57BL/6\n",
       "4 Brain       SRP220678 C57BL/6\n",
       "5 Brain       SRP220678 C57BL/6\n",
       "6 Brain       SRP220678 C57BL/6"
      ]
     },
     "metadata": {},
     "output_type": "display_data"
    }
   ],
   "source": [
    "samples <- read.table(file.path(dir, \"metadata.txt\"), sep = \",\", header = TRUE)\n",
    "head(samples)"
   ]
  },
  {
   "cell_type": "code",
   "execution_count": 4,
   "id": "8fd1bc6c",
   "metadata": {},
   "outputs": [
    {
     "name": "stderr",
     "output_type": "stream",
     "text": [
      "reading in files with read_tsv\n",
      "\n",
      "1 \n",
      "2 \n",
      "3 \n",
      "4 \n",
      "5 \n",
      "6 \n",
      "7 \n",
      "8 \n",
      "9 \n",
      "10 \n",
      "11 \n",
      "12 \n",
      "13 \n",
      "14 \n",
      "15 \n",
      "16 \n",
      "17 \n",
      "18 \n",
      "19 \n",
      "20 \n",
      "21 \n",
      "22 \n",
      "23 \n",
      "24 \n",
      "25 \n",
      "26 \n",
      "27 \n",
      "28 \n",
      "29 \n",
      "30 \n",
      "31 \n",
      "32 \n",
      "33 \n",
      "34 \n",
      "35 \n",
      "36 \n",
      "37 \n",
      "38 \n",
      "39 \n",
      "40 \n",
      "41 \n",
      "42 \n",
      "43 \n",
      "44 \n",
      "45 \n",
      "46 \n",
      "47 \n",
      "48 \n",
      "49 \n",
      "50 \n",
      "51 \n",
      "52 \n",
      "53 \n",
      "54 \n",
      "55 \n",
      "56 \n",
      "57 \n",
      "58 \n",
      "59 \n",
      "60 \n",
      "\n",
      "\n"
     ]
    },
    {
     "data": {
      "text/html": [
       "<table class=\"dataframe\">\n",
       "<caption>A matrix: 6 × 60 of type dbl</caption>\n",
       "<thead>\n",
       "\t<tr><th></th><th scope=col>sample1</th><th scope=col>sample2</th><th scope=col>sample3</th><th scope=col>sample4</th><th scope=col>sample5</th><th scope=col>sample6</th><th scope=col>sample7</th><th scope=col>sample8</th><th scope=col>sample9</th><th scope=col>sample10</th><th scope=col>⋯</th><th scope=col>sample51</th><th scope=col>sample52</th><th scope=col>sample53</th><th scope=col>sample54</th><th scope=col>sample55</th><th scope=col>sample56</th><th scope=col>sample57</th><th scope=col>sample58</th><th scope=col>sample59</th><th scope=col>sample60</th></tr>\n",
       "</thead>\n",
       "<tbody>\n",
       "\t<tr><th scope=row>0610005C13Rik</th><td>  0</td><td>  0</td><td>  1</td><td>  1</td><td>  1</td><td>  0</td><td>  1</td><td>  0</td><td>  1</td><td>  0</td><td>⋯</td><td>   2</td><td>   7</td><td>   6</td><td>   3</td><td>  2</td><td>   0</td><td>   0</td><td>   9</td><td>   6</td><td>   4</td></tr>\n",
       "\t<tr><th scope=row>0610006L08Rik</th><td>  0</td><td>  0</td><td>  0</td><td>  0</td><td>  0</td><td>  0</td><td>  0</td><td>  0</td><td>  0</td><td>  0</td><td>⋯</td><td>   0</td><td>   1</td><td>   0</td><td>   1</td><td>  0</td><td>   0</td><td>   0</td><td>   0</td><td>   0</td><td>   0</td></tr>\n",
       "\t<tr><th scope=row>0610007P14Rik</th><td>327</td><td>360</td><td>442</td><td>358</td><td>429</td><td>347</td><td>572</td><td>585</td><td>697</td><td>408</td><td>⋯</td><td>1214</td><td>1667</td><td>1672</td><td>1704</td><td>972</td><td>1167</td><td>1294</td><td>1855</td><td>1509</td><td>1333</td></tr>\n",
       "\t<tr><th scope=row>0610009B22Rik</th><td>631</td><td>604</td><td>834</td><td>471</td><td>614</td><td>497</td><td>926</td><td>957</td><td>929</td><td>752</td><td>⋯</td><td> 735</td><td>1006</td><td>1045</td><td>1054</td><td>801</td><td> 901</td><td> 855</td><td>1180</td><td>1002</td><td> 895</td></tr>\n",
       "\t<tr><th scope=row>0610009E02Rik</th><td>  2</td><td>  2</td><td>  2</td><td>  3</td><td>  4</td><td>  4</td><td>  1</td><td>  5</td><td>  5</td><td>  0</td><td>⋯</td><td>  22</td><td>  12</td><td>  28</td><td>  18</td><td> 11</td><td>   7</td><td>   6</td><td>  22</td><td>  21</td><td>   7</td></tr>\n",
       "\t<tr><th scope=row>0610009L18Rik</th><td> 32</td><td> 64</td><td> 34</td><td> 48</td><td> 57</td><td> 28</td><td> 71</td><td> 53</td><td> 62</td><td> 48</td><td>⋯</td><td> 148</td><td> 117</td><td> 194</td><td>  88</td><td> 93</td><td> 114</td><td> 128</td><td> 184</td><td> 187</td><td> 125</td></tr>\n",
       "</tbody>\n",
       "</table>\n"
      ],
      "text/latex": [
       "A matrix: 6 × 60 of type dbl\n",
       "\\begin{tabular}{r|lllllllllllllllllllll}\n",
       "  & sample1 & sample2 & sample3 & sample4 & sample5 & sample6 & sample7 & sample8 & sample9 & sample10 & ⋯ & sample51 & sample52 & sample53 & sample54 & sample55 & sample56 & sample57 & sample58 & sample59 & sample60\\\\\n",
       "\\hline\n",
       "\t0610005C13Rik &   0 &   0 &   1 &   1 &   1 &   0 &   1 &   0 &   1 &   0 & ⋯ &    2 &    7 &    6 &    3 &   2 &    0 &    0 &    9 &    6 &    4\\\\\n",
       "\t0610006L08Rik &   0 &   0 &   0 &   0 &   0 &   0 &   0 &   0 &   0 &   0 & ⋯ &    0 &    1 &    0 &    1 &   0 &    0 &    0 &    0 &    0 &    0\\\\\n",
       "\t0610007P14Rik & 327 & 360 & 442 & 358 & 429 & 347 & 572 & 585 & 697 & 408 & ⋯ & 1214 & 1667 & 1672 & 1704 & 972 & 1167 & 1294 & 1855 & 1509 & 1333\\\\\n",
       "\t0610009B22Rik & 631 & 604 & 834 & 471 & 614 & 497 & 926 & 957 & 929 & 752 & ⋯ &  735 & 1006 & 1045 & 1054 & 801 &  901 &  855 & 1180 & 1002 &  895\\\\\n",
       "\t0610009E02Rik &   2 &   2 &   2 &   3 &   4 &   4 &   1 &   5 &   5 &   0 & ⋯ &   22 &   12 &   28 &   18 &  11 &    7 &    6 &   22 &   21 &    7\\\\\n",
       "\t0610009L18Rik &  32 &  64 &  34 &  48 &  57 &  28 &  71 &  53 &  62 &  48 & ⋯ &  148 &  117 &  194 &   88 &  93 &  114 &  128 &  184 &  187 &  125\\\\\n",
       "\\end{tabular}\n"
      ],
      "text/markdown": [
       "\n",
       "A matrix: 6 × 60 of type dbl\n",
       "\n",
       "| <!--/--> | sample1 | sample2 | sample3 | sample4 | sample5 | sample6 | sample7 | sample8 | sample9 | sample10 | ⋯ | sample51 | sample52 | sample53 | sample54 | sample55 | sample56 | sample57 | sample58 | sample59 | sample60 |\n",
       "|---|---|---|---|---|---|---|---|---|---|---|---|---|---|---|---|---|---|---|---|---|---|\n",
       "| 0610005C13Rik |   0 |   0 |   1 |   1 |   1 |   0 |   1 |   0 |   1 |   0 | ⋯ |    2 |    7 |    6 |    3 |   2 |    0 |    0 |    9 |    6 |    4 |\n",
       "| 0610006L08Rik |   0 |   0 |   0 |   0 |   0 |   0 |   0 |   0 |   0 |   0 | ⋯ |    0 |    1 |    0 |    1 |   0 |    0 |    0 |    0 |    0 |    0 |\n",
       "| 0610007P14Rik | 327 | 360 | 442 | 358 | 429 | 347 | 572 | 585 | 697 | 408 | ⋯ | 1214 | 1667 | 1672 | 1704 | 972 | 1167 | 1294 | 1855 | 1509 | 1333 |\n",
       "| 0610009B22Rik | 631 | 604 | 834 | 471 | 614 | 497 | 926 | 957 | 929 | 752 | ⋯ |  735 | 1006 | 1045 | 1054 | 801 |  901 |  855 | 1180 | 1002 |  895 |\n",
       "| 0610009E02Rik |   2 |   2 |   2 |   3 |   4 |   4 |   1 |   5 |   5 |   0 | ⋯ |   22 |   12 |   28 |   18 |  11 |    7 |    6 |   22 |   21 |    7 |\n",
       "| 0610009L18Rik |  32 |  64 |  34 |  48 |  57 |  28 |  71 |  53 |  62 |  48 | ⋯ |  148 |  117 |  194 |   88 |  93 |  114 |  128 |  184 |  187 |  125 |\n",
       "\n"
      ],
      "text/plain": [
       "              sample1 sample2 sample3 sample4 sample5 sample6 sample7 sample8\n",
       "0610005C13Rik   0       0       1       1       1       0       1       0    \n",
       "0610006L08Rik   0       0       0       0       0       0       0       0    \n",
       "0610007P14Rik 327     360     442     358     429     347     572     585    \n",
       "0610009B22Rik 631     604     834     471     614     497     926     957    \n",
       "0610009E02Rik   2       2       2       3       4       4       1       5    \n",
       "0610009L18Rik  32      64      34      48      57      28      71      53    \n",
       "              sample9 sample10 ⋯ sample51 sample52 sample53 sample54 sample55\n",
       "0610005C13Rik   1       0      ⋯    2        7        6        3       2     \n",
       "0610006L08Rik   0       0      ⋯    0        1        0        1       0     \n",
       "0610007P14Rik 697     408      ⋯ 1214     1667     1672     1704     972     \n",
       "0610009B22Rik 929     752      ⋯  735     1006     1045     1054     801     \n",
       "0610009E02Rik   5       0      ⋯   22       12       28       18      11     \n",
       "0610009L18Rik  62      48      ⋯  148      117      194       88      93     \n",
       "              sample56 sample57 sample58 sample59 sample60\n",
       "0610005C13Rik    0        0        9        6        4    \n",
       "0610006L08Rik    0        0        0        0        0    \n",
       "0610007P14Rik 1167     1294     1855     1509     1333    \n",
       "0610009B22Rik  901      855     1180     1002      895    \n",
       "0610009E02Rik    7        6       22       21        7    \n",
       "0610009L18Rik  114      128      184      187      125    "
      ]
     },
     "metadata": {},
     "output_type": "display_data"
    }
   ],
   "source": [
    "files <- file.path(dir, \"rsem\", samples$Run, paste0(samples$Run, \".genes.results\"))\n",
    "names(files) <- paste0(\"sample\", 1:60)\n",
    "txi <- tximport(files, type = \"rsem\", txIn = FALSE, txOut = FALSE)\n",
    "head(txi$counts)"
   ]
  },
  {
   "cell_type": "code",
   "execution_count": 5,
   "id": "6e1cc27c",
   "metadata": {},
   "outputs": [
    {
     "data": {
      "text/html": [
       "<table class=\"dataframe\">\n",
       "<caption>A matrix: 6 × 15 of type dbl</caption>\n",
       "<thead>\n",
       "\t<tr><th></th><th scope=col>sample1</th><th scope=col>sample2</th><th scope=col>sample3</th><th scope=col>sample4</th><th scope=col>sample5</th><th scope=col>sample6</th><th scope=col>sample7</th><th scope=col>sample8</th><th scope=col>sample9</th><th scope=col>sample10</th><th scope=col>sample11</th><th scope=col>sample12</th><th scope=col>sample13</th><th scope=col>sample14</th><th scope=col>sample15</th></tr>\n",
       "</thead>\n",
       "<tbody>\n",
       "\t<tr><th scope=row>0610005C13Rik</th><td>  0</td><td>  0</td><td>  1</td><td>  1</td><td>  1</td><td>  0</td><td>  1</td><td>  0</td><td>  1</td><td>  0</td><td>  1</td><td>  0</td><td>  0</td><td>  0</td><td>   0</td></tr>\n",
       "\t<tr><th scope=row>0610006L08Rik</th><td>  0</td><td>  0</td><td>  0</td><td>  0</td><td>  0</td><td>  0</td><td>  0</td><td>  0</td><td>  0</td><td>  0</td><td>  0</td><td>  0</td><td>  0</td><td>  0</td><td>   0</td></tr>\n",
       "\t<tr><th scope=row>0610007P14Rik</th><td>327</td><td>360</td><td>442</td><td>358</td><td>429</td><td>347</td><td>572</td><td>585</td><td>697</td><td>408</td><td>357</td><td>412</td><td>464</td><td>511</td><td> 195</td></tr>\n",
       "\t<tr><th scope=row>0610009B22Rik</th><td>631</td><td>604</td><td>834</td><td>471</td><td>614</td><td>497</td><td>926</td><td>957</td><td>929</td><td>752</td><td>675</td><td>679</td><td>518</td><td>718</td><td>2862</td></tr>\n",
       "\t<tr><th scope=row>0610009E02Rik</th><td>  2</td><td>  2</td><td>  2</td><td>  3</td><td>  4</td><td>  4</td><td>  1</td><td>  5</td><td>  5</td><td>  0</td><td>  0</td><td>  2</td><td>  3</td><td>  0</td><td>   0</td></tr>\n",
       "\t<tr><th scope=row>0610009L18Rik</th><td> 32</td><td> 64</td><td> 34</td><td> 48</td><td> 57</td><td> 28</td><td> 71</td><td> 53</td><td> 62</td><td> 48</td><td> 38</td><td> 54</td><td> 25</td><td> 26</td><td>   0</td></tr>\n",
       "</tbody>\n",
       "</table>\n"
      ],
      "text/latex": [
       "A matrix: 6 × 15 of type dbl\n",
       "\\begin{tabular}{r|lllllllllllllll}\n",
       "  & sample1 & sample2 & sample3 & sample4 & sample5 & sample6 & sample7 & sample8 & sample9 & sample10 & sample11 & sample12 & sample13 & sample14 & sample15\\\\\n",
       "\\hline\n",
       "\t0610005C13Rik &   0 &   0 &   1 &   1 &   1 &   0 &   1 &   0 &   1 &   0 &   1 &   0 &   0 &   0 &    0\\\\\n",
       "\t0610006L08Rik &   0 &   0 &   0 &   0 &   0 &   0 &   0 &   0 &   0 &   0 &   0 &   0 &   0 &   0 &    0\\\\\n",
       "\t0610007P14Rik & 327 & 360 & 442 & 358 & 429 & 347 & 572 & 585 & 697 & 408 & 357 & 412 & 464 & 511 &  195\\\\\n",
       "\t0610009B22Rik & 631 & 604 & 834 & 471 & 614 & 497 & 926 & 957 & 929 & 752 & 675 & 679 & 518 & 718 & 2862\\\\\n",
       "\t0610009E02Rik &   2 &   2 &   2 &   3 &   4 &   4 &   1 &   5 &   5 &   0 &   0 &   2 &   3 &   0 &    0\\\\\n",
       "\t0610009L18Rik &  32 &  64 &  34 &  48 &  57 &  28 &  71 &  53 &  62 &  48 &  38 &  54 &  25 &  26 &    0\\\\\n",
       "\\end{tabular}\n"
      ],
      "text/markdown": [
       "\n",
       "A matrix: 6 × 15 of type dbl\n",
       "\n",
       "| <!--/--> | sample1 | sample2 | sample3 | sample4 | sample5 | sample6 | sample7 | sample8 | sample9 | sample10 | sample11 | sample12 | sample13 | sample14 | sample15 |\n",
       "|---|---|---|---|---|---|---|---|---|---|---|---|---|---|---|---|\n",
       "| 0610005C13Rik |   0 |   0 |   1 |   1 |   1 |   0 |   1 |   0 |   1 |   0 |   1 |   0 |   0 |   0 |    0 |\n",
       "| 0610006L08Rik |   0 |   0 |   0 |   0 |   0 |   0 |   0 |   0 |   0 |   0 |   0 |   0 |   0 |   0 |    0 |\n",
       "| 0610007P14Rik | 327 | 360 | 442 | 358 | 429 | 347 | 572 | 585 | 697 | 408 | 357 | 412 | 464 | 511 |  195 |\n",
       "| 0610009B22Rik | 631 | 604 | 834 | 471 | 614 | 497 | 926 | 957 | 929 | 752 | 675 | 679 | 518 | 718 | 2862 |\n",
       "| 0610009E02Rik |   2 |   2 |   2 |   3 |   4 |   4 |   1 |   5 |   5 |   0 |   0 |   2 |   3 |   0 |    0 |\n",
       "| 0610009L18Rik |  32 |  64 |  34 |  48 |  57 |  28 |  71 |  53 |  62 |  48 |  38 |  54 |  25 |  26 |    0 |\n",
       "\n"
      ],
      "text/plain": [
       "              sample1 sample2 sample3 sample4 sample5 sample6 sample7 sample8\n",
       "0610005C13Rik   0       0       1       1       1       0       1       0    \n",
       "0610006L08Rik   0       0       0       0       0       0       0       0    \n",
       "0610007P14Rik 327     360     442     358     429     347     572     585    \n",
       "0610009B22Rik 631     604     834     471     614     497     926     957    \n",
       "0610009E02Rik   2       2       2       3       4       4       1       5    \n",
       "0610009L18Rik  32      64      34      48      57      28      71      53    \n",
       "              sample9 sample10 sample11 sample12 sample13 sample14 sample15\n",
       "0610005C13Rik   1       0        1        0        0        0         0    \n",
       "0610006L08Rik   0       0        0        0        0        0         0    \n",
       "0610007P14Rik 697     408      357      412      464      511       195    \n",
       "0610009B22Rik 929     752      675      679      518      718      2862    \n",
       "0610009E02Rik   5       0        0        2        3        0         0    \n",
       "0610009L18Rik  62      48       38       54       25       26         0    "
      ]
     },
     "metadata": {},
     "output_type": "display_data"
    },
    {
     "data": {
      "text/html": [
       "<table class=\"dataframe\">\n",
       "<caption>A matrix: 6 × 15 of type dbl</caption>\n",
       "<thead>\n",
       "\t<tr><th></th><th scope=col>sample31</th><th scope=col>sample32</th><th scope=col>sample33</th><th scope=col>sample34</th><th scope=col>sample35</th><th scope=col>sample36</th><th scope=col>sample37</th><th scope=col>sample38</th><th scope=col>sample39</th><th scope=col>sample40</th><th scope=col>sample41</th><th scope=col>sample42</th><th scope=col>sample43</th><th scope=col>sample44</th><th scope=col>sample45</th></tr>\n",
       "</thead>\n",
       "<tbody>\n",
       "\t<tr><th scope=row>0610005C13Rik</th><td>   0</td><td>   1</td><td>   0</td><td>   7</td><td>   7</td><td>   5</td><td>   6</td><td>   3</td><td>   3</td><td>   3</td><td>   3</td><td>   1</td><td>   7</td><td>   4</td><td>   3</td></tr>\n",
       "\t<tr><th scope=row>0610006L08Rik</th><td>   0</td><td>   0</td><td>   0</td><td>   0</td><td>   0</td><td>   0</td><td>   0</td><td>   0</td><td>   0</td><td>   0</td><td>   0</td><td>   0</td><td>   1</td><td>   0</td><td>   0</td></tr>\n",
       "\t<tr><th scope=row>0610007P14Rik</th><td>1139</td><td>1211</td><td>1403</td><td>1222</td><td>1087</td><td>1506</td><td>1987</td><td>2075</td><td>2088</td><td>1180</td><td>1216</td><td>1430</td><td>1341</td><td>1548</td><td>1378</td></tr>\n",
       "\t<tr><th scope=row>0610009B22Rik</th><td> 840</td><td> 873</td><td>1007</td><td> 736</td><td> 691</td><td> 901</td><td>1454</td><td>1432</td><td>1414</td><td> 893</td><td> 989</td><td> 997</td><td> 684</td><td> 722</td><td> 772</td></tr>\n",
       "\t<tr><th scope=row>0610009E02Rik</th><td>  10</td><td>   4</td><td>   2</td><td>  17</td><td>   6</td><td>  19</td><td>  29</td><td>  27</td><td>  28</td><td>   2</td><td>   6</td><td>   8</td><td>  20</td><td>  16</td><td>  15</td></tr>\n",
       "\t<tr><th scope=row>0610009L18Rik</th><td>  75</td><td>  59</td><td>  72</td><td> 129</td><td>  91</td><td> 104</td><td> 168</td><td> 177</td><td> 195</td><td> 119</td><td> 119</td><td> 132</td><td> 149</td><td> 131</td><td> 105</td></tr>\n",
       "</tbody>\n",
       "</table>\n"
      ],
      "text/latex": [
       "A matrix: 6 × 15 of type dbl\n",
       "\\begin{tabular}{r|lllllllllllllll}\n",
       "  & sample31 & sample32 & sample33 & sample34 & sample35 & sample36 & sample37 & sample38 & sample39 & sample40 & sample41 & sample42 & sample43 & sample44 & sample45\\\\\n",
       "\\hline\n",
       "\t0610005C13Rik &    0 &    1 &    0 &    7 &    7 &    5 &    6 &    3 &    3 &    3 &    3 &    1 &    7 &    4 &    3\\\\\n",
       "\t0610006L08Rik &    0 &    0 &    0 &    0 &    0 &    0 &    0 &    0 &    0 &    0 &    0 &    0 &    1 &    0 &    0\\\\\n",
       "\t0610007P14Rik & 1139 & 1211 & 1403 & 1222 & 1087 & 1506 & 1987 & 2075 & 2088 & 1180 & 1216 & 1430 & 1341 & 1548 & 1378\\\\\n",
       "\t0610009B22Rik &  840 &  873 & 1007 &  736 &  691 &  901 & 1454 & 1432 & 1414 &  893 &  989 &  997 &  684 &  722 &  772\\\\\n",
       "\t0610009E02Rik &   10 &    4 &    2 &   17 &    6 &   19 &   29 &   27 &   28 &    2 &    6 &    8 &   20 &   16 &   15\\\\\n",
       "\t0610009L18Rik &   75 &   59 &   72 &  129 &   91 &  104 &  168 &  177 &  195 &  119 &  119 &  132 &  149 &  131 &  105\\\\\n",
       "\\end{tabular}\n"
      ],
      "text/markdown": [
       "\n",
       "A matrix: 6 × 15 of type dbl\n",
       "\n",
       "| <!--/--> | sample31 | sample32 | sample33 | sample34 | sample35 | sample36 | sample37 | sample38 | sample39 | sample40 | sample41 | sample42 | sample43 | sample44 | sample45 |\n",
       "|---|---|---|---|---|---|---|---|---|---|---|---|---|---|---|---|\n",
       "| 0610005C13Rik |    0 |    1 |    0 |    7 |    7 |    5 |    6 |    3 |    3 |    3 |    3 |    1 |    7 |    4 |    3 |\n",
       "| 0610006L08Rik |    0 |    0 |    0 |    0 |    0 |    0 |    0 |    0 |    0 |    0 |    0 |    0 |    1 |    0 |    0 |\n",
       "| 0610007P14Rik | 1139 | 1211 | 1403 | 1222 | 1087 | 1506 | 1987 | 2075 | 2088 | 1180 | 1216 | 1430 | 1341 | 1548 | 1378 |\n",
       "| 0610009B22Rik |  840 |  873 | 1007 |  736 |  691 |  901 | 1454 | 1432 | 1414 |  893 |  989 |  997 |  684 |  722 |  772 |\n",
       "| 0610009E02Rik |   10 |    4 |    2 |   17 |    6 |   19 |   29 |   27 |   28 |    2 |    6 |    8 |   20 |   16 |   15 |\n",
       "| 0610009L18Rik |   75 |   59 |   72 |  129 |   91 |  104 |  168 |  177 |  195 |  119 |  119 |  132 |  149 |  131 |  105 |\n",
       "\n"
      ],
      "text/plain": [
       "              sample31 sample32 sample33 sample34 sample35 sample36 sample37\n",
       "0610005C13Rik    0        1        0        7        7        5        6    \n",
       "0610006L08Rik    0        0        0        0        0        0        0    \n",
       "0610007P14Rik 1139     1211     1403     1222     1087     1506     1987    \n",
       "0610009B22Rik  840      873     1007      736      691      901     1454    \n",
       "0610009E02Rik   10        4        2       17        6       19       29    \n",
       "0610009L18Rik   75       59       72      129       91      104      168    \n",
       "              sample38 sample39 sample40 sample41 sample42 sample43 sample44\n",
       "0610005C13Rik    3        3        3        3        1        7        4    \n",
       "0610006L08Rik    0        0        0        0        0        1        0    \n",
       "0610007P14Rik 2075     2088     1180     1216     1430     1341     1548    \n",
       "0610009B22Rik 1432     1414      893      989      997      684      722    \n",
       "0610009E02Rik   27       28        2        6        8       20       16    \n",
       "0610009L18Rik  177      195      119      119      132      149      131    \n",
       "              sample45\n",
       "0610005C13Rik    3    \n",
       "0610006L08Rik    0    \n",
       "0610007P14Rik 1378    \n",
       "0610009B22Rik  772    \n",
       "0610009E02Rik   15    \n",
       "0610009L18Rik  105    "
      ]
     },
     "metadata": {},
     "output_type": "display_data"
    }
   ],
   "source": [
    "# WT microglia samples: SRR10079579 - SRR10079593\n",
    "micro <- txi$counts[,1:15]\n",
    "head(micro)\n",
    "\n",
    "# WT astrocyte samples: SRR10079609 - SRR10079623\n",
    "astro <- txi$counts[,31:45]\n",
    "head(astro)"
   ]
  },
  {
   "cell_type": "code",
   "execution_count": 6,
   "id": "65a8ac4f",
   "metadata": {},
   "outputs": [
    {
     "data": {
      "text/html": [
       "<table class=\"dataframe\">\n",
       "<caption>A data.frame: 15 × 1</caption>\n",
       "<thead>\n",
       "\t<tr><th></th><th scope=col>conditionM</th></tr>\n",
       "\t<tr><th></th><th scope=col>&lt;fct&gt;</th></tr>\n",
       "</thead>\n",
       "<tbody>\n",
       "\t<tr><th scope=row>sample1</th><td>2mo </td></tr>\n",
       "\t<tr><th scope=row>sample2</th><td>2mo </td></tr>\n",
       "\t<tr><th scope=row>sample3</th><td>2mo </td></tr>\n",
       "\t<tr><th scope=row>sample4</th><td>4mo </td></tr>\n",
       "\t<tr><th scope=row>sample5</th><td>4mo </td></tr>\n",
       "\t<tr><th scope=row>sample6</th><td>4mo </td></tr>\n",
       "\t<tr><th scope=row>sample7</th><td>6mo </td></tr>\n",
       "\t<tr><th scope=row>sample8</th><td>6mo </td></tr>\n",
       "\t<tr><th scope=row>sample9</th><td>6mo </td></tr>\n",
       "\t<tr><th scope=row>sample10</th><td>9mo </td></tr>\n",
       "\t<tr><th scope=row>sample11</th><td>9mo </td></tr>\n",
       "\t<tr><th scope=row>sample12</th><td>9mo </td></tr>\n",
       "\t<tr><th scope=row>sample13</th><td>12mo</td></tr>\n",
       "\t<tr><th scope=row>sample14</th><td>12mo</td></tr>\n",
       "\t<tr><th scope=row>sample15</th><td>12mo</td></tr>\n",
       "</tbody>\n",
       "</table>\n"
      ],
      "text/latex": [
       "A data.frame: 15 × 1\n",
       "\\begin{tabular}{r|l}\n",
       "  & conditionM\\\\\n",
       "  & <fct>\\\\\n",
       "\\hline\n",
       "\tsample1 & 2mo \\\\\n",
       "\tsample2 & 2mo \\\\\n",
       "\tsample3 & 2mo \\\\\n",
       "\tsample4 & 4mo \\\\\n",
       "\tsample5 & 4mo \\\\\n",
       "\tsample6 & 4mo \\\\\n",
       "\tsample7 & 6mo \\\\\n",
       "\tsample8 & 6mo \\\\\n",
       "\tsample9 & 6mo \\\\\n",
       "\tsample10 & 9mo \\\\\n",
       "\tsample11 & 9mo \\\\\n",
       "\tsample12 & 9mo \\\\\n",
       "\tsample13 & 12mo\\\\\n",
       "\tsample14 & 12mo\\\\\n",
       "\tsample15 & 12mo\\\\\n",
       "\\end{tabular}\n"
      ],
      "text/markdown": [
       "\n",
       "A data.frame: 15 × 1\n",
       "\n",
       "| <!--/--> | conditionM &lt;fct&gt; |\n",
       "|---|---|\n",
       "| sample1 | 2mo  |\n",
       "| sample2 | 2mo  |\n",
       "| sample3 | 2mo  |\n",
       "| sample4 | 4mo  |\n",
       "| sample5 | 4mo  |\n",
       "| sample6 | 4mo  |\n",
       "| sample7 | 6mo  |\n",
       "| sample8 | 6mo  |\n",
       "| sample9 | 6mo  |\n",
       "| sample10 | 9mo  |\n",
       "| sample11 | 9mo  |\n",
       "| sample12 | 9mo  |\n",
       "| sample13 | 12mo |\n",
       "| sample14 | 12mo |\n",
       "| sample15 | 12mo |\n",
       "\n"
      ],
      "text/plain": [
       "         conditionM\n",
       "sample1  2mo       \n",
       "sample2  2mo       \n",
       "sample3  2mo       \n",
       "sample4  4mo       \n",
       "sample5  4mo       \n",
       "sample6  4mo       \n",
       "sample7  6mo       \n",
       "sample8  6mo       \n",
       "sample9  6mo       \n",
       "sample10 9mo       \n",
       "sample11 9mo       \n",
       "sample12 9mo       \n",
       "sample13 12mo      \n",
       "sample14 12mo      \n",
       "sample15 12mo      "
      ]
     },
     "metadata": {},
     "output_type": "display_data"
    },
    {
     "data": {
      "text/html": [
       "<table class=\"dataframe\">\n",
       "<caption>A data.frame: 15 × 1</caption>\n",
       "<thead>\n",
       "\t<tr><th></th><th scope=col>conditionA</th></tr>\n",
       "\t<tr><th></th><th scope=col>&lt;fct&gt;</th></tr>\n",
       "</thead>\n",
       "<tbody>\n",
       "\t<tr><th scope=row>sample31</th><td>2mo </td></tr>\n",
       "\t<tr><th scope=row>sample32</th><td>2mo </td></tr>\n",
       "\t<tr><th scope=row>sample33</th><td>2mo </td></tr>\n",
       "\t<tr><th scope=row>sample34</th><td>4mo </td></tr>\n",
       "\t<tr><th scope=row>sample35</th><td>4mo </td></tr>\n",
       "\t<tr><th scope=row>sample36</th><td>4mo </td></tr>\n",
       "\t<tr><th scope=row>sample37</th><td>6mo </td></tr>\n",
       "\t<tr><th scope=row>sample38</th><td>6mo </td></tr>\n",
       "\t<tr><th scope=row>sample39</th><td>6mo </td></tr>\n",
       "\t<tr><th scope=row>sample40</th><td>9mo </td></tr>\n",
       "\t<tr><th scope=row>sample41</th><td>9mo </td></tr>\n",
       "\t<tr><th scope=row>sample42</th><td>9mo </td></tr>\n",
       "\t<tr><th scope=row>sample43</th><td>12mo</td></tr>\n",
       "\t<tr><th scope=row>sample44</th><td>12mo</td></tr>\n",
       "\t<tr><th scope=row>sample45</th><td>12mo</td></tr>\n",
       "</tbody>\n",
       "</table>\n"
      ],
      "text/latex": [
       "A data.frame: 15 × 1\n",
       "\\begin{tabular}{r|l}\n",
       "  & conditionA\\\\\n",
       "  & <fct>\\\\\n",
       "\\hline\n",
       "\tsample31 & 2mo \\\\\n",
       "\tsample32 & 2mo \\\\\n",
       "\tsample33 & 2mo \\\\\n",
       "\tsample34 & 4mo \\\\\n",
       "\tsample35 & 4mo \\\\\n",
       "\tsample36 & 4mo \\\\\n",
       "\tsample37 & 6mo \\\\\n",
       "\tsample38 & 6mo \\\\\n",
       "\tsample39 & 6mo \\\\\n",
       "\tsample40 & 9mo \\\\\n",
       "\tsample41 & 9mo \\\\\n",
       "\tsample42 & 9mo \\\\\n",
       "\tsample43 & 12mo\\\\\n",
       "\tsample44 & 12mo\\\\\n",
       "\tsample45 & 12mo\\\\\n",
       "\\end{tabular}\n"
      ],
      "text/markdown": [
       "\n",
       "A data.frame: 15 × 1\n",
       "\n",
       "| <!--/--> | conditionA &lt;fct&gt; |\n",
       "|---|---|\n",
       "| sample31 | 2mo  |\n",
       "| sample32 | 2mo  |\n",
       "| sample33 | 2mo  |\n",
       "| sample34 | 4mo  |\n",
       "| sample35 | 4mo  |\n",
       "| sample36 | 4mo  |\n",
       "| sample37 | 6mo  |\n",
       "| sample38 | 6mo  |\n",
       "| sample39 | 6mo  |\n",
       "| sample40 | 9mo  |\n",
       "| sample41 | 9mo  |\n",
       "| sample42 | 9mo  |\n",
       "| sample43 | 12mo |\n",
       "| sample44 | 12mo |\n",
       "| sample45 | 12mo |\n",
       "\n"
      ],
      "text/plain": [
       "         conditionA\n",
       "sample31 2mo       \n",
       "sample32 2mo       \n",
       "sample33 2mo       \n",
       "sample34 4mo       \n",
       "sample35 4mo       \n",
       "sample36 4mo       \n",
       "sample37 6mo       \n",
       "sample38 6mo       \n",
       "sample39 6mo       \n",
       "sample40 9mo       \n",
       "sample41 9mo       \n",
       "sample42 9mo       \n",
       "sample43 12mo      \n",
       "sample44 12mo      \n",
       "sample45 12mo      "
      ]
     },
     "metadata": {},
     "output_type": "display_data"
    }
   ],
   "source": [
    "month <- factor(rep(c(\"2mo\", \"4mo\", \"6mo\", \"9mo\", \"12mo\"), each = 3))\n",
    "# Change levels so that 2mo is the reference\n",
    "month <- factor(month, levels = c(\"2mo\", \"4mo\", \"6mo\", \"9mo\", \"12mo\" )) \n",
    "\n",
    "# microglia colData\n",
    "labelsM <- data.frame(conditionM = month, row.names = colnames(micro))\n",
    "labelsM\n",
    "\n",
    "# astrocyte colData\n",
    "labelsA <- data.frame(conditionA = month, row.names = colnames(astro))\n",
    "labelsA"
   ]
  },
  {
   "cell_type": "code",
   "execution_count": 7,
   "id": "f1c05683",
   "metadata": {},
   "outputs": [
    {
     "name": "stderr",
     "output_type": "stream",
     "text": [
      "converting counts to integer mode\n",
      "\n",
      "estimating size factors\n",
      "\n",
      "estimating dispersions\n",
      "\n",
      "gene-wise dispersion estimates\n",
      "\n",
      "mean-dispersion relationship\n",
      "\n",
      "final dispersion estimates\n",
      "\n",
      "fitting model and testing\n",
      "\n"
     ]
    },
    {
     "data": {
      "text/html": [
       "<style>\n",
       ".list-inline {list-style: none; margin:0; padding: 0}\n",
       ".list-inline>li {display: inline-block}\n",
       ".list-inline>li:not(:last-child)::after {content: \"\\00b7\"; padding: 0 .5ex}\n",
       "</style>\n",
       "<ol class=list-inline><li>'Intercept'</li><li>'conditionM_4mo_vs_2mo'</li><li>'conditionM_6mo_vs_2mo'</li><li>'conditionM_9mo_vs_2mo'</li><li>'conditionM_12mo_vs_2mo'</li></ol>\n"
      ],
      "text/latex": [
       "\\begin{enumerate*}\n",
       "\\item 'Intercept'\n",
       "\\item 'conditionM\\_4mo\\_vs\\_2mo'\n",
       "\\item 'conditionM\\_6mo\\_vs\\_2mo'\n",
       "\\item 'conditionM\\_9mo\\_vs\\_2mo'\n",
       "\\item 'conditionM\\_12mo\\_vs\\_2mo'\n",
       "\\end{enumerate*}\n"
      ],
      "text/markdown": [
       "1. 'Intercept'\n",
       "2. 'conditionM_4mo_vs_2mo'\n",
       "3. 'conditionM_6mo_vs_2mo'\n",
       "4. 'conditionM_9mo_vs_2mo'\n",
       "5. 'conditionM_12mo_vs_2mo'\n",
       "\n",
       "\n"
      ],
      "text/plain": [
       "[1] \"Intercept\"              \"conditionM_4mo_vs_2mo\"  \"conditionM_6mo_vs_2mo\" \n",
       "[4] \"conditionM_9mo_vs_2mo\"  \"conditionM_12mo_vs_2mo\""
      ]
     },
     "metadata": {},
     "output_type": "display_data"
    }
   ],
   "source": [
    "# Run DESeq() on the microglia data\n",
    "ddsM <- DESeqDataSetFromMatrix(countData = round(micro), colData = labelsM, design = ~ conditionM)\n",
    "ddsM <- DESeq(ddsM)\n",
    "resultsNames(ddsM) # gives coefficients"
   ]
  },
  {
   "cell_type": "code",
   "execution_count": 8,
   "id": "879fa063",
   "metadata": {},
   "outputs": [
    {
     "name": "stderr",
     "output_type": "stream",
     "text": [
      "using 'apeglm' for LFC shrinkage. If used in published research, please cite:\n",
      "    Zhu, A., Ibrahim, J.G., Love, M.I. (2018) Heavy-tailed prior distributions for\n",
      "    sequence count data: removing the noise and preserving large differences.\n",
      "    Bioinformatics. https://doi.org/10.1093/bioinformatics/bty895\n",
      "\n",
      "using 'apeglm' for LFC shrinkage. If used in published research, please cite:\n",
      "    Zhu, A., Ibrahim, J.G., Love, M.I. (2018) Heavy-tailed prior distributions for\n",
      "    sequence count data: removing the noise and preserving large differences.\n",
      "    Bioinformatics. https://doi.org/10.1093/bioinformatics/bty895\n",
      "\n",
      "using 'apeglm' for LFC shrinkage. If used in published research, please cite:\n",
      "    Zhu, A., Ibrahim, J.G., Love, M.I. (2018) Heavy-tailed prior distributions for\n",
      "    sequence count data: removing the noise and preserving large differences.\n",
      "    Bioinformatics. https://doi.org/10.1093/bioinformatics/bty895\n",
      "\n",
      "using 'apeglm' for LFC shrinkage. If used in published research, please cite:\n",
      "    Zhu, A., Ibrahim, J.G., Love, M.I. (2018) Heavy-tailed prior distributions for\n",
      "    sequence count data: removing the noise and preserving large differences.\n",
      "    Bioinformatics. https://doi.org/10.1093/bioinformatics/bty895\n",
      "\n"
     ]
    }
   ],
   "source": [
    "# Get the results for each of the 4 microglia comparisons (with log fold change shrunken) \n",
    "res4M <- lfcShrink(ddsM, coef=\"conditionM_4mo_vs_2mo\", type=\"apeglm\")\n",
    "res6M <- lfcShrink(ddsM, coef=\"conditionM_6mo_vs_2mo\", type=\"apeglm\")\n",
    "res9M <- lfcShrink(ddsM, coef=\"conditionM_9mo_vs_2mo\", type=\"apeglm\")\n",
    "res12M <- lfcShrink(ddsM, coef=\"conditionM_12mo_vs_2mo\", type=\"apeglm\")"
   ]
  },
  {
   "cell_type": "code",
   "execution_count": 9,
   "id": "6c94b37c",
   "metadata": {},
   "outputs": [],
   "source": [
    "# define filtering functions\n",
    "# DEGs defined as genes with padj < 0.05 and |log2FoldChange| > 0.5\n",
    "\n",
    "# filter by pre-defined adjusted p-value and log2FoldChange\n",
    "# Input: DataFrame m of DESeq2 results\n",
    "# Output: filtered DataFrame containing only upregulated DEGs\n",
    "\n",
    "filterUp <- function(m) {\n",
    "    m_filt = subset(m, padj != \"NA\" & padj < 0.05)\n",
    "    m_filt = subset(m_filt, log2FoldChange != \"NA\" & log2FoldChange > 0.5)\n",
    "    return (m_filt)\n",
    "}\n",
    "\n",
    "# filter by pre-defined adjusted p-value and log2FoldChange\n",
    "# Input: DataFrame m of DESeq2 results\n",
    "# Output: filtered DataFrame containing only downregulated DEGs\n",
    "\n",
    "filterDown <- function(m) {\n",
    "    m_filt = subset(m, padj != \"NA\" & padj < 0.05)\n",
    "    m_filt = subset(m_filt, log2FoldChange != \"NA\" & log2FoldChange < -0.5)\n",
    "    return (m_filt)\n",
    "}"
   ]
  },
  {
   "cell_type": "code",
   "execution_count": 10,
   "id": "b23c3628",
   "metadata": {},
   "outputs": [],
   "source": [
    "# define function to find all DEGs\n",
    "# find the DEGs that occur at each of 4 time points relative to the control \n",
    "# Input: 4 DataFrames filtered for DEGs\n",
    "# Output: list of DEGs found in all DataFrames\n",
    "\n",
    "findAllDEGs <- function(a, b, c, d) {\n",
    "    # get the DEGs for each point\n",
    "    DEG_a <- row.names(a)\n",
    "    DEG_b <- row.names(b)\n",
    "    DEG_c <- row.names(c)\n",
    "    DEG_d <- row.names(d)\n",
    "\n",
    "    # find intersection of each set of DEGs\n",
    "    DEG_all <- Reduce(intersect, list(DEG_a, DEG_b, DEG_c, DEG_d))\n",
    "    return (DEG_all)\n",
    "}"
   ]
  },
  {
   "cell_type": "code",
   "execution_count": 11,
   "id": "8ecaf8c1",
   "metadata": {},
   "outputs": [],
   "source": [
    "# define Jaccard Similarity function\n",
    "# Input: two objects of the same type containing sequence of elements\n",
    "# Output: Jaccard similarity of two objects\n",
    "\n",
    "jaccard <- function(a, b) {\n",
    "    intersection = length(intersect(a, b))\n",
    "    union = length(a) + length(b) - intersection\n",
    "    return (intersection/union)\n",
    "}"
   ]
  },
  {
   "cell_type": "code",
   "execution_count": 12,
   "id": "4426492e",
   "metadata": {},
   "outputs": [
    {
     "data": {
      "text/plain": [
       "log2 fold change (MAP): conditionM 4mo vs 2mo \n",
       "Wald test p-value: conditionM 4mo vs 2mo \n",
       "DataFrame with 52 rows and 5 columns\n",
       "               baseMean log2FoldChange     lfcSE      pvalue        padj\n",
       "              <numeric>      <numeric> <numeric>   <numeric>   <numeric>\n",
       "2010107G23Rik   70.4262       5.592144  0.818035 1.10732e-12 8.33587e-09\n",
       "4930522L14Rik  229.2585       0.788272  0.202055 4.17571e-06 2.41806e-03\n",
       "ATP8           178.2856       0.855979  0.272844 6.48576e-05 1.90161e-02\n",
       "Adgrl4          28.5871       2.290025  0.776773 1.00593e-04 2.40402e-02\n",
       "Anp32a         792.9677       1.101585  0.252435 5.31547e-07 6.15613e-04\n",
       "...                 ...            ...       ...         ...         ...\n",
       "Wfdc1           14.9516       2.972623  1.125206 2.34198e-04 4.22278e-02\n",
       "Zcchc9         242.9688       0.547850  0.197283 2.30004e-04 4.22278e-02\n",
       "Zfp69          964.6476       0.587253  0.113520 1.24530e-08 2.67846e-05\n",
       "Zfp738         224.5707       0.817991  0.266217 8.28068e-05 2.14955e-02\n",
       "Zfyve16        255.6202       0.539743  0.186831 1.67570e-04 3.60420e-02"
      ]
     },
     "metadata": {},
     "output_type": "display_data"
    },
    {
     "data": {
      "text/plain": [
       "log2 fold change (MAP): conditionM 4mo vs 2mo \n",
       "Wald test p-value: conditionM 4mo vs 2mo \n",
       "DataFrame with 9 rows and 5 columns\n",
       "          baseMean log2FoldChange     lfcSE      pvalue        padj\n",
       "         <numeric>      <numeric> <numeric>   <numeric>   <numeric>\n",
       "Arl6ip5    734.634      -0.542116  0.154973 2.07678e-05 0.008685555\n",
       "Atp6v0a2  1758.028      -0.537203  0.116267 1.91331e-07 0.000261880\n",
       "Chst15     213.261      -0.626882  0.205655 8.74761e-05 0.021950659\n",
       "Inppl1     252.577      -0.689884  0.216327 5.81593e-05 0.017826593\n",
       "Map2k4     603.701      -0.504705  0.167122 1.15795e-04 0.026415365\n",
       "Midn       150.573      -0.961564  0.338710 1.51416e-04 0.033525307\n",
       "Nectin2    629.263      -1.150555  0.283258 2.16319e-06 0.001418505\n",
       "Pa2g4      584.239      -0.738196  0.173216 9.17890e-07 0.000791849\n",
       "Ptpn23     246.332      -0.615653  0.180627 3.05787e-05 0.010961739"
      ]
     },
     "metadata": {},
     "output_type": "display_data"
    }
   ],
   "source": [
    "# filter for upregulated microglia DEGs\n",
    "res4M_up <- filterUp(res4M)\n",
    "res6M_up <- filterUp(res6M)\n",
    "res9M_up <- filterUp(res9M)\n",
    "res12M_up <- filterUp(res12M)\n",
    "\n",
    "# filter for downregulated microglia DEGs\n",
    "res4M_down <- filterDown(res4M)\n",
    "res6M_down <- filterDown(res6M)\n",
    "res9M_down <- filterDown(res9M)\n",
    "res12M_down <- filterDown(res12M)\n",
    "\n",
    "# view DataFrames\n",
    "res4M_up\n",
    "res4M_down"
   ]
  },
  {
   "cell_type": "code",
   "execution_count": 13,
   "id": "ad967349",
   "metadata": {},
   "outputs": [
    {
     "data": {
      "text/html": [
       "52"
      ],
      "text/latex": [
       "52"
      ],
      "text/markdown": [
       "52"
      ],
      "text/plain": [
       "[1] 52"
      ]
     },
     "metadata": {},
     "output_type": "display_data"
    },
    {
     "data": {
      "text/html": [
       "513"
      ],
      "text/latex": [
       "513"
      ],
      "text/markdown": [
       "513"
      ],
      "text/plain": [
       "[1] 513"
      ]
     },
     "metadata": {},
     "output_type": "display_data"
    },
    {
     "data": {
      "text/html": [
       "101"
      ],
      "text/latex": [
       "101"
      ],
      "text/markdown": [
       "101"
      ],
      "text/plain": [
       "[1] 101"
      ]
     },
     "metadata": {},
     "output_type": "display_data"
    },
    {
     "data": {
      "text/html": [
       "892"
      ],
      "text/latex": [
       "892"
      ],
      "text/markdown": [
       "892"
      ],
      "text/plain": [
       "[1] 892"
      ]
     },
     "metadata": {},
     "output_type": "display_data"
    },
    {
     "data": {
      "text/html": [
       "9"
      ],
      "text/latex": [
       "9"
      ],
      "text/markdown": [
       "9"
      ],
      "text/plain": [
       "[1] 9"
      ]
     },
     "metadata": {},
     "output_type": "display_data"
    },
    {
     "data": {
      "text/html": [
       "1225"
      ],
      "text/latex": [
       "1225"
      ],
      "text/markdown": [
       "1225"
      ],
      "text/plain": [
       "[1] 1225"
      ]
     },
     "metadata": {},
     "output_type": "display_data"
    },
    {
     "data": {
      "text/html": [
       "20"
      ],
      "text/latex": [
       "20"
      ],
      "text/markdown": [
       "20"
      ],
      "text/plain": [
       "[1] 20"
      ]
     },
     "metadata": {},
     "output_type": "display_data"
    },
    {
     "data": {
      "text/html": [
       "367"
      ],
      "text/latex": [
       "367"
      ],
      "text/markdown": [
       "367"
      ],
      "text/plain": [
       "[1] 367"
      ]
     },
     "metadata": {},
     "output_type": "display_data"
    }
   ],
   "source": [
    "# get number of microglia DEGs at each time point: upregulated + downregulated = total\n",
    "# get number of upregulated microglia DEGs at each time point\n",
    "nrow(res4M_up)\n",
    "nrow(res6M_up)\n",
    "nrow(res9M_up)\n",
    "nrow(res12M_up)\n",
    "\n",
    "# get number of downregulated microglia DEGs at each time point\n",
    "nrow(res4M_down)\n",
    "nrow(res6M_down)\n",
    "nrow(res9M_down)\n",
    "nrow(res12M_down)"
   ]
  },
  {
   "cell_type": "code",
   "execution_count": 32,
   "id": "08e9a471",
   "metadata": {},
   "outputs": [
    {
     "data": {
      "text/html": [
       "4"
      ],
      "text/latex": [
       "4"
      ],
      "text/markdown": [
       "4"
      ],
      "text/plain": [
       "[1] 4"
      ]
     },
     "metadata": {},
     "output_type": "display_data"
    },
    {
     "data": {
      "text/html": [
       "0"
      ],
      "text/latex": [
       "0"
      ],
      "text/markdown": [
       "0"
      ],
      "text/plain": [
       "[1] 0"
      ]
     },
     "metadata": {},
     "output_type": "display_data"
    },
    {
     "data": {
      "text/html": [
       "<style>\n",
       ".list-inline {list-style: none; margin:0; padding: 0}\n",
       ".list-inline>li {display: inline-block}\n",
       ".list-inline>li:not(:last-child)::after {content: \"\\00b7\"; padding: 0 .5ex}\n",
       "</style>\n",
       "<ol class=list-inline><li>'2010107G23Rik'</li><li>'Mki67'</li><li>'Pbk'</li><li>'Scoc'</li></ol>\n"
      ],
      "text/latex": [
       "\\begin{enumerate*}\n",
       "\\item '2010107G23Rik'\n",
       "\\item 'Mki67'\n",
       "\\item 'Pbk'\n",
       "\\item 'Scoc'\n",
       "\\end{enumerate*}\n"
      ],
      "text/markdown": [
       "1. '2010107G23Rik'\n",
       "2. 'Mki67'\n",
       "3. 'Pbk'\n",
       "4. 'Scoc'\n",
       "\n",
       "\n"
      ],
      "text/plain": [
       "[1] \"2010107G23Rik\" \"Mki67\"         \"Pbk\"           \"Scoc\"         "
      ]
     },
     "metadata": {},
     "output_type": "display_data"
    }
   ],
   "source": [
    "# find the final DEG list for each category: upregulated and downregulated\n",
    "DEG_upM <- findAllDEGs(res4M_up, res6M_up, res9M_up, res12M_up)\n",
    "DEG_downM <- findAllDEGs(res4M_down, res6M_down, res9M_down, res12M_down)\n",
    "\n",
    "length(DEG_upM) \n",
    "length(DEG_downM) \n",
    "\n",
    "DEG_upM"
   ]
  },
  {
   "cell_type": "code",
   "execution_count": 15,
   "id": "e7a80628",
   "metadata": {},
   "outputs": [
    {
     "data": {
      "text/html": [
       "0.0612244897959184"
      ],
      "text/latex": [
       "0.0612244897959184"
      ],
      "text/markdown": [
       "0.0612244897959184"
      ],
      "text/plain": [
       "[1] 0.06122449"
      ]
     },
     "metadata": {},
     "output_type": "display_data"
    },
    {
     "data": {
      "text/html": [
       "0"
      ],
      "text/latex": [
       "0"
      ],
      "text/markdown": [
       "0"
      ],
      "text/plain": [
       "[1] 0"
      ]
     },
     "metadata": {},
     "output_type": "display_data"
    }
   ],
   "source": [
    "# Compare my DEG list to paper's list\n",
    "\n",
    "# read in paper's microglia DEG lists: all genes listed under column \"V1\"\n",
    "age_upM <- read.table(file.path(dir, \"age-up_microglia.txt\")) \n",
    "age_downM <- read.table(file.path(dir, \"age-down_microglia.txt\")) \n",
    "\n",
    "# calculate Jaccard similarity for upregulated microglia DEG lists\n",
    "upM_jaccard <- jaccard(DEG_upM, age_upM$V1)\n",
    "upM_jaccard\n",
    "\n",
    "# calculate Jaccard similarity for downregulated microglia DEG lists\n",
    "downM_jaccard <- jaccard(DEG_downM, age_downM$V1)\n",
    "downM_jaccard"
   ]
  },
  {
   "cell_type": "code",
   "execution_count": 16,
   "id": "94cba626",
   "metadata": {},
   "outputs": [
    {
     "name": "stderr",
     "output_type": "stream",
     "text": [
      "converting counts to integer mode\n",
      "\n",
      "estimating size factors\n",
      "\n",
      "estimating dispersions\n",
      "\n",
      "gene-wise dispersion estimates\n",
      "\n",
      "mean-dispersion relationship\n",
      "\n",
      "final dispersion estimates\n",
      "\n",
      "fitting model and testing\n",
      "\n"
     ]
    },
    {
     "data": {
      "text/html": [
       "<style>\n",
       ".list-inline {list-style: none; margin:0; padding: 0}\n",
       ".list-inline>li {display: inline-block}\n",
       ".list-inline>li:not(:last-child)::after {content: \"\\00b7\"; padding: 0 .5ex}\n",
       "</style>\n",
       "<ol class=list-inline><li>'Intercept'</li><li>'conditionA_4mo_vs_2mo'</li><li>'conditionA_6mo_vs_2mo'</li><li>'conditionA_9mo_vs_2mo'</li><li>'conditionA_12mo_vs_2mo'</li></ol>\n"
      ],
      "text/latex": [
       "\\begin{enumerate*}\n",
       "\\item 'Intercept'\n",
       "\\item 'conditionA\\_4mo\\_vs\\_2mo'\n",
       "\\item 'conditionA\\_6mo\\_vs\\_2mo'\n",
       "\\item 'conditionA\\_9mo\\_vs\\_2mo'\n",
       "\\item 'conditionA\\_12mo\\_vs\\_2mo'\n",
       "\\end{enumerate*}\n"
      ],
      "text/markdown": [
       "1. 'Intercept'\n",
       "2. 'conditionA_4mo_vs_2mo'\n",
       "3. 'conditionA_6mo_vs_2mo'\n",
       "4. 'conditionA_9mo_vs_2mo'\n",
       "5. 'conditionA_12mo_vs_2mo'\n",
       "\n",
       "\n"
      ],
      "text/plain": [
       "[1] \"Intercept\"              \"conditionA_4mo_vs_2mo\"  \"conditionA_6mo_vs_2mo\" \n",
       "[4] \"conditionA_9mo_vs_2mo\"  \"conditionA_12mo_vs_2mo\""
      ]
     },
     "metadata": {},
     "output_type": "display_data"
    }
   ],
   "source": [
    "# Run DESeq() on the astrocyte data\n",
    "ddsA <- DESeqDataSetFromMatrix(countData = round(astro), colData = labelsA, design = ~ conditionA)\n",
    "ddsA <- DESeq(ddsA)\n",
    "resultsNames(ddsA) # gives coefficients"
   ]
  },
  {
   "cell_type": "code",
   "execution_count": 17,
   "id": "cdaa50b5",
   "metadata": {},
   "outputs": [
    {
     "name": "stderr",
     "output_type": "stream",
     "text": [
      "using 'apeglm' for LFC shrinkage. If used in published research, please cite:\n",
      "    Zhu, A., Ibrahim, J.G., Love, M.I. (2018) Heavy-tailed prior distributions for\n",
      "    sequence count data: removing the noise and preserving large differences.\n",
      "    Bioinformatics. https://doi.org/10.1093/bioinformatics/bty895\n",
      "\n",
      "using 'apeglm' for LFC shrinkage. If used in published research, please cite:\n",
      "    Zhu, A., Ibrahim, J.G., Love, M.I. (2018) Heavy-tailed prior distributions for\n",
      "    sequence count data: removing the noise and preserving large differences.\n",
      "    Bioinformatics. https://doi.org/10.1093/bioinformatics/bty895\n",
      "\n",
      "using 'apeglm' for LFC shrinkage. If used in published research, please cite:\n",
      "    Zhu, A., Ibrahim, J.G., Love, M.I. (2018) Heavy-tailed prior distributions for\n",
      "    sequence count data: removing the noise and preserving large differences.\n",
      "    Bioinformatics. https://doi.org/10.1093/bioinformatics/bty895\n",
      "\n",
      "using 'apeglm' for LFC shrinkage. If used in published research, please cite:\n",
      "    Zhu, A., Ibrahim, J.G., Love, M.I. (2018) Heavy-tailed prior distributions for\n",
      "    sequence count data: removing the noise and preserving large differences.\n",
      "    Bioinformatics. https://doi.org/10.1093/bioinformatics/bty895\n",
      "\n"
     ]
    }
   ],
   "source": [
    "# Get the results for each of the 4 astrocyte comparisons (with log fold change shrunken) \n",
    "res4A <- lfcShrink(ddsA, coef=\"conditionA_4mo_vs_2mo\", type=\"apeglm\")\n",
    "res6A <- lfcShrink(ddsA, coef=\"conditionA_6mo_vs_2mo\", type=\"apeglm\")\n",
    "res9A <- lfcShrink(ddsA, coef=\"conditionA_9mo_vs_2mo\", type=\"apeglm\")\n",
    "res12A <- lfcShrink(ddsA, coef=\"conditionA_12mo_vs_2mo\", type=\"apeglm\")"
   ]
  },
  {
   "cell_type": "code",
   "execution_count": 18,
   "id": "a1241165",
   "metadata": {},
   "outputs": [
    {
     "data": {
      "text/plain": [
       "log2 fold change (MAP): conditionA 4mo vs 2mo \n",
       "Wald test p-value: conditionA 4mo vs 2mo \n",
       "DataFrame with 842 rows and 5 columns\n",
       "               baseMean log2FoldChange     lfcSE      pvalue        padj\n",
       "              <numeric>      <numeric> <numeric>   <numeric>   <numeric>\n",
       "0610011F06Rik  466.9239       0.669540  0.121530 3.76725e-09 3.26299e-07\n",
       "1110001J03Rik 1064.3740       0.829392  0.132706 3.67071e-11 5.40212e-09\n",
       "1110020A21Rik   83.1407       0.919341  0.272069 4.69178e-05 1.02260e-03\n",
       "1500015L24Rik  190.2579       0.547403  0.280360 4.41965e-03 3.32273e-02\n",
       "1500015O10Rik  753.9605       0.957601  0.229835 1.98084e-06 7.56354e-05\n",
       "...                 ...            ...       ...         ...         ...\n",
       "Zfp97           99.4503       0.808682  0.290427 3.42868e-04 4.86925e-03\n",
       "Zfp971         155.9585       0.770504  0.182782 2.11024e-06 7.95767e-05\n",
       "Zfp973          14.1934       3.345328  1.017625 6.00508e-05 1.23442e-03\n",
       "Zhx3           415.2115       1.030687  0.189755 3.65205e-09 3.19650e-07\n",
       "Znrd1          469.8396       0.500956  0.123428 7.60398e-06 2.32881e-04"
      ]
     },
     "metadata": {},
     "output_type": "display_data"
    },
    {
     "data": {
      "text/plain": [
       "log2 fold change (MAP): conditionA 4mo vs 2mo \n",
       "Wald test p-value: conditionA 4mo vs 2mo \n",
       "DataFrame with 595 rows and 5 columns\n",
       "               baseMean log2FoldChange     lfcSE      pvalue        padj\n",
       "              <numeric>      <numeric> <numeric>   <numeric>   <numeric>\n",
       "1810041L15Rik  138.4930      -0.635180  0.249507 8.93452e-04 1.02651e-02\n",
       "2610002M06Rik  243.8672      -0.584906  0.246201 1.56182e-03 1.56182e-02\n",
       "3110035E14Rik   43.7788      -1.883770  0.348049 3.38556e-09 2.99478e-07\n",
       "4930452G13Rik   80.0485      -0.671214  0.290098 1.45594e-03 1.48087e-02\n",
       "4933431E20Rik 1363.7916      -0.784051  0.123775 1.99457e-11 3.12921e-09\n",
       "...                 ...            ...       ...         ...         ...\n",
       "Xkr4           103.4972      -0.895074  0.240946 1.32341e-05 3.69888e-04\n",
       "Zdhhc2         151.5495      -1.180639  0.202745 3.43567e-10 4.05214e-08\n",
       "Zdhhc9        3258.2406      -1.121037  0.194499 4.94459e-10 5.53124e-08\n",
       "Zfp423         249.9800      -0.593120  0.164663 3.61974e-05 8.37223e-04\n",
       "Zfp518b         79.3558      -0.652713  0.264732 1.05558e-03 1.15947e-02"
      ]
     },
     "metadata": {},
     "output_type": "display_data"
    }
   ],
   "source": [
    "# filter for upregulated astrocyte DEGs\n",
    "res4A_up <- filterUp(res4A)\n",
    "res6A_up <- filterUp(res6A)\n",
    "res9A_up <- filterUp(res9A)\n",
    "res12A_up <- filterUp(res12A)\n",
    "\n",
    "# filter for downregulated astrocyte DEGs\n",
    "res4A_down <- filterDown(res4A)\n",
    "res6A_down <- filterDown(res6A)\n",
    "res9A_down <- filterDown(res9A)\n",
    "res12A_down <- filterDown(res12A)\n",
    "\n",
    "# view DataFrames\n",
    "res4A_up\n",
    "res4A_down"
   ]
  },
  {
   "cell_type": "code",
   "execution_count": 19,
   "id": "a79be9ee",
   "metadata": {},
   "outputs": [
    {
     "data": {
      "text/html": [
       "842"
      ],
      "text/latex": [
       "842"
      ],
      "text/markdown": [
       "842"
      ],
      "text/plain": [
       "[1] 842"
      ]
     },
     "metadata": {},
     "output_type": "display_data"
    },
    {
     "data": {
      "text/html": [
       "3426"
      ],
      "text/latex": [
       "3426"
      ],
      "text/markdown": [
       "3426"
      ],
      "text/plain": [
       "[1] 3426"
      ]
     },
     "metadata": {},
     "output_type": "display_data"
    },
    {
     "data": {
      "text/html": [
       "962"
      ],
      "text/latex": [
       "962"
      ],
      "text/markdown": [
       "962"
      ],
      "text/plain": [
       "[1] 962"
      ]
     },
     "metadata": {},
     "output_type": "display_data"
    },
    {
     "data": {
      "text/html": [
       "1555"
      ],
      "text/latex": [
       "1555"
      ],
      "text/markdown": [
       "1555"
      ],
      "text/plain": [
       "[1] 1555"
      ]
     },
     "metadata": {},
     "output_type": "display_data"
    },
    {
     "data": {
      "text/html": [
       "595"
      ],
      "text/latex": [
       "595"
      ],
      "text/markdown": [
       "595"
      ],
      "text/plain": [
       "[1] 595"
      ]
     },
     "metadata": {},
     "output_type": "display_data"
    },
    {
     "data": {
      "text/html": [
       "3863"
      ],
      "text/latex": [
       "3863"
      ],
      "text/markdown": [
       "3863"
      ],
      "text/plain": [
       "[1] 3863"
      ]
     },
     "metadata": {},
     "output_type": "display_data"
    },
    {
     "data": {
      "text/html": [
       "1195"
      ],
      "text/latex": [
       "1195"
      ],
      "text/markdown": [
       "1195"
      ],
      "text/plain": [
       "[1] 1195"
      ]
     },
     "metadata": {},
     "output_type": "display_data"
    },
    {
     "data": {
      "text/html": [
       "1610"
      ],
      "text/latex": [
       "1610"
      ],
      "text/markdown": [
       "1610"
      ],
      "text/plain": [
       "[1] 1610"
      ]
     },
     "metadata": {},
     "output_type": "display_data"
    }
   ],
   "source": [
    "# get number of astrocyte DEGs at each time point: upregulated + downregulated = total\n",
    "# get number of upregulated astrocyte DEGs at each time point\n",
    "nrow(res4A_up)\n",
    "nrow(res6A_up)\n",
    "nrow(res9A_up)\n",
    "nrow(res12A_up)\n",
    "\n",
    "# get number of downregulated astrocyte microglia DEGs at each time point\n",
    "nrow(res4A_down)\n",
    "nrow(res6A_down)\n",
    "nrow(res9A_down)\n",
    "nrow(res12A_down)"
   ]
  },
  {
   "cell_type": "code",
   "execution_count": 27,
   "id": "84c0a2d2",
   "metadata": {},
   "outputs": [
    {
     "data": {
      "text/html": [
       "216"
      ],
      "text/latex": [
       "216"
      ],
      "text/markdown": [
       "216"
      ],
      "text/plain": [
       "[1] 216"
      ]
     },
     "metadata": {},
     "output_type": "display_data"
    },
    {
     "data": {
      "text/html": [
       "176"
      ],
      "text/latex": [
       "176"
      ],
      "text/markdown": [
       "176"
      ],
      "text/plain": [
       "[1] 176"
      ]
     },
     "metadata": {},
     "output_type": "display_data"
    }
   ],
   "source": [
    "# find the final DEG list for each category: upregulated and downregulated\n",
    "DEG_upA <- findAllDEGs(res4A_up, res6A_up, res9A_up, res12A_up)\n",
    "DEG_downA <- findAllDEGs(res4A_down, res6A_down, res9A_down, res12A_down)\n",
    "\n",
    "length(DEG_upA) \n",
    "length(DEG_downA)\n",
    "\n",
    "# write DEG lists to text files\n",
    "write.table(DEG_upA, file=\"DEG_upA.txt\", quote=FALSE, row.names=FALSE, col.names=FALSE)\n",
    "write.table(DEG_downA, file=\"DEG_downA.txt\", quote=FALSE, row.names=FALSE, col.names=FALSE)"
   ]
  },
  {
   "cell_type": "code",
   "execution_count": 21,
   "id": "99e31b2d",
   "metadata": {},
   "outputs": [
    {
     "data": {
      "text/html": [
       "0.43006993006993"
      ],
      "text/latex": [
       "0.43006993006993"
      ],
      "text/markdown": [
       "0.43006993006993"
      ],
      "text/plain": [
       "[1] 0.4300699"
      ]
     },
     "metadata": {},
     "output_type": "display_data"
    },
    {
     "data": {
      "text/html": [
       "0.635555555555556"
      ],
      "text/latex": [
       "0.635555555555556"
      ],
      "text/markdown": [
       "0.635555555555556"
      ],
      "text/plain": [
       "[1] 0.6355556"
      ]
     },
     "metadata": {},
     "output_type": "display_data"
    }
   ],
   "source": [
    "# Compare my DEG list to paper's list\n",
    "\n",
    "# read in paper's astrocyte DEG lists: all genes listed under column \"V1\"\n",
    "age_upA <- read.table(file.path(dir, \"age-up_astrocyte.txt\")) \n",
    "age_downA <- read.table(file.path(dir, \"age-down_astrocyte.txt\")) \n",
    "\n",
    "# calculate Jaccard similarity for upregulated astrocyte DEG lists\n",
    "upA_jaccard <- jaccard(DEG_upA, age_upA$V1)\n",
    "upA_jaccard\n",
    "\n",
    "# calculate Jaccard similarity for downregulated astrocyte DEG lists\n",
    "downA_jaccard <- jaccard(DEG_downA, age_downA$V1)\n",
    "downA_jaccard"
   ]
  },
  {
   "cell_type": "code",
   "execution_count": 40,
   "id": "57a4404c",
   "metadata": {},
   "outputs": [
    {
     "data": {
      "text/html": [
       "<table class=\"dataframe\">\n",
       "<caption>A matrix: 6 × 6 of type dbl</caption>\n",
       "<thead>\n",
       "\t<tr><th></th><th scope=col>sample43</th><th scope=col>sample44</th><th scope=col>sample45</th><th scope=col>sample58</th><th scope=col>sample59</th><th scope=col>sample60</th></tr>\n",
       "</thead>\n",
       "<tbody>\n",
       "\t<tr><th scope=row>0610005C13Rik</th><td>   7</td><td>   4</td><td>   3</td><td>   9</td><td>   6</td><td>   4</td></tr>\n",
       "\t<tr><th scope=row>0610006L08Rik</th><td>   1</td><td>   0</td><td>   0</td><td>   0</td><td>   0</td><td>   0</td></tr>\n",
       "\t<tr><th scope=row>0610007P14Rik</th><td>1341</td><td>1548</td><td>1378</td><td>1855</td><td>1509</td><td>1333</td></tr>\n",
       "\t<tr><th scope=row>0610009B22Rik</th><td> 684</td><td> 722</td><td> 772</td><td>1180</td><td>1002</td><td> 895</td></tr>\n",
       "\t<tr><th scope=row>0610009E02Rik</th><td>  20</td><td>  16</td><td>  15</td><td>  22</td><td>  21</td><td>   7</td></tr>\n",
       "\t<tr><th scope=row>0610009L18Rik</th><td> 149</td><td> 131</td><td> 105</td><td> 184</td><td> 187</td><td> 125</td></tr>\n",
       "</tbody>\n",
       "</table>\n"
      ],
      "text/latex": [
       "A matrix: 6 × 6 of type dbl\n",
       "\\begin{tabular}{r|llllll}\n",
       "  & sample43 & sample44 & sample45 & sample58 & sample59 & sample60\\\\\n",
       "\\hline\n",
       "\t0610005C13Rik &    7 &    4 &    3 &    9 &    6 &    4\\\\\n",
       "\t0610006L08Rik &    1 &    0 &    0 &    0 &    0 &    0\\\\\n",
       "\t0610007P14Rik & 1341 & 1548 & 1378 & 1855 & 1509 & 1333\\\\\n",
       "\t0610009B22Rik &  684 &  722 &  772 & 1180 & 1002 &  895\\\\\n",
       "\t0610009E02Rik &   20 &   16 &   15 &   22 &   21 &    7\\\\\n",
       "\t0610009L18Rik &  149 &  131 &  105 &  184 &  187 &  125\\\\\n",
       "\\end{tabular}\n"
      ],
      "text/markdown": [
       "\n",
       "A matrix: 6 × 6 of type dbl\n",
       "\n",
       "| <!--/--> | sample43 | sample44 | sample45 | sample58 | sample59 | sample60 |\n",
       "|---|---|---|---|---|---|---|\n",
       "| 0610005C13Rik |    7 |    4 |    3 |    9 |    6 |    4 |\n",
       "| 0610006L08Rik |    1 |    0 |    0 |    0 |    0 |    0 |\n",
       "| 0610007P14Rik | 1341 | 1548 | 1378 | 1855 | 1509 | 1333 |\n",
       "| 0610009B22Rik |  684 |  722 |  772 | 1180 | 1002 |  895 |\n",
       "| 0610009E02Rik |   20 |   16 |   15 |   22 |   21 |    7 |\n",
       "| 0610009L18Rik |  149 |  131 |  105 |  184 |  187 |  125 |\n",
       "\n"
      ],
      "text/plain": [
       "              sample43 sample44 sample45 sample58 sample59 sample60\n",
       "0610005C13Rik    7        4        3        9        6        4    \n",
       "0610006L08Rik    1        0        0        0        0        0    \n",
       "0610007P14Rik 1341     1548     1378     1855     1509     1333    \n",
       "0610009B22Rik  684      722      772     1180     1002      895    \n",
       "0610009E02Rik   20       16       15       22       21        7    \n",
       "0610009L18Rik  149      131      105      184      187      125    "
      ]
     },
     "metadata": {},
     "output_type": "display_data"
    },
    {
     "data": {
      "text/html": [
       "<table class=\"dataframe\">\n",
       "<caption>A matrix: 6 × 6 of type dbl</caption>\n",
       "<thead>\n",
       "\t<tr><th></th><th scope=col>sample43</th><th scope=col>sample44</th><th scope=col>sample45</th><th scope=col>sample58</th><th scope=col>sample59</th><th scope=col>sample60</th></tr>\n",
       "</thead>\n",
       "<tbody>\n",
       "\t<tr><th scope=row>1110020A21Rik</th><td> 71</td><td> 93</td><td> 79</td><td>145</td><td>139</td><td>107</td></tr>\n",
       "\t<tr><th scope=row>1500015L24Rik</th><td>233</td><td>138</td><td>260</td><td>366</td><td>248</td><td>328</td></tr>\n",
       "\t<tr><th scope=row>1600020E01Rik</th><td>217</td><td>252</td><td>195</td><td>297</td><td>267</td><td>261</td></tr>\n",
       "\t<tr><th scope=row>1700019D03Rik</th><td>284</td><td>383</td><td>379</td><td>596</td><td>555</td><td>554</td></tr>\n",
       "\t<tr><th scope=row>1700086O06Rik</th><td> 27</td><td> 40</td><td> 38</td><td> 67</td><td> 28</td><td> 65</td></tr>\n",
       "\t<tr><th scope=row>2010107G23Rik</th><td>140</td><td>175</td><td>152</td><td>208</td><td>259</td><td>243</td></tr>\n",
       "</tbody>\n",
       "</table>\n"
      ],
      "text/latex": [
       "A matrix: 6 × 6 of type dbl\n",
       "\\begin{tabular}{r|llllll}\n",
       "  & sample43 & sample44 & sample45 & sample58 & sample59 & sample60\\\\\n",
       "\\hline\n",
       "\t1110020A21Rik &  71 &  93 &  79 & 145 & 139 & 107\\\\\n",
       "\t1500015L24Rik & 233 & 138 & 260 & 366 & 248 & 328\\\\\n",
       "\t1600020E01Rik & 217 & 252 & 195 & 297 & 267 & 261\\\\\n",
       "\t1700019D03Rik & 284 & 383 & 379 & 596 & 555 & 554\\\\\n",
       "\t1700086O06Rik &  27 &  40 &  38 &  67 &  28 &  65\\\\\n",
       "\t2010107G23Rik & 140 & 175 & 152 & 208 & 259 & 243\\\\\n",
       "\\end{tabular}\n"
      ],
      "text/markdown": [
       "\n",
       "A matrix: 6 × 6 of type dbl\n",
       "\n",
       "| <!--/--> | sample43 | sample44 | sample45 | sample58 | sample59 | sample60 |\n",
       "|---|---|---|---|---|---|---|\n",
       "| 1110020A21Rik |  71 |  93 |  79 | 145 | 139 | 107 |\n",
       "| 1500015L24Rik | 233 | 138 | 260 | 366 | 248 | 328 |\n",
       "| 1600020E01Rik | 217 | 252 | 195 | 297 | 267 | 261 |\n",
       "| 1700019D03Rik | 284 | 383 | 379 | 596 | 555 | 554 |\n",
       "| 1700086O06Rik |  27 |  40 |  38 |  67 |  28 |  65 |\n",
       "| 2010107G23Rik | 140 | 175 | 152 | 208 | 259 | 243 |\n",
       "\n"
      ],
      "text/plain": [
       "              sample43 sample44 sample45 sample58 sample59 sample60\n",
       "1110020A21Rik  71       93       79      145      139      107     \n",
       "1500015L24Rik 233      138      260      366      248      328     \n",
       "1600020E01Rik 217      252      195      297      267      261     \n",
       "1700019D03Rik 284      383      379      596      555      554     \n",
       "1700086O06Rik  27       40       38       67       28       65     \n",
       "2010107G23Rik 140      175      152      208      259      243     "
      ]
     },
     "metadata": {},
     "output_type": "display_data"
    },
    {
     "data": {
      "text/html": [
       "216"
      ],
      "text/latex": [
       "216"
      ],
      "text/markdown": [
       "216"
      ],
      "text/plain": [
       "[1] 216"
      ]
     },
     "metadata": {},
     "output_type": "display_data"
    },
    {
     "data": {
      "text/html": [
       "<table class=\"dataframe\">\n",
       "<caption>A matrix: 6 × 6 of type dbl</caption>\n",
       "<thead>\n",
       "\t<tr><th></th><th scope=col>sample43</th><th scope=col>sample44</th><th scope=col>sample45</th><th scope=col>sample58</th><th scope=col>sample59</th><th scope=col>sample60</th></tr>\n",
       "</thead>\n",
       "<tbody>\n",
       "\t<tr><th scope=row>1810041L15Rik</th><td> 91</td><td> 58</td><td>119</td><td>82</td><td>77</td><td>97</td></tr>\n",
       "\t<tr><th scope=row>3110035E14Rik</th><td> 28</td><td> 13</td><td> 18</td><td>59</td><td>14</td><td>32</td></tr>\n",
       "\t<tr><th scope=row>4930452G13Rik</th><td> 69</td><td> 41</td><td> 59</td><td>75</td><td>81</td><td>51</td></tr>\n",
       "\t<tr><th scope=row>9630013A20Rik</th><td> 15</td><td>  9</td><td>  6</td><td> 0</td><td>13</td><td> 1</td></tr>\n",
       "\t<tr><th scope=row>A930006I01Rik</th><td>  2</td><td>  0</td><td>  5</td><td> 5</td><td> 2</td><td> 0</td></tr>\n",
       "\t<tr><th scope=row>Abhd2</th><td>277</td><td>213</td><td>306</td><td>67</td><td>89</td><td>70</td></tr>\n",
       "</tbody>\n",
       "</table>\n"
      ],
      "text/latex": [
       "A matrix: 6 × 6 of type dbl\n",
       "\\begin{tabular}{r|llllll}\n",
       "  & sample43 & sample44 & sample45 & sample58 & sample59 & sample60\\\\\n",
       "\\hline\n",
       "\t1810041L15Rik &  91 &  58 & 119 & 82 & 77 & 97\\\\\n",
       "\t3110035E14Rik &  28 &  13 &  18 & 59 & 14 & 32\\\\\n",
       "\t4930452G13Rik &  69 &  41 &  59 & 75 & 81 & 51\\\\\n",
       "\t9630013A20Rik &  15 &   9 &   6 &  0 & 13 &  1\\\\\n",
       "\tA930006I01Rik &   2 &   0 &   5 &  5 &  2 &  0\\\\\n",
       "\tAbhd2 & 277 & 213 & 306 & 67 & 89 & 70\\\\\n",
       "\\end{tabular}\n"
      ],
      "text/markdown": [
       "\n",
       "A matrix: 6 × 6 of type dbl\n",
       "\n",
       "| <!--/--> | sample43 | sample44 | sample45 | sample58 | sample59 | sample60 |\n",
       "|---|---|---|---|---|---|---|\n",
       "| 1810041L15Rik |  91 |  58 | 119 | 82 | 77 | 97 |\n",
       "| 3110035E14Rik |  28 |  13 |  18 | 59 | 14 | 32 |\n",
       "| 4930452G13Rik |  69 |  41 |  59 | 75 | 81 | 51 |\n",
       "| 9630013A20Rik |  15 |   9 |   6 |  0 | 13 |  1 |\n",
       "| A930006I01Rik |   2 |   0 |   5 |  5 |  2 |  0 |\n",
       "| Abhd2 | 277 | 213 | 306 | 67 | 89 | 70 |\n",
       "\n"
      ],
      "text/plain": [
       "              sample43 sample44 sample45 sample58 sample59 sample60\n",
       "1810041L15Rik  91       58      119      82       77       97      \n",
       "3110035E14Rik  28       13       18      59       14       32      \n",
       "4930452G13Rik  69       41       59      75       81       51      \n",
       "9630013A20Rik  15        9        6       0       13        1      \n",
       "A930006I01Rik   2        0        5       5        2        0      \n",
       "Abhd2         277      213      306      67       89       70      "
      ]
     },
     "metadata": {},
     "output_type": "display_data"
    },
    {
     "data": {
      "text/html": [
       "176"
      ],
      "text/latex": [
       "176"
      ],
      "text/markdown": [
       "176"
      ],
      "text/plain": [
       "[1] 176"
      ]
     },
     "metadata": {},
     "output_type": "display_data"
    }
   ],
   "source": [
    "# Compare 12mo WT and 12mo AD astrocytes\n",
    "# Of the identified age-up and age-down genes, how many are significantly upregulated or downregulated\n",
    "# in AD counterparts?\n",
    "\n",
    "# Filter for only 12mo WT and 12mo AD astrocyte samples\n",
    "colsA <- c(43:45, 58:60)\n",
    "astro12 <- txi$counts[,colsA]\n",
    "head(astro12)\n",
    "\n",
    "# Filter for only age-up genes\n",
    "mat_upA <- subset(astro12, row.names(astro12) %in% DEG_upA)\n",
    "head(mat_upA)\n",
    "nrow(mat_upA)\n",
    "\n",
    "# Filter for only age-down genes\n",
    "mat_downA <- subset(astro12, row.names(astro12) %in% DEG_downA)\n",
    "head(mat_downA)\n",
    "nrow(mat_downA)"
   ]
  },
  {
   "cell_type": "code",
   "execution_count": 31,
   "id": "16df33ef",
   "metadata": {},
   "outputs": [
    {
     "data": {
      "text/html": [
       "<table class=\"dataframe\">\n",
       "<caption>A data.frame: 6 × 1</caption>\n",
       "<thead>\n",
       "\t<tr><th></th><th scope=col>condition12</th></tr>\n",
       "\t<tr><th></th><th scope=col>&lt;fct&gt;</th></tr>\n",
       "</thead>\n",
       "<tbody>\n",
       "\t<tr><th scope=row>sample43</th><td>WT</td></tr>\n",
       "\t<tr><th scope=row>sample44</th><td>WT</td></tr>\n",
       "\t<tr><th scope=row>sample45</th><td>WT</td></tr>\n",
       "\t<tr><th scope=row>sample58</th><td>AD</td></tr>\n",
       "\t<tr><th scope=row>sample59</th><td>AD</td></tr>\n",
       "\t<tr><th scope=row>sample60</th><td>AD</td></tr>\n",
       "</tbody>\n",
       "</table>\n"
      ],
      "text/latex": [
       "A data.frame: 6 × 1\n",
       "\\begin{tabular}{r|l}\n",
       "  & condition12\\\\\n",
       "  & <fct>\\\\\n",
       "\\hline\n",
       "\tsample43 & WT\\\\\n",
       "\tsample44 & WT\\\\\n",
       "\tsample45 & WT\\\\\n",
       "\tsample58 & AD\\\\\n",
       "\tsample59 & AD\\\\\n",
       "\tsample60 & AD\\\\\n",
       "\\end{tabular}\n"
      ],
      "text/markdown": [
       "\n",
       "A data.frame: 6 × 1\n",
       "\n",
       "| <!--/--> | condition12 &lt;fct&gt; |\n",
       "|---|---|\n",
       "| sample43 | WT |\n",
       "| sample44 | WT |\n",
       "| sample45 | WT |\n",
       "| sample58 | AD |\n",
       "| sample59 | AD |\n",
       "| sample60 | AD |\n",
       "\n"
      ],
      "text/plain": [
       "         condition12\n",
       "sample43 WT         \n",
       "sample44 WT         \n",
       "sample45 WT         \n",
       "sample58 AD         \n",
       "sample59 AD         \n",
       "sample60 AD         "
      ]
     },
     "metadata": {},
     "output_type": "display_data"
    }
   ],
   "source": [
    "strain <- factor(rep(c(\"WT\", \"AD\"), each = 3))\n",
    "# Change levels so that WT is reference\n",
    "strain <- factor(strain, levels = c(\"WT\", \"AD\"))\n",
    "\n",
    "labels12 <- data.frame(condition12 = strain, row.names = colnames(astro12))\n",
    "labels12"
   ]
  },
  {
   "cell_type": "code",
   "execution_count": 44,
   "id": "ec8c0c6c",
   "metadata": {},
   "outputs": [
    {
     "name": "stderr",
     "output_type": "stream",
     "text": [
      "converting counts to integer mode\n",
      "\n",
      "estimating size factors\n",
      "\n",
      "estimating dispersions\n",
      "\n",
      "gene-wise dispersion estimates\n",
      "\n",
      "mean-dispersion relationship\n",
      "\n",
      "final dispersion estimates\n",
      "\n",
      "fitting model and testing\n",
      "\n",
      "using 'apeglm' for LFC shrinkage. If used in published research, please cite:\n",
      "    Zhu, A., Ibrahim, J.G., Love, M.I. (2018) Heavy-tailed prior distributions for\n",
      "    sequence count data: removing the noise and preserving large differences.\n",
      "    Bioinformatics. https://doi.org/10.1093/bioinformatics/bty895\n",
      "\n"
     ]
    }
   ],
   "source": [
    "# Pairwise comparison of age-up genes between 12mo WT and 12mo AD astrocytes\n",
    "ddsA12_up <- DESeqDataSetFromMatrix(countData = round(mat_upA), colData = labels12, design = ~ condition12)\n",
    "ddsA12_up <- DESeq(ddsA12_up)\n",
    "resA12_up <- lfcShrink(ddsA12_up, coef=\"condition12_AD_vs_WT\", type=\"apeglm\")"
   ]
  },
  {
   "cell_type": "code",
   "execution_count": 48,
   "id": "eb8119c2",
   "metadata": {},
   "outputs": [
    {
     "data": {
      "text/plain": [
       "log2 fold change (MAP): condition12 AD vs WT \n",
       "Wald test p-value: condition12 AD vs WT \n",
       "DataFrame with 13 rows and 5 columns\n",
       "               baseMean log2FoldChange     lfcSE      pvalue        padj\n",
       "              <numeric>      <numeric> <numeric>   <numeric>   <numeric>\n",
       "4932438H23Rik  215.9995       0.781206  0.191779 5.83563e-06  0.00011459\n",
       "Chil1          639.2688       0.664475  0.222364 4.12783e-04  0.00495340\n",
       "Cpa2           127.1194       0.530634  0.247702 6.21929e-03  0.03951076\n",
       "Cyb5r2          71.6381       0.739960  0.421122 6.69863e-03  0.04134013\n",
       "Gm21149         62.1365       1.561305  0.492752 7.73799e-05  0.00110566\n",
       "...                 ...            ...       ...         ...         ...\n",
       "Ppp1r17         46.7012       0.943119  0.571772 5.17463e-03 3.72574e-02\n",
       "Pvalb          135.3085       2.251804  0.265894 1.58860e-18 3.43138e-16\n",
       "Rnase4        1798.9324       0.693588  0.175098 1.12497e-05 1.86918e-04\n",
       "Slirp         1165.7297       0.690041  0.140736 1.48391e-07 4.00656e-06\n",
       "Sncg           549.3251       0.683540  0.209648 1.61250e-04 2.04883e-03"
      ]
     },
     "metadata": {},
     "output_type": "display_data"
    },
    {
     "data": {
      "text/plain": [
       "log2 fold change (MAP): condition12 AD vs WT \n",
       "Wald test p-value: condition12 AD vs WT \n",
       "DataFrame with 17 rows and 5 columns\n",
       "               baseMean log2FoldChange     lfcSE      pvalue        padj\n",
       "              <numeric>      <numeric> <numeric>   <numeric>   <numeric>\n",
       "3110070M22Rik   30.6173      -1.177425  0.689927 3.40400e-03 2.72320e-02\n",
       "BC024139       128.0964      -0.644246  0.269332 2.23200e-03 2.04049e-02\n",
       "Dbp            458.2480      -0.627673  0.259603 2.26721e-03 2.04049e-02\n",
       "Ddx23          218.1693      -1.346375  0.246116 3.10549e-09 1.34157e-07\n",
       "Fos           6926.8590      -1.371657  0.205359 1.67275e-12 1.80657e-10\n",
       "...                 ...            ...       ...         ...         ...\n",
       "Klhdc8a         168.435      -1.025645  0.201232 3.08989e-08 9.53451e-07\n",
       "Lefty1          271.656      -0.554827  0.200317 1.11523e-03 1.20445e-02\n",
       "Nbl1           1813.991      -0.777113  0.205127 1.82093e-05 2.80944e-04\n",
       "Pcsk1n         2559.874      -0.986681  0.164301 1.70664e-10 9.21587e-09\n",
       "Slc25a48        105.613      -1.155241  0.297796 7.51682e-06 1.35303e-04"
      ]
     },
     "metadata": {},
     "output_type": "display_data"
    }
   ],
   "source": [
    "# age-up genes significantly upregulated in AD\n",
    "upWT_upAD <- filterUp(resA12_up)\n",
    "# age-down genes significantly downregulated in AD\n",
    "upWT_downAD <- filterDown(resA12_up)\n",
    "\n",
    "upWT_upAD\n",
    "upWT_downAD"
   ]
  },
  {
   "cell_type": "code",
   "execution_count": 49,
   "id": "a3b56098",
   "metadata": {},
   "outputs": [
    {
     "name": "stderr",
     "output_type": "stream",
     "text": [
      "converting counts to integer mode\n",
      "\n",
      "estimating size factors\n",
      "\n",
      "estimating dispersions\n",
      "\n",
      "gene-wise dispersion estimates\n",
      "\n",
      "mean-dispersion relationship\n",
      "\n",
      "final dispersion estimates\n",
      "\n",
      "fitting model and testing\n",
      "\n",
      "using 'apeglm' for LFC shrinkage. If used in published research, please cite:\n",
      "    Zhu, A., Ibrahim, J.G., Love, M.I. (2018) Heavy-tailed prior distributions for\n",
      "    sequence count data: removing the noise and preserving large differences.\n",
      "    Bioinformatics. https://doi.org/10.1093/bioinformatics/bty895\n",
      "\n"
     ]
    }
   ],
   "source": [
    "# Pairwise comparison of age-down genes between 12mo WT and 12mo AD astrocytes\n",
    "ddsA12_down <- DESeqDataSetFromMatrix(countData = round(mat_downA), colData = labels12, design = ~ condition12)\n",
    "ddsA12_down <- DESeq(ddsA12_down)\n",
    "resA12_down <- lfcShrink(ddsA12_down, coef=\"condition12_AD_vs_WT\", type=\"apeglm\")"
   ]
  },
  {
   "cell_type": "code",
   "execution_count": 50,
   "id": "1555f2cc",
   "metadata": {},
   "outputs": [
    {
     "data": {
      "text/plain": [
       "log2 fold change (MAP): condition12 AD vs WT \n",
       "Wald test p-value: condition12 AD vs WT \n",
       "DataFrame with 13 rows and 5 columns\n",
       "          baseMean log2FoldChange     lfcSE      pvalue        padj\n",
       "         <numeric>      <numeric> <numeric>   <numeric>   <numeric>\n",
       "Btbd16     68.1759       1.152964  0.327123 3.23475e-05 4.37936e-04\n",
       "Eml1     1991.4840       0.553053  0.154630 8.36331e-05 9.81295e-04\n",
       "Lhfpl3     60.1025       0.869631  0.328595 7.74256e-04 5.92474e-03\n",
       "Nrep      272.5589       0.841317  0.175966 2.20407e-07 9.69791e-06\n",
       "Panx1      31.7773       0.937625  0.428440 2.14891e-03 1.26069e-02\n",
       "...            ...            ...       ...         ...         ...\n",
       "Sh3gl3   1724.0930       0.524401  0.128573 1.23112e-05 1.96980e-04\n",
       "Synpr     267.5257       0.998844  0.226210 9.81378e-07 2.87871e-05\n",
       "Tmem178    59.0958       0.823435  0.317145 9.74440e-04 6.77748e-03\n",
       "Tspan2  18013.8700       0.639563  0.191325 1.58681e-04 1.55155e-03\n",
       "Ugt8a   10470.5232       0.587218  0.158689 4.68586e-05 5.89080e-04"
      ]
     },
     "metadata": {},
     "output_type": "display_data"
    },
    {
     "data": {
      "text/plain": [
       "log2 fold change (MAP): condition12 AD vs WT \n",
       "Wald test p-value: condition12 AD vs WT \n",
       "DataFrame with 22 rows and 5 columns\n",
       "         baseMean log2FoldChange     lfcSE      pvalue        padj\n",
       "        <numeric>      <numeric> <numeric>   <numeric>   <numeric>\n",
       "Abhd2    161.4804      -1.543099  0.228086 8.96472e-13 1.57779e-10\n",
       "Adcy4     93.7064      -0.689970  0.311176 3.33935e-03 1.78099e-02\n",
       "Adgrl2   210.8423      -0.594234  0.219572 1.27978e-03 8.04430e-03\n",
       "Afap1l1  661.4518      -0.515967  0.172196 6.95752e-04 5.56601e-03\n",
       "Ankrd52   72.9393      -1.318017  0.334363 5.34396e-06 1.00835e-04\n",
       "...           ...            ...       ...         ...         ...\n",
       "Ptpn23   196.2507      -0.848397  0.203867 3.75826e-06 9.44935e-05\n",
       "Ret       10.4724      -1.525654  0.995233 3.98598e-03 2.06333e-02\n",
       "Sipa1l3  102.7361      -0.519752  0.264386 1.03621e-02 4.77569e-02\n",
       "Slc45a3  155.5935      -0.595633  0.209541 8.64349e-04 6.33856e-03\n",
       "Spock2  1209.9889      -0.894946  0.450739 3.32890e-03 1.78099e-02"
      ]
     },
     "metadata": {},
     "output_type": "display_data"
    }
   ],
   "source": [
    "# age-down genes significantly upregulated in AD\n",
    "downWT_upAD <- filterUp(resA12_down)\n",
    "# age-down genes signficantly downregulated in AD\n",
    "downWT_downAD <- filterDown(resA12_down)\n",
    "\n",
    "downWT_upAD\n",
    "downWT_downAD"
   ]
  }
 ],
 "metadata": {
  "kernelspec": {
   "display_name": "R",
   "language": "R",
   "name": "ir"
  },
  "language_info": {
   "codemirror_mode": "r",
   "file_extension": ".r",
   "mimetype": "text/x-r-source",
   "name": "R",
   "pygments_lexer": "r",
   "version": "4.1.1"
  }
 },
 "nbformat": 4,
 "nbformat_minor": 5
}
